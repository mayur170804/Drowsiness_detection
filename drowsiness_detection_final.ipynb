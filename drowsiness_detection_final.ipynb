{
 "cells": [
  {
   "cell_type": "code",
   "execution_count": 1,
   "id": "f41988b7-4573-4673-8693-b301063ab4d2",
   "metadata": {},
   "outputs": [],
   "source": [
    "import torch\n",
    "from matplotlib import pyplot as plt\n",
    "import numpy as np\n",
    "import cv2"
   ]
  },
  {
   "cell_type": "code",
   "execution_count": 2,
   "id": "986b6002-4c9b-4633-a87b-87042337ec90",
   "metadata": {},
   "outputs": [
    {
     "name": "stderr",
     "output_type": "stream",
     "text": [
      "Using cache found in C:\\Users\\Rakshitha/.cache\\torch\\hub\\ultralytics_yolov5_master\n",
      "YOLOv5  2025-2-27 Python-3.10.9 torch-2.6.0+cu126 CPU\n",
      "\n",
      "Fusing layers... \n",
      "YOLOv5s summary: 213 layers, 7225885 parameters, 0 gradients, 16.4 GFLOPs\n",
      "Adding AutoShape... \n"
     ]
    }
   ],
   "source": [
    "model = torch.hub.load('ultralytics/yolov5','yolov5s')"
   ]
  },
  {
   "cell_type": "code",
   "execution_count": null,
   "id": "9888cda7-4a43-4fca-a1f5-26f000ccb607",
   "metadata": {},
   "outputs": [],
   "source": [
    "img = 'https://ultralytics.com/images/zidane.jpg'"
   ]
  },
  {
   "cell_type": "code",
   "execution_count": null,
   "id": "c496c5f1-16c3-4ade-b2a9-3321433573f6",
   "metadata": {},
   "outputs": [],
   "source": [
    "results = model(img)\n",
    "results.print()"
   ]
  },
  {
   "cell_type": "code",
   "execution_count": null,
   "id": "3e195ba1-c540-4a31-bf0f-55c65ee83922",
   "metadata": {},
   "outputs": [],
   "source": [
    "results.render()"
   ]
  },
  {
   "cell_type": "code",
   "execution_count": null,
   "id": "64b1d48e-23b7-4a24-8543-6f019111e9d9",
   "metadata": {},
   "outputs": [],
   "source": [
    "cap = cv2.VideoCapture(0)\n",
    "while cap.isOpened():\n",
    "    ret, frame = cap.read() \n",
    "    cv2.imshow('YOLO' , frame)\n",
    "\n",
    "    results = model(frame)\n",
    "    \n",
    "\n",
    "    if cv2.waitKey(10) & 0xFF == ord('q'):\n",
    "        break\n",
    "cap.release()\n",
    "cv2.destroyAllWindows()"
   ]
  },
  {
   "cell_type": "code",
   "execution_count": 2,
   "id": "4b8844bb-896b-46d9-9243-0705236b9bf3",
   "metadata": {},
   "outputs": [],
   "source": [
    "import uuid\n",
    "import os\n",
    "import time\n",
    "import cv2"
   ]
  },
  {
   "cell_type": "code",
   "execution_count": null,
   "id": "91a83395-5f4d-4adb-bef1-e2520d4cdd51",
   "metadata": {},
   "outputs": [],
   "source": [
    "IMAGES_PATH = os.path.join('data','images')\n",
    "labels = ['awake','drowsy']\n",
    "number_imgs = 20"
   ]
  },
  {
   "cell_type": "code",
   "execution_count": null,
   "id": "cc756cb8-c206-49d0-a744-86f52003a432",
   "metadata": {},
   "outputs": [],
   "source": [
    "!git clone https://github.com/tzutalin/labelImg"
   ]
  },
  {
   "cell_type": "code",
   "execution_count": null,
   "id": "b624ff15-3da2-476f-8140-6c1e92699581",
   "metadata": {},
   "outputs": [],
   "source": [
    "pip install PyQt5"
   ]
  },
  {
   "cell_type": "code",
   "execution_count": null,
   "id": "77a6105f-19eb-4c39-96ed-2b3f330f1860",
   "metadata": {},
   "outputs": [],
   "source": [
    "pip install sip"
   ]
  },
  {
   "cell_type": "code",
   "execution_count": null,
   "id": "45745c82-fdb2-4276-8c99-32e6ffe10a18",
   "metadata": {},
   "outputs": [],
   "source": [
    "!cd yolov5 && python train.py --img 320 --batch 16 --epochs 5 --data dataset.yml --weights yolov5s.pt "
   ]
  },
  {
   "cell_type": "code",
   "execution_count": null,
   "id": "769f5be5-7a1a-4e57-8b74-d268674805bc",
   "metadata": {},
   "outputs": [],
   "source": [
    "model = torch.hub.load('ultralytics'/yol\n",
    "ov5','custom',path='C:/Users/Rakshitha/yolov5/runs/train/exp2/weights/last.pt',force_reload = True)"
   ]
  },
  {
   "cell_type": "code",
   "execution_count": 4,
   "id": "ac11aee0-cb8c-45a1-88af-752f7eb115c7",
   "metadata": {},
   "outputs": [
    {
     "ename": "ImportError",
     "evalue": "cannot import name 'yolov5' from 'yolov5' (unknown location)",
     "output_type": "error",
     "traceback": [
      "\u001b[1;31m---------------------------------------------------------------------------\u001b[0m",
      "\u001b[1;31mImportError\u001b[0m                               Traceback (most recent call last)",
      "Cell \u001b[1;32mIn[4], line 6\u001b[0m\n\u001b[0;32m      4\u001b[0m \u001b[38;5;28;01mimport\u001b[39;00m\u001b[38;5;250m \u001b[39m\u001b[38;5;21;01mcv2\u001b[39;00m\n\u001b[0;32m      5\u001b[0m \u001b[38;5;28;01mimport\u001b[39;00m\u001b[38;5;250m \u001b[39m\u001b[38;5;21;01mos\u001b[39;00m\n\u001b[1;32m----> 6\u001b[0m \u001b[38;5;28;01mfrom\u001b[39;00m\u001b[38;5;250m \u001b[39m\u001b[38;5;21;01myolov5\u001b[39;00m\u001b[38;5;250m \u001b[39m\u001b[38;5;28;01mimport\u001b[39;00m yolov5  \u001b[38;5;66;03m# Import the YOLOv5 class correctly\u001b[39;00m\n",
      "\u001b[1;31mImportError\u001b[0m: cannot import name 'yolov5' from 'yolov5' (unknown location)"
     ]
    }
   ],
   "source": [
    "import torch\n",
    "from matplotlib import pyplot as plt\n",
    "import numpy as np\n",
    "import cv2\n",
    "import os\n",
    "from yolov5 import yolov5  # Import the YOLOv5 class correctly\n"
   ]
  },
  {
   "cell_type": "code",
   "execution_count": null,
   "id": "1c55c50e-c433-4504-9c45-10b553526eef",
   "metadata": {},
   "outputs": [],
   "source": [
    "model = torch.hub.load('ultralytics/yolov5' , 'custom' , path = 'yolov5/runs/train/exp2/weights/last.pt' , force_reload = True)"
   ]
  },
  {
   "cell_type": "code",
   "execution_count": null,
   "id": "2cb6227e-2daf-4c0d-bd81-918cd01b9e6d",
   "metadata": {},
   "outputs": [],
   "source": [
    "\n",
    "img = os.path.join('data' , 'images' ,'train', 'awake.a0cf7f0e-f128-11ef-bd33-f20e2f310086.jpg')"
   ]
  },
  {
   "cell_type": "code",
   "execution_count": null,
   "id": "854d855d-7ab7-4e4b-b5bb-438da008a279",
   "metadata": {},
   "outputs": [],
   "source": [
    "img = 'C:/Users/Rakshitha/yolov5/data/images/val/awake.a3393f78-f128-11ef-8a35-f20e2f310086.jpg'\n"
   ]
  },
  {
   "cell_type": "code",
   "execution_count": null,
   "id": "f1189791-9d18-41db-9af4-9b064a96f900",
   "metadata": {},
   "outputs": [],
   "source": [
    "results = model(img)\n",
    "results.print()"
   ]
  },
  {
   "cell_type": "code",
   "execution_count": 5,
   "id": "eb0e402a-cfbb-4563-b681-e1aa126efb19",
   "metadata": {},
   "outputs": [
    {
     "name": "stderr",
     "output_type": "stream",
     "text": [
      "Downloading: \"https://github.com/ultralytics/yolov5/zipball/master\" to C:\\Users\\Rakshitha/.cache\\torch\\hub\\master.zip\n",
      "YOLOv5  2025-2-27 Python-3.10.9 torch-2.6.0+cu126 CPU\n",
      "\n",
      "Fusing layers... \n",
      "Model summary: 157 layers, 7015519 parameters, 0 gradients, 15.8 GFLOPs\n",
      "Adding AutoShape... \n"
     ]
    }
   ],
   "source": [
    "model = torch.hub.load('ultralytics/yolov5' , 'custom' , path = 'yolov5/runs/train/exp2/weights/last.pt' , force_reload = True)"
   ]
  },
  {
   "cell_type": "code",
   "execution_count": 6,
   "id": "5b11e5ce-63e0-4547-af4e-d7bd91424224",
   "metadata": {},
   "outputs": [
    {
     "name": "stderr",
     "output_type": "stream",
     "text": [
      "C:\\Users\\Rakshitha/.cache\\torch\\hub\\ultralytics_yolov5_master\\models\\common.py:894: FutureWarning: `torch.cuda.amp.autocast(args...)` is deprecated. Please use `torch.amp.autocast('cuda', args...)` instead.\n",
      "  with amp.autocast(autocast):\n",
      "C:\\Users\\Rakshitha/.cache\\torch\\hub\\ultralytics_yolov5_master\\models\\common.py:894: FutureWarning: `torch.cuda.amp.autocast(args...)` is deprecated. Please use `torch.amp.autocast('cuda', args...)` instead.\n",
      "  with amp.autocast(autocast):\n",
      "C:\\Users\\Rakshitha/.cache\\torch\\hub\\ultralytics_yolov5_master\\models\\common.py:894: FutureWarning: `torch.cuda.amp.autocast(args...)` is deprecated. Please use `torch.amp.autocast('cuda', args...)` instead.\n",
      "  with amp.autocast(autocast):\n",
      "C:\\Users\\Rakshitha/.cache\\torch\\hub\\ultralytics_yolov5_master\\models\\common.py:894: FutureWarning: `torch.cuda.amp.autocast(args...)` is deprecated. Please use `torch.amp.autocast('cuda', args...)` instead.\n",
      "  with amp.autocast(autocast):\n",
      "C:\\Users\\Rakshitha/.cache\\torch\\hub\\ultralytics_yolov5_master\\models\\common.py:894: FutureWarning: `torch.cuda.amp.autocast(args...)` is deprecated. Please use `torch.amp.autocast('cuda', args...)` instead.\n",
      "  with amp.autocast(autocast):\n",
      "C:\\Users\\Rakshitha/.cache\\torch\\hub\\ultralytics_yolov5_master\\models\\common.py:894: FutureWarning: `torch.cuda.amp.autocast(args...)` is deprecated. Please use `torch.amp.autocast('cuda', args...)` instead.\n",
      "  with amp.autocast(autocast):\n",
      "C:\\Users\\Rakshitha/.cache\\torch\\hub\\ultralytics_yolov5_master\\models\\common.py:894: FutureWarning: `torch.cuda.amp.autocast(args...)` is deprecated. Please use `torch.amp.autocast('cuda', args...)` instead.\n",
      "  with amp.autocast(autocast):\n",
      "C:\\Users\\Rakshitha/.cache\\torch\\hub\\ultralytics_yolov5_master\\models\\common.py:894: FutureWarning: `torch.cuda.amp.autocast(args...)` is deprecated. Please use `torch.amp.autocast('cuda', args...)` instead.\n",
      "  with amp.autocast(autocast):\n",
      "C:\\Users\\Rakshitha/.cache\\torch\\hub\\ultralytics_yolov5_master\\models\\common.py:894: FutureWarning: `torch.cuda.amp.autocast(args...)` is deprecated. Please use `torch.amp.autocast('cuda', args...)` instead.\n",
      "  with amp.autocast(autocast):\n",
      "C:\\Users\\Rakshitha/.cache\\torch\\hub\\ultralytics_yolov5_master\\models\\common.py:894: FutureWarning: `torch.cuda.amp.autocast(args...)` is deprecated. Please use `torch.amp.autocast('cuda', args...)` instead.\n",
      "  with amp.autocast(autocast):\n",
      "C:\\Users\\Rakshitha/.cache\\torch\\hub\\ultralytics_yolov5_master\\models\\common.py:894: FutureWarning: `torch.cuda.amp.autocast(args...)` is deprecated. Please use `torch.amp.autocast('cuda', args...)` instead.\n",
      "  with amp.autocast(autocast):\n",
      "C:\\Users\\Rakshitha/.cache\\torch\\hub\\ultralytics_yolov5_master\\models\\common.py:894: FutureWarning: `torch.cuda.amp.autocast(args...)` is deprecated. Please use `torch.amp.autocast('cuda', args...)` instead.\n",
      "  with amp.autocast(autocast):\n",
      "C:\\Users\\Rakshitha/.cache\\torch\\hub\\ultralytics_yolov5_master\\models\\common.py:894: FutureWarning: `torch.cuda.amp.autocast(args...)` is deprecated. Please use `torch.amp.autocast('cuda', args...)` instead.\n",
      "  with amp.autocast(autocast):\n",
      "C:\\Users\\Rakshitha/.cache\\torch\\hub\\ultralytics_yolov5_master\\models\\common.py:894: FutureWarning: `torch.cuda.amp.autocast(args...)` is deprecated. Please use `torch.amp.autocast('cuda', args...)` instead.\n",
      "  with amp.autocast(autocast):\n",
      "C:\\Users\\Rakshitha/.cache\\torch\\hub\\ultralytics_yolov5_master\\models\\common.py:894: FutureWarning: `torch.cuda.amp.autocast(args...)` is deprecated. Please use `torch.amp.autocast('cuda', args...)` instead.\n",
      "  with amp.autocast(autocast):\n",
      "C:\\Users\\Rakshitha/.cache\\torch\\hub\\ultralytics_yolov5_master\\models\\common.py:894: FutureWarning: `torch.cuda.amp.autocast(args...)` is deprecated. Please use `torch.amp.autocast('cuda', args...)` instead.\n",
      "  with amp.autocast(autocast):\n",
      "C:\\Users\\Rakshitha/.cache\\torch\\hub\\ultralytics_yolov5_master\\models\\common.py:894: FutureWarning: `torch.cuda.amp.autocast(args...)` is deprecated. Please use `torch.amp.autocast('cuda', args...)` instead.\n",
      "  with amp.autocast(autocast):\n",
      "C:\\Users\\Rakshitha/.cache\\torch\\hub\\ultralytics_yolov5_master\\models\\common.py:894: FutureWarning: `torch.cuda.amp.autocast(args...)` is deprecated. Please use `torch.amp.autocast('cuda', args...)` instead.\n",
      "  with amp.autocast(autocast):\n",
      "C:\\Users\\Rakshitha/.cache\\torch\\hub\\ultralytics_yolov5_master\\models\\common.py:894: FutureWarning: `torch.cuda.amp.autocast(args...)` is deprecated. Please use `torch.amp.autocast('cuda', args...)` instead.\n",
      "  with amp.autocast(autocast):\n",
      "C:\\Users\\Rakshitha/.cache\\torch\\hub\\ultralytics_yolov5_master\\models\\common.py:894: FutureWarning: `torch.cuda.amp.autocast(args...)` is deprecated. Please use `torch.amp.autocast('cuda', args...)` instead.\n",
      "  with amp.autocast(autocast):\n",
      "C:\\Users\\Rakshitha/.cache\\torch\\hub\\ultralytics_yolov5_master\\models\\common.py:894: FutureWarning: `torch.cuda.amp.autocast(args...)` is deprecated. Please use `torch.amp.autocast('cuda', args...)` instead.\n",
      "  with amp.autocast(autocast):\n",
      "C:\\Users\\Rakshitha/.cache\\torch\\hub\\ultralytics_yolov5_master\\models\\common.py:894: FutureWarning: `torch.cuda.amp.autocast(args...)` is deprecated. Please use `torch.amp.autocast('cuda', args...)` instead.\n",
      "  with amp.autocast(autocast):\n",
      "C:\\Users\\Rakshitha/.cache\\torch\\hub\\ultralytics_yolov5_master\\models\\common.py:894: FutureWarning: `torch.cuda.amp.autocast(args...)` is deprecated. Please use `torch.amp.autocast('cuda', args...)` instead.\n",
      "  with amp.autocast(autocast):\n",
      "C:\\Users\\Rakshitha/.cache\\torch\\hub\\ultralytics_yolov5_master\\models\\common.py:894: FutureWarning: `torch.cuda.amp.autocast(args...)` is deprecated. Please use `torch.amp.autocast('cuda', args...)` instead.\n",
      "  with amp.autocast(autocast):\n",
      "C:\\Users\\Rakshitha/.cache\\torch\\hub\\ultralytics_yolov5_master\\models\\common.py:894: FutureWarning: `torch.cuda.amp.autocast(args...)` is deprecated. Please use `torch.amp.autocast('cuda', args...)` instead.\n",
      "  with amp.autocast(autocast):\n",
      "C:\\Users\\Rakshitha/.cache\\torch\\hub\\ultralytics_yolov5_master\\models\\common.py:894: FutureWarning: `torch.cuda.amp.autocast(args...)` is deprecated. Please use `torch.amp.autocast('cuda', args...)` instead.\n",
      "  with amp.autocast(autocast):\n",
      "C:\\Users\\Rakshitha/.cache\\torch\\hub\\ultralytics_yolov5_master\\models\\common.py:894: FutureWarning: `torch.cuda.amp.autocast(args...)` is deprecated. Please use `torch.amp.autocast('cuda', args...)` instead.\n",
      "  with amp.autocast(autocast):\n",
      "C:\\Users\\Rakshitha/.cache\\torch\\hub\\ultralytics_yolov5_master\\models\\common.py:894: FutureWarning: `torch.cuda.amp.autocast(args...)` is deprecated. Please use `torch.amp.autocast('cuda', args...)` instead.\n",
      "  with amp.autocast(autocast):\n",
      "C:\\Users\\Rakshitha/.cache\\torch\\hub\\ultralytics_yolov5_master\\models\\common.py:894: FutureWarning: `torch.cuda.amp.autocast(args...)` is deprecated. Please use `torch.amp.autocast('cuda', args...)` instead.\n",
      "  with amp.autocast(autocast):\n",
      "C:\\Users\\Rakshitha/.cache\\torch\\hub\\ultralytics_yolov5_master\\models\\common.py:894: FutureWarning: `torch.cuda.amp.autocast(args...)` is deprecated. Please use `torch.amp.autocast('cuda', args...)` instead.\n",
      "  with amp.autocast(autocast):\n",
      "C:\\Users\\Rakshitha/.cache\\torch\\hub\\ultralytics_yolov5_master\\models\\common.py:894: FutureWarning: `torch.cuda.amp.autocast(args...)` is deprecated. Please use `torch.amp.autocast('cuda', args...)` instead.\n",
      "  with amp.autocast(autocast):\n",
      "C:\\Users\\Rakshitha/.cache\\torch\\hub\\ultralytics_yolov5_master\\models\\common.py:894: FutureWarning: `torch.cuda.amp.autocast(args...)` is deprecated. Please use `torch.amp.autocast('cuda', args...)` instead.\n",
      "  with amp.autocast(autocast):\n",
      "C:\\Users\\Rakshitha/.cache\\torch\\hub\\ultralytics_yolov5_master\\models\\common.py:894: FutureWarning: `torch.cuda.amp.autocast(args...)` is deprecated. Please use `torch.amp.autocast('cuda', args...)` instead.\n",
      "  with amp.autocast(autocast):\n",
      "C:\\Users\\Rakshitha/.cache\\torch\\hub\\ultralytics_yolov5_master\\models\\common.py:894: FutureWarning: `torch.cuda.amp.autocast(args...)` is deprecated. Please use `torch.amp.autocast('cuda', args...)` instead.\n",
      "  with amp.autocast(autocast):\n",
      "C:\\Users\\Rakshitha/.cache\\torch\\hub\\ultralytics_yolov5_master\\models\\common.py:894: FutureWarning: `torch.cuda.amp.autocast(args...)` is deprecated. Please use `torch.amp.autocast('cuda', args...)` instead.\n",
      "  with amp.autocast(autocast):\n",
      "C:\\Users\\Rakshitha/.cache\\torch\\hub\\ultralytics_yolov5_master\\models\\common.py:894: FutureWarning: `torch.cuda.amp.autocast(args...)` is deprecated. Please use `torch.amp.autocast('cuda', args...)` instead.\n",
      "  with amp.autocast(autocast):\n",
      "C:\\Users\\Rakshitha/.cache\\torch\\hub\\ultralytics_yolov5_master\\models\\common.py:894: FutureWarning: `torch.cuda.amp.autocast(args...)` is deprecated. Please use `torch.amp.autocast('cuda', args...)` instead.\n",
      "  with amp.autocast(autocast):\n",
      "C:\\Users\\Rakshitha/.cache\\torch\\hub\\ultralytics_yolov5_master\\models\\common.py:894: FutureWarning: `torch.cuda.amp.autocast(args...)` is deprecated. Please use `torch.amp.autocast('cuda', args...)` instead.\n",
      "  with amp.autocast(autocast):\n",
      "C:\\Users\\Rakshitha/.cache\\torch\\hub\\ultralytics_yolov5_master\\models\\common.py:894: FutureWarning: `torch.cuda.amp.autocast(args...)` is deprecated. Please use `torch.amp.autocast('cuda', args...)` instead.\n",
      "  with amp.autocast(autocast):\n",
      "C:\\Users\\Rakshitha/.cache\\torch\\hub\\ultralytics_yolov5_master\\models\\common.py:894: FutureWarning: `torch.cuda.amp.autocast(args...)` is deprecated. Please use `torch.amp.autocast('cuda', args...)` instead.\n",
      "  with amp.autocast(autocast):\n",
      "C:\\Users\\Rakshitha/.cache\\torch\\hub\\ultralytics_yolov5_master\\models\\common.py:894: FutureWarning: `torch.cuda.amp.autocast(args...)` is deprecated. Please use `torch.amp.autocast('cuda', args...)` instead.\n",
      "  with amp.autocast(autocast):\n",
      "C:\\Users\\Rakshitha/.cache\\torch\\hub\\ultralytics_yolov5_master\\models\\common.py:894: FutureWarning: `torch.cuda.amp.autocast(args...)` is deprecated. Please use `torch.amp.autocast('cuda', args...)` instead.\n",
      "  with amp.autocast(autocast):\n",
      "C:\\Users\\Rakshitha/.cache\\torch\\hub\\ultralytics_yolov5_master\\models\\common.py:894: FutureWarning: `torch.cuda.amp.autocast(args...)` is deprecated. Please use `torch.amp.autocast('cuda', args...)` instead.\n",
      "  with amp.autocast(autocast):\n",
      "C:\\Users\\Rakshitha/.cache\\torch\\hub\\ultralytics_yolov5_master\\models\\common.py:894: FutureWarning: `torch.cuda.amp.autocast(args...)` is deprecated. Please use `torch.amp.autocast('cuda', args...)` instead.\n",
      "  with amp.autocast(autocast):\n",
      "C:\\Users\\Rakshitha/.cache\\torch\\hub\\ultralytics_yolov5_master\\models\\common.py:894: FutureWarning: `torch.cuda.amp.autocast(args...)` is deprecated. Please use `torch.amp.autocast('cuda', args...)` instead.\n",
      "  with amp.autocast(autocast):\n",
      "C:\\Users\\Rakshitha/.cache\\torch\\hub\\ultralytics_yolov5_master\\models\\common.py:894: FutureWarning: `torch.cuda.amp.autocast(args...)` is deprecated. Please use `torch.amp.autocast('cuda', args...)` instead.\n",
      "  with amp.autocast(autocast):\n",
      "C:\\Users\\Rakshitha/.cache\\torch\\hub\\ultralytics_yolov5_master\\models\\common.py:894: FutureWarning: `torch.cuda.amp.autocast(args...)` is deprecated. Please use `torch.amp.autocast('cuda', args...)` instead.\n",
      "  with amp.autocast(autocast):\n",
      "C:\\Users\\Rakshitha/.cache\\torch\\hub\\ultralytics_yolov5_master\\models\\common.py:894: FutureWarning: `torch.cuda.amp.autocast(args...)` is deprecated. Please use `torch.amp.autocast('cuda', args...)` instead.\n",
      "  with amp.autocast(autocast):\n",
      "C:\\Users\\Rakshitha/.cache\\torch\\hub\\ultralytics_yolov5_master\\models\\common.py:894: FutureWarning: `torch.cuda.amp.autocast(args...)` is deprecated. Please use `torch.amp.autocast('cuda', args...)` instead.\n",
      "  with amp.autocast(autocast):\n"
     ]
    }
   ],
   "source": [
    "cap = cv2.VideoCapture(0)\n",
    "while cap.isOpened():\n",
    "    ret, frame = cap.read() \n",
    "    cv2.imshow('YOLO' , frame)\n",
    "\n",
    "    results = model(frame)\n",
    "    \n",
    "\n",
    "    if cv2.waitKey(10) & 0xFF == ord('q'):\n",
    "        break\n",
    "cap.release()\n",
    "cv2.destroyAllWindows()"
   ]
  },
  {
   "cell_type": "code",
   "execution_count": null,
   "id": "8994075d-ce68-4fee-a9b9-1799437e3943",
   "metadata": {},
   "outputs": [],
   "source": [
    "model = yolov5(\"C:/Users/Rakshitha/yolov5/runs/train/exp2/weights/last.pt\")"
   ]
  },
  {
   "cell_type": "code",
   "execution_count": null,
   "id": "ab7f82d4-2df5-47db-8119-f98b84c42375",
   "metadata": {},
   "outputs": [],
   "source": [
    "pip install yolov5\n"
   ]
  },
  {
   "cell_type": "code",
   "execution_count": 1,
   "id": "667afcb3-5b01-4a60-80aa-65dd8a737ba4",
   "metadata": {},
   "outputs": [],
   "source": [
    "import uuid\n",
    "import os\n",
    "import time\n",
    "import cv2"
   ]
  },
  {
   "cell_type": "code",
   "execution_count": null,
   "id": "3e9b8f5a-c0aa-4a1f-9c4f-abf1943dd293",
   "metadata": {},
   "outputs": [],
   "source": [
    "import torch\n",
    "import cv2\n",
    "\n",
    "# Load the model from torch hub\n",
    "model = torch.hub.load('ultralytics/yolov5', 'yolov5s')  # Example: Load a YOLOv5 small model\n",
    "\n",
    "cap = cv2.VideoCapture(0)  # Start the webcam\n",
    "\n",
    "while cap.isOpened():\n",
    "    ret, frame = cap.read()  # Read a frame from the webcam\n",
    "    if not ret:\n",
    "        break\n",
    "\n",
    "    # Convert the frame from BGR to RGB (if needed)\n",
    "    frame_rgb = cv2.cvtColor(frame, cv2.COLOR_BGR2RGB)\n",
    "\n",
    "    # Run the model (YOLO inference)\n",
    "    results = model(frame_rgb)  # Perform inference\n",
    "\n",
    "    # Render the results\n",
    "    results.render()  # This will modify the frame with boxes\n",
    "\n",
    "    # Display the frame with detections\n",
    "    cv2.imshow('YOLO', results.imgs[0])  # Display the processed frame\n",
    "\n",
    "    # Break the loop if 'q' is pressed\n",
    "    if cv2.waitKey(1) & 0xFF == ord('q'):\n",
    "        break\n",
    "\n",
    "cap.release()  # Release the webcam\n",
    "cv2.destroyAllWindows()  # Close OpenCV windows\n"
   ]
  },
  {
   "cell_type": "code",
   "execution_count": null,
   "id": "5590691a-b6e3-4f60-89c0-5413a81e5ef7",
   "metadata": {},
   "outputs": [],
   "source": [
    "import cv2\n",
    "from yolov5 import load  # Import the load function from yolov5\n",
    "\n",
    "# Load the YOLOv5 model (using the appropriate weights)\n",
    "model = load('C:/Users/Rakshitha/yolov5/runs/train/exp2/weights/last.pt')  # Load model weights\n",
    "\n",
    "cap = cv2.VideoCapture(0)  # Start the webcam\n",
    "\n",
    "while cap.isOpened():\n",
    "    ret, frame = cap.read()  # Read a frame from the webcam\n",
    "    if not ret:\n",
    "        break\n",
    "\n",
    "    # Convert the frame from BGR to RGB (if needed for your model)\n",
    "    frame_rgb = cv2.cvtColor(frame, cv2.COLOR_BGR2RGB)\n",
    "\n",
    "    # Run the model (YOLO inference)\n",
    "    results = model(frame_rgb)  # Perform inference\n",
    "\n",
    "    # Show results: Draw bounding boxes and labels\n",
    "    results.render()  # This will modify the frame with boxes\n",
    "\n",
    "    # Display the frame with detections\n",
    "    cv2.imshow('YOLO', results.imgs[0])  # Display the frame\n",
    "\n",
    "    # Break the loop if 'q' is pressed\n",
    "    if cv2.waitKey(1) & 0xFF == ord('q'):\n",
    "        break\n",
    "\n",
    "cap.release()  # Release the webcam\n",
    "cv2.destroyAllWindows()  # Close OpenCV windows\n"
   ]
  },
  {
   "cell_type": "code",
   "execution_count": null,
   "id": "593cdb60-6d4a-4069-9dd5-9601cefc3315",
   "metadata": {},
   "outputs": [],
   "source": [
    "--user"
   ]
  },
  {
   "cell_type": "code",
   "execution_count": null,
   "id": "6f562cc8-d06c-4e46-9ff6-8b791a7f65ae",
   "metadata": {},
   "outputs": [],
   "source": [
    "import cv2\n",
    "import torch  # PyTorch module\n",
    "\n",
    "# Load the custom-trained model from the path\n",
    "model = torch.hub.load('ultralytics/yolov5', 'custom', path='C:/Users/Rakshitha/yolov5/runs/train/exp2/weights/last.pt')\n",
    "\n",
    "cap = cv2.VideoCapture(0)  # Start the webcam\n",
    "\n",
    "while cap.isOpened():\n",
    "    ret, frame = cap.read()  # Read a frame from the webcam\n",
    "    if not ret:\n",
    "        break\n",
    "\n",
    "    # Convert the frame from BGR to RGB (if needed)\n",
    "    frame_rgb = cv2.cvtColor(frame, cv2.COLOR_BGR2RGB)\n",
    "\n",
    "    # Run the model (YOLO inference)\n",
    "    results = model(frame_rgb)  # Perform inference\n",
    "\n",
    "    # Render the results: Draw bounding boxes and labels\n",
    "    results.render()  # This will modify the frame with boxes\n",
    "\n",
    "    # Display the frame with detections\n",
    "    cv2.imshow('YOLO', results.imgs[0])  # Display the frame with bounding boxes\n",
    "\n",
    "    # Break the loop if 'q' is pressed\n",
    "    if cv2.waitKey(1) & 0xFF == ord('q'):\n",
    "        break\n",
    "\n",
    "cap.release()  # Release the webcam\n",
    "cv2.destroyAllWindows()  # Close OpenCV windows\n"
   ]
  },
  {
   "cell_type": "code",
   "execution_count": 3,
   "id": "38d2b439-18a0-42f3-a5bb-b08224fa69e7",
   "metadata": {},
   "outputs": [
    {
     "name": "stderr",
     "output_type": "stream",
     "text": [
      "Using cache found in C:\\Users\\Rakshitha/.cache\\torch\\hub\\ultralytics_yolov5_master\n",
      "YOLOv5  2025-2-27 Python-3.10.9 torch-2.6.0+cu126 CPU\n",
      "\n",
      "Fusing layers... \n",
      "Model summary: 157 layers, 7015519 parameters, 0 gradients, 15.8 GFLOPs\n",
      "Adding AutoShape... \n"
     ]
    }
   ],
   "source": [
    "model = torch.hub.load('ultralytics/yolov5', 'custom', path='C:/Users/Rakshitha/yolov5/runs/train/exp2/weights/last.pt')"
   ]
  },
  {
   "cell_type": "code",
   "execution_count": null,
   "id": "06f5bff3-a830-47de-996c-43b68b765228",
   "metadata": {},
   "outputs": [],
   "source": []
  },
  {
   "cell_type": "code",
   "execution_count": null,
   "id": "45536cea-93ef-4bbc-9745-f63bf30dd4cb",
   "metadata": {},
   "outputs": [],
   "source": [
    "cap = cv2.VideoCapture(0)\n",
    "while cap.isOpened():\n",
    "    ret, frame = cap.read() \n",
    "    cv2.imshow('YOLO' , frame)\n",
    "\n",
    "    results = model(frame)\n",
    "    \n",
    "\n",
    "    if cv2.waitKey(10) & 0xFF == ord('q'):\n",
    "        break\n",
    "cap.release()\n",
    "cv2.destroyAllWindows()"
   ]
  },
  {
   "cell_type": "code",
   "execution_count": null,
   "id": "6dc2533e-0dde-4048-861f-13ff388f73bc",
   "metadata": {},
   "outputs": [],
   "source": [
    "results.render()"
   ]
  },
  {
   "cell_type": "code",
   "execution_count": 7,
   "id": "16e1939a-f02c-4ef2-8a41-aeedbfde7094",
   "metadata": {},
   "outputs": [
    {
     "name": "stderr",
     "output_type": "stream",
     "text": [
      "Using cache found in C:\\Users\\Rakshitha/.cache\\torch\\hub\\ultralytics_yolov5_master\n",
      "YOLOv5  2025-2-27 Python-3.10.9 torch-2.6.0+cu126 CPU\n",
      "\n",
      "Fusing layers... \n",
      "Model summary: 157 layers, 7015519 parameters, 0 gradients, 15.8 GFLOPs\n",
      "Adding AutoShape... \n",
      "C:\\Users\\Rakshitha/.cache\\torch\\hub\\ultralytics_yolov5_master\\models\\common.py:894: FutureWarning: `torch.cuda.amp.autocast(args...)` is deprecated. Please use `torch.amp.autocast('cuda', args...)` instead.\n",
      "  with amp.autocast(autocast):\n"
     ]
    },
    {
     "name": "stdout",
     "output_type": "stream",
     "text": [
      "[      xcenter     ycenter       width      height  confidence  class    name\n",
      "0  348.596252  298.724365  272.070679  268.892761    0.454197      1  drowsy]\n",
      "Objects detected!\n"
     ]
    },
    {
     "ename": "AttributeError",
     "evalue": "'Detections' object has no attribute 'imgs'",
     "output_type": "error",
     "traceback": [
      "\u001b[1;31m---------------------------------------------------------------------------\u001b[0m",
      "\u001b[1;31mAttributeError\u001b[0m                            Traceback (most recent call last)",
      "Cell \u001b[1;32mIn[7], line 37\u001b[0m\n\u001b[0;32m     34\u001b[0m results\u001b[38;5;241m.\u001b[39mrender()  \u001b[38;5;66;03m# This will modify the frame with boxes\u001b[39;00m\n\u001b[0;32m     36\u001b[0m \u001b[38;5;66;03m# Convert back to BGR for OpenCV to display\u001b[39;00m\n\u001b[1;32m---> 37\u001b[0m frame_bgr \u001b[38;5;241m=\u001b[39m cv2\u001b[38;5;241m.\u001b[39mcvtColor(\u001b[43mresults\u001b[49m\u001b[38;5;241;43m.\u001b[39;49m\u001b[43mimgs\u001b[49m[\u001b[38;5;241m0\u001b[39m], cv2\u001b[38;5;241m.\u001b[39mCOLOR_RGB2BGR)\n\u001b[0;32m     39\u001b[0m \u001b[38;5;66;03m# Display the frame with the detections\u001b[39;00m\n\u001b[0;32m     40\u001b[0m cv2\u001b[38;5;241m.\u001b[39mimshow(\u001b[38;5;124m'\u001b[39m\u001b[38;5;124mYOLO\u001b[39m\u001b[38;5;124m'\u001b[39m, frame_bgr)\n",
      "\u001b[1;31mAttributeError\u001b[0m: 'Detections' object has no attribute 'imgs'"
     ]
    }
   ],
   "source": [
    "import cv2\n",
    "import torch  # PyTorch for model loading\n",
    "\n",
    "# Load the YOLOv5 model (using a custom-trained model or a pre-trained model from the repository)\n",
    "model = torch.hub.load('ultralytics/yolov5', 'custom', path='C:/Users/Rakshitha/yolov5/runs/train/exp2/weights/last.pt')  # Path to custom weights\n",
    "\n",
    "# Set the model to evaluation mode (important for inference)\n",
    "model.eval()\n",
    "\n",
    "cap = cv2.VideoCapture(0)  # Start webcam capture\n",
    "\n",
    "while cap.isOpened():\n",
    "    ret, frame = cap.read()  # Read a frame from the webcam\n",
    "    if not ret:\n",
    "        print(\"Failed to grab frame\")\n",
    "        break\n",
    "\n",
    "    # Convert the frame from BGR (OpenCV format) to RGB (required by YOLO)\n",
    "    frame_rgb = cv2.cvtColor(frame, cv2.COLOR_BGR2RGB)\n",
    "\n",
    "    # Perform inference with YOLO\n",
    "    results = model(frame_rgb)  # Model inference\n",
    "\n",
    "    # Print the results to debug\n",
    "    print(results.pandas().xywh)  # Print the detected object information\n",
    "    \n",
    "    # Check if any detections were made\n",
    "    if len(results.xywh[0]) > 0:\n",
    "        print(\"Objects detected!\")\n",
    "    else:\n",
    "        print(\"No objects detected.\")\n",
    "\n",
    "    # Render results: Draw bounding boxes and labels on the frame\n",
    "    results.render()  # This will modify the frame with boxes\n",
    "\n",
    "    # Convert back to BGR for OpenCV to display\n",
    "    frame_bgr = cv2.cvtColor(results.imgs[0], cv2.COLOR_RGB2BGR)\n",
    "\n",
    "    # Display the frame with the detections\n",
    "    cv2.imshow('YOLO', frame_bgr)\n",
    "\n",
    "    # Exit the loop if the 'q' key is pressed\n",
    "    if cv2.waitKey(1) & 0xFF == ord('q'):\n",
    "        break\n",
    "\n",
    "cap.release()  # Release the webcam\n",
    "cv2.destroyAllWindows()  # Close OpenCV windows\n"
   ]
  },
  {
   "cell_type": "code",
   "execution_count": 4,
   "id": "f95cf9cf-70ea-4938-ac5f-0dc0649b2bd2",
   "metadata": {},
   "outputs": [
    {
     "name": "stderr",
     "output_type": "stream",
     "text": [
      "Using cache found in C:\\Users\\Rakshitha/.cache\\torch\\hub\\ultralytics_yolov5_master\n",
      "YOLOv5  2025-2-27 Python-3.10.9 torch-2.6.0+cu126 CPU\n",
      "\n",
      "Fusing layers... \n",
      "Model summary: 157 layers, 7015519 parameters, 0 gradients, 15.8 GFLOPs\n",
      "Adding AutoShape... \n",
      "C:\\Users\\Rakshitha/.cache\\torch\\hub\\ultralytics_yolov5_master\\models\\common.py:894: FutureWarning: `torch.cuda.amp.autocast(args...)` is deprecated. Please use `torch.amp.autocast('cuda', args...)` instead.\n",
      "  with amp.autocast(autocast):\n"
     ]
    },
    {
     "name": "stdout",
     "output_type": "stream",
     "text": [
      "[      xcenter     ycenter       width      height  confidence  class    name\n",
      "0  431.842896  233.973404  236.880524  268.620270    0.446978      1  drowsy\n",
      "1  148.634583  378.985657  251.545227  202.028717    0.436301      1  drowsy]\n",
      "Objects detected!\n"
     ]
    },
    {
     "name": "stderr",
     "output_type": "stream",
     "text": [
      "C:\\Users\\Rakshitha/.cache\\torch\\hub\\ultralytics_yolov5_master\\models\\common.py:894: FutureWarning: `torch.cuda.amp.autocast(args...)` is deprecated. Please use `torch.amp.autocast('cuda', args...)` instead.\n",
      "  with amp.autocast(autocast):\n"
     ]
    },
    {
     "name": "stdout",
     "output_type": "stream",
     "text": [
      "[      xcenter     ycenter       width      height  confidence  class    name\n",
      "0  147.941437  379.339905  263.411621  201.320190    0.566665      1  drowsy\n",
      "1  420.864868  236.561264  259.985321  282.415436    0.424877      1  drowsy]\n",
      "Objects detected!\n",
      "[      xcenter     ycenter       width      height  confidence  class    name\n",
      "0  145.599335  380.116821  261.288757  199.766357    0.530877      1  drowsy\n",
      "1  417.264771  237.317047  259.135529  282.348083    0.458389      1  drowsy]\n",
      "Objects detected!\n"
     ]
    },
    {
     "name": "stderr",
     "output_type": "stream",
     "text": [
      "C:\\Users\\Rakshitha/.cache\\torch\\hub\\ultralytics_yolov5_master\\models\\common.py:894: FutureWarning: `torch.cuda.amp.autocast(args...)` is deprecated. Please use `torch.amp.autocast('cuda', args...)` instead.\n",
      "  with amp.autocast(autocast):\n",
      "C:\\Users\\Rakshitha/.cache\\torch\\hub\\ultralytics_yolov5_master\\models\\common.py:894: FutureWarning: `torch.cuda.amp.autocast(args...)` is deprecated. Please use `torch.amp.autocast('cuda', args...)` instead.\n",
      "  with amp.autocast(autocast):\n"
     ]
    },
    {
     "name": "stdout",
     "output_type": "stream",
     "text": [
      "[      xcenter     ycenter       width      height  confidence  class    name\n",
      "0  416.418152  234.511932  237.398834  280.930603    0.461207      1  drowsy\n",
      "1  152.012970  378.025391  235.920486  203.949219    0.420305      1  drowsy]\n",
      "Objects detected!\n"
     ]
    },
    {
     "name": "stderr",
     "output_type": "stream",
     "text": [
      "C:\\Users\\Rakshitha/.cache\\torch\\hub\\ultralytics_yolov5_master\\models\\common.py:894: FutureWarning: `torch.cuda.amp.autocast(args...)` is deprecated. Please use `torch.amp.autocast('cuda', args...)` instead.\n",
      "  with amp.autocast(autocast):\n"
     ]
    },
    {
     "name": "stdout",
     "output_type": "stream",
     "text": [
      "[      xcenter     ycenter       width      height  confidence  class    name\n",
      "0  417.035889  235.848663  247.214478  286.017639    0.475957      1  drowsy\n",
      "1  151.557281  379.551453  239.138107  200.897095    0.420393      1  drowsy]\n",
      "Objects detected!\n",
      "[      xcenter     ycenter       width      height  confidence  class    name\n",
      "0  413.579041  239.576080  260.688477  274.974304    0.470366      1  drowsy\n",
      "1  153.808273  378.084595  227.566803  193.891235    0.424649      1  drowsy]\n",
      "Objects detected!\n"
     ]
    },
    {
     "name": "stderr",
     "output_type": "stream",
     "text": [
      "C:\\Users\\Rakshitha/.cache\\torch\\hub\\ultralytics_yolov5_master\\models\\common.py:894: FutureWarning: `torch.cuda.amp.autocast(args...)` is deprecated. Please use `torch.amp.autocast('cuda', args...)` instead.\n",
      "  with amp.autocast(autocast):\n",
      "C:\\Users\\Rakshitha/.cache\\torch\\hub\\ultralytics_yolov5_master\\models\\common.py:894: FutureWarning: `torch.cuda.amp.autocast(args...)` is deprecated. Please use `torch.amp.autocast('cuda', args...)` instead.\n",
      "  with amp.autocast(autocast):\n"
     ]
    },
    {
     "name": "stdout",
     "output_type": "stream",
     "text": [
      "[      xcenter     ycenter       width      height  confidence  class    name\n",
      "0  145.447144  378.123779  264.279358  203.752411    0.457891      1  drowsy\n",
      "1  413.619019  234.765778  239.510162  280.391846    0.393122      1  drowsy]\n",
      "Objects detected!\n",
      "[      xcenter     ycenter       width      height  confidence  class    name\n",
      "0  151.942841  379.047852  243.101318  201.904266    0.482444      1  drowsy\n",
      "1  414.224487  232.088806  242.516602  278.017395    0.257177      1  drowsy]\n",
      "Objects detected!\n"
     ]
    },
    {
     "name": "stderr",
     "output_type": "stream",
     "text": [
      "C:\\Users\\Rakshitha/.cache\\torch\\hub\\ultralytics_yolov5_master\\models\\common.py:894: FutureWarning: `torch.cuda.amp.autocast(args...)` is deprecated. Please use `torch.amp.autocast('cuda', args...)` instead.\n",
      "  with amp.autocast(autocast):\n",
      "C:\\Users\\Rakshitha/.cache\\torch\\hub\\ultralytics_yolov5_master\\models\\common.py:894: FutureWarning: `torch.cuda.amp.autocast(args...)` is deprecated. Please use `torch.amp.autocast('cuda', args...)` instead.\n",
      "  with amp.autocast(autocast):\n"
     ]
    },
    {
     "name": "stdout",
     "output_type": "stream",
     "text": [
      "[      xcenter     ycenter       width      height  confidence  class    name\n",
      "0  144.571533  377.014862  260.868530  205.970276    0.501874      1  drowsy\n",
      "1  414.674713  233.922974  242.361267  282.829834    0.348204      1  drowsy]\n",
      "Objects detected!\n",
      "[      xcenter     ycenter       width      height  confidence  class    name\n",
      "0  147.736633  377.560577  247.128357  204.878845    0.374484      1  drowsy]\n",
      "Objects detected!\n"
     ]
    },
    {
     "name": "stderr",
     "output_type": "stream",
     "text": [
      "C:\\Users\\Rakshitha/.cache\\torch\\hub\\ultralytics_yolov5_master\\models\\common.py:894: FutureWarning: `torch.cuda.amp.autocast(args...)` is deprecated. Please use `torch.amp.autocast('cuda', args...)` instead.\n",
      "  with amp.autocast(autocast):\n",
      "C:\\Users\\Rakshitha/.cache\\torch\\hub\\ultralytics_yolov5_master\\models\\common.py:894: FutureWarning: `torch.cuda.amp.autocast(args...)` is deprecated. Please use `torch.amp.autocast('cuda', args...)` instead.\n",
      "  with amp.autocast(autocast):\n"
     ]
    },
    {
     "name": "stdout",
     "output_type": "stream",
     "text": [
      "[      xcenter     ycenter       width      height  confidence  class    name\n",
      "0  145.544617  378.930786  233.116699  202.138458    0.430368      1  drowsy\n",
      "1  401.070801  238.227020  260.191772  281.328186    0.374247      1  drowsy]\n",
      "Objects detected!\n",
      "[      xcenter     ycenter      width      height  confidence  class    name\n",
      "0  148.357544  375.838928  253.28685  208.322113    0.474761      1  drowsy\n",
      "1  404.624359  236.912323  267.20575  294.681213    0.301290      1  drowsy]\n",
      "Objects detected!\n"
     ]
    },
    {
     "name": "stderr",
     "output_type": "stream",
     "text": [
      "C:\\Users\\Rakshitha/.cache\\torch\\hub\\ultralytics_yolov5_master\\models\\common.py:894: FutureWarning: `torch.cuda.amp.autocast(args...)` is deprecated. Please use `torch.amp.autocast('cuda', args...)` instead.\n",
      "  with amp.autocast(autocast):\n",
      "C:\\Users\\Rakshitha/.cache\\torch\\hub\\ultralytics_yolov5_master\\models\\common.py:894: FutureWarning: `torch.cuda.amp.autocast(args...)` is deprecated. Please use `torch.amp.autocast('cuda', args...)` instead.\n",
      "  with amp.autocast(autocast):\n"
     ]
    },
    {
     "name": "stdout",
     "output_type": "stream",
     "text": [
      "[      xcenter     ycenter       width      height  confidence  class    name\n",
      "0  150.158875  378.149323  239.046021  203.701355    0.438177      1  drowsy]\n",
      "Objects detected!\n",
      "[      xcenter     ycenter      width      height  confidence  class    name\n",
      "0  148.627060  378.768311  247.33078  202.463348    0.457365      1  drowsy\n",
      "1  406.692535  238.508041  266.81366  295.702118    0.313885      1  drowsy]\n",
      "Objects detected!\n"
     ]
    },
    {
     "name": "stderr",
     "output_type": "stream",
     "text": [
      "C:\\Users\\Rakshitha/.cache\\torch\\hub\\ultralytics_yolov5_master\\models\\common.py:894: FutureWarning: `torch.cuda.amp.autocast(args...)` is deprecated. Please use `torch.amp.autocast('cuda', args...)` instead.\n",
      "  with amp.autocast(autocast):\n",
      "C:\\Users\\Rakshitha/.cache\\torch\\hub\\ultralytics_yolov5_master\\models\\common.py:894: FutureWarning: `torch.cuda.amp.autocast(args...)` is deprecated. Please use `torch.amp.autocast('cuda', args...)` instead.\n",
      "  with amp.autocast(autocast):\n"
     ]
    },
    {
     "name": "stdout",
     "output_type": "stream",
     "text": [
      "[      xcenter     ycenter       width      height  confidence  class    name\n",
      "0  408.332458  236.744705  252.096802  287.335785    0.495762      1  drowsy\n",
      "1  148.321045  378.759583  253.678650  202.480865    0.453146      1  drowsy]\n",
      "Objects detected!\n"
     ]
    },
    {
     "name": "stderr",
     "output_type": "stream",
     "text": [
      "C:\\Users\\Rakshitha/.cache\\torch\\hub\\ultralytics_yolov5_master\\models\\common.py:894: FutureWarning: `torch.cuda.amp.autocast(args...)` is deprecated. Please use `torch.amp.autocast('cuda', args...)` instead.\n",
      "  with amp.autocast(autocast):\n"
     ]
    },
    {
     "name": "stdout",
     "output_type": "stream",
     "text": [
      "[      xcenter     ycenter       width      height  confidence  class    name\n",
      "0  148.668076  376.971436  257.731537  206.057159    0.547487      1  drowsy]\n",
      "Objects detected!\n"
     ]
    },
    {
     "name": "stderr",
     "output_type": "stream",
     "text": [
      "C:\\Users\\Rakshitha/.cache\\torch\\hub\\ultralytics_yolov5_master\\models\\common.py:894: FutureWarning: `torch.cuda.amp.autocast(args...)` is deprecated. Please use `torch.amp.autocast('cuda', args...)` instead.\n",
      "  with amp.autocast(autocast):\n"
     ]
    },
    {
     "name": "stdout",
     "output_type": "stream",
     "text": [
      "[      xcenter     ycenter      width      height  confidence  class    name\n",
      "0  148.208145  376.529358  216.36557  176.395752    0.515517      1  drowsy]\n",
      "Objects detected!\n"
     ]
    },
    {
     "name": "stderr",
     "output_type": "stream",
     "text": [
      "C:\\Users\\Rakshitha/.cache\\torch\\hub\\ultralytics_yolov5_master\\models\\common.py:894: FutureWarning: `torch.cuda.amp.autocast(args...)` is deprecated. Please use `torch.amp.autocast('cuda', args...)` instead.\n",
      "  with amp.autocast(autocast):\n"
     ]
    },
    {
     "name": "stdout",
     "output_type": "stream",
     "text": [
      "[      xcenter     ycenter       width      height  confidence  class    name\n",
      "0  149.170258  376.408081  254.778152  207.183838    0.524830      1  drowsy\n",
      "1  409.602753  240.231415  270.513123  309.575256    0.310028      1  drowsy]\n",
      "Objects detected!\n",
      "[      xcenter     ycenter       width      height  confidence  class    name\n",
      "0  149.933746  376.498718  249.882492  207.002594    0.431893      1  drowsy\n",
      "1  409.760071  239.873428  279.340485  325.492889    0.281926      1  drowsy]\n",
      "Objects detected!\n"
     ]
    },
    {
     "name": "stderr",
     "output_type": "stream",
     "text": [
      "C:\\Users\\Rakshitha/.cache\\torch\\hub\\ultralytics_yolov5_master\\models\\common.py:894: FutureWarning: `torch.cuda.amp.autocast(args...)` is deprecated. Please use `torch.amp.autocast('cuda', args...)` instead.\n",
      "  with amp.autocast(autocast):\n",
      "C:\\Users\\Rakshitha/.cache\\torch\\hub\\ultralytics_yolov5_master\\models\\common.py:894: FutureWarning: `torch.cuda.amp.autocast(args...)` is deprecated. Please use `torch.amp.autocast('cuda', args...)` instead.\n",
      "  with amp.autocast(autocast):\n",
      "C:\\Users\\Rakshitha/.cache\\torch\\hub\\ultralytics_yolov5_master\\models\\common.py:894: FutureWarning: `torch.cuda.amp.autocast(args...)` is deprecated. Please use `torch.amp.autocast('cuda', args...)` instead.\n",
      "  with amp.autocast(autocast):\n"
     ]
    },
    {
     "name": "stdout",
     "output_type": "stream",
     "text": [
      "[      xcenter     ycenter       width      height  confidence  class    name\n",
      "0  143.435959  376.813141  241.974579  205.477783    0.452403      1  drowsy\n",
      "1  404.932068  240.172516  269.787842  324.153992    0.296018      1  drowsy]\n",
      "Objects detected!\n",
      "[      xcenter     ycenter       width      height  confidence  class    name\n",
      "0  146.783081  378.370178  215.863159  181.737305    0.482381      1  drowsy]\n",
      "Objects detected!\n"
     ]
    },
    {
     "name": "stderr",
     "output_type": "stream",
     "text": [
      "C:\\Users\\Rakshitha/.cache\\torch\\hub\\ultralytics_yolov5_master\\models\\common.py:894: FutureWarning: `torch.cuda.amp.autocast(args...)` is deprecated. Please use `torch.amp.autocast('cuda', args...)` instead.\n",
      "  with amp.autocast(autocast):\n"
     ]
    },
    {
     "name": "stdout",
     "output_type": "stream",
     "text": [
      "[      xcenter    ycenter       width    height  confidence  class    name\n",
      "0  147.960236  375.32605  247.412964  209.3479    0.493481      1  drowsy]\n",
      "Objects detected!\n",
      "[    xcenter     ycenter       width      height  confidence  class    name\n",
      "0  151.0466  377.282776  246.778854  205.434418    0.493866      1  drowsy]\n",
      "Objects detected!\n"
     ]
    },
    {
     "name": "stderr",
     "output_type": "stream",
     "text": [
      "C:\\Users\\Rakshitha/.cache\\torch\\hub\\ultralytics_yolov5_master\\models\\common.py:894: FutureWarning: `torch.cuda.amp.autocast(args...)` is deprecated. Please use `torch.amp.autocast('cuda', args...)` instead.\n",
      "  with amp.autocast(autocast):\n",
      "C:\\Users\\Rakshitha/.cache\\torch\\hub\\ultralytics_yolov5_master\\models\\common.py:894: FutureWarning: `torch.cuda.amp.autocast(args...)` is deprecated. Please use `torch.amp.autocast('cuda', args...)` instead.\n",
      "  with amp.autocast(autocast):\n"
     ]
    },
    {
     "name": "stdout",
     "output_type": "stream",
     "text": [
      "[      xcenter     ycenter       width      height  confidence  class    name\n",
      "0  147.528107  378.292084  208.906342  179.808289    0.528612      1  drowsy]\n",
      "Objects detected!\n",
      "[      xcenter     ycenter       width      height  confidence  class    name\n",
      "0  145.846222  377.536285  204.561218  178.483337    0.453603      1  drowsy\n",
      "1  409.469696  237.413757  273.494690  292.617920    0.268236      1  drowsy]\n",
      "Objects detected!\n"
     ]
    },
    {
     "name": "stderr",
     "output_type": "stream",
     "text": [
      "C:\\Users\\Rakshitha/.cache\\torch\\hub\\ultralytics_yolov5_master\\models\\common.py:894: FutureWarning: `torch.cuda.amp.autocast(args...)` is deprecated. Please use `torch.amp.autocast('cuda', args...)` instead.\n",
      "  with amp.autocast(autocast):\n",
      "C:\\Users\\Rakshitha/.cache\\torch\\hub\\ultralytics_yolov5_master\\models\\common.py:894: FutureWarning: `torch.cuda.amp.autocast(args...)` is deprecated. Please use `torch.amp.autocast('cuda', args...)` instead.\n",
      "  with amp.autocast(autocast):\n"
     ]
    },
    {
     "name": "stdout",
     "output_type": "stream",
     "text": [
      "[      xcenter     ycenter       width      height  confidence  class    name\n",
      "0  144.375381  380.861511  222.795227  188.063599    0.509679      1  drowsy]\n",
      "Objects detected!\n",
      "[      xcenter     ycenter       width      height  confidence  class    name\n",
      "0  144.340530  377.522125  214.327911  181.561035    0.643077      1  drowsy\n",
      "1  419.863251  237.664032  227.552185  265.942322    0.370917      1  drowsy]\n",
      "Objects detected!\n"
     ]
    },
    {
     "name": "stderr",
     "output_type": "stream",
     "text": [
      "C:\\Users\\Rakshitha/.cache\\torch\\hub\\ultralytics_yolov5_master\\models\\common.py:894: FutureWarning: `torch.cuda.amp.autocast(args...)` is deprecated. Please use `torch.amp.autocast('cuda', args...)` instead.\n",
      "  with amp.autocast(autocast):\n",
      "C:\\Users\\Rakshitha/.cache\\torch\\hub\\ultralytics_yolov5_master\\models\\common.py:894: FutureWarning: `torch.cuda.amp.autocast(args...)` is deprecated. Please use `torch.amp.autocast('cuda', args...)` instead.\n",
      "  with amp.autocast(autocast):\n"
     ]
    },
    {
     "name": "stdout",
     "output_type": "stream",
     "text": [
      "[      xcenter     ycenter       width      height  confidence  class    name\n",
      "0  147.423798  376.195221  207.313721  176.808167    0.617763      1  drowsy\n",
      "1  422.797455  237.358276  223.882385  266.444336    0.339331      0   awake]\n",
      "Objects detected!\n"
     ]
    },
    {
     "name": "stderr",
     "output_type": "stream",
     "text": [
      "C:\\Users\\Rakshitha/.cache\\torch\\hub\\ultralytics_yolov5_master\\models\\common.py:894: FutureWarning: `torch.cuda.amp.autocast(args...)` is deprecated. Please use `torch.amp.autocast('cuda', args...)` instead.\n",
      "  with amp.autocast(autocast):\n"
     ]
    },
    {
     "name": "stdout",
     "output_type": "stream",
     "text": [
      "[      xcenter     ycenter       width      height  confidence  class    name\n",
      "0  144.911407  380.207123  207.402466  183.002991    0.456858      1  drowsy\n",
      "1  431.441376  266.208099  297.115906  244.348022    0.270950      1  drowsy]\n",
      "Objects detected!\n",
      "[      xcenter     ycenter       width      height  confidence  class    name\n",
      "0  148.073303  380.643982  213.247192  187.449219    0.383617      1  drowsy\n",
      "1  433.647461  241.741974  238.763214  264.872742    0.356306      1  drowsy]\n",
      "Objects detected!\n"
     ]
    },
    {
     "name": "stderr",
     "output_type": "stream",
     "text": [
      "C:\\Users\\Rakshitha/.cache\\torch\\hub\\ultralytics_yolov5_master\\models\\common.py:894: FutureWarning: `torch.cuda.amp.autocast(args...)` is deprecated. Please use `torch.amp.autocast('cuda', args...)` instead.\n",
      "  with amp.autocast(autocast):\n",
      "C:\\Users\\Rakshitha/.cache\\torch\\hub\\ultralytics_yolov5_master\\models\\common.py:894: FutureWarning: `torch.cuda.amp.autocast(args...)` is deprecated. Please use `torch.amp.autocast('cuda', args...)` instead.\n",
      "  with amp.autocast(autocast):\n"
     ]
    },
    {
     "name": "stdout",
     "output_type": "stream",
     "text": [
      "[      xcenter     ycenter       width      height  confidence  class    name\n",
      "0  148.000198  378.612701  256.040131  202.774597    0.602975      1  drowsy\n",
      "1  442.114807  247.094482  222.963898  262.422852    0.450049      1  drowsy]\n",
      "Objects detected!\n",
      "[      xcenter     ycenter       width      height  confidence  class    name\n",
      "0  145.246460  376.907928  218.271912  183.286804    0.696359      1  drowsy\n",
      "1  443.595612  251.081696  221.602600  236.931641    0.503943      1  drowsy]\n",
      "Objects detected!\n"
     ]
    },
    {
     "name": "stderr",
     "output_type": "stream",
     "text": [
      "C:\\Users\\Rakshitha/.cache\\torch\\hub\\ultralytics_yolov5_master\\models\\common.py:894: FutureWarning: `torch.cuda.amp.autocast(args...)` is deprecated. Please use `torch.amp.autocast('cuda', args...)` instead.\n",
      "  with amp.autocast(autocast):\n",
      "C:\\Users\\Rakshitha/.cache\\torch\\hub\\ultralytics_yolov5_master\\models\\common.py:894: FutureWarning: `torch.cuda.amp.autocast(args...)` is deprecated. Please use `torch.amp.autocast('cuda', args...)` instead.\n",
      "  with amp.autocast(autocast):\n"
     ]
    },
    {
     "name": "stdout",
     "output_type": "stream",
     "text": [
      "[      xcenter     ycenter       width      height  confidence  class    name\n",
      "0  151.893173  376.864319  242.491364  206.271393    0.535893      1  drowsy\n",
      "1  445.447510  258.150604  246.458038  251.355408    0.507808      1  drowsy]\n",
      "Objects detected!\n",
      "[      xcenter     ycenter       width      height  confidence  class    name\n",
      "0  148.271362  379.293732  204.550934  186.066284    0.598688      1  drowsy\n",
      "1  447.685181  254.369263  233.496216  251.750717    0.522141      1  drowsy]\n",
      "Objects detected!\n"
     ]
    },
    {
     "name": "stderr",
     "output_type": "stream",
     "text": [
      "C:\\Users\\Rakshitha/.cache\\torch\\hub\\ultralytics_yolov5_master\\models\\common.py:894: FutureWarning: `torch.cuda.amp.autocast(args...)` is deprecated. Please use `torch.amp.autocast('cuda', args...)` instead.\n",
      "  with amp.autocast(autocast):\n",
      "C:\\Users\\Rakshitha/.cache\\torch\\hub\\ultralytics_yolov5_master\\models\\common.py:894: FutureWarning: `torch.cuda.amp.autocast(args...)` is deprecated. Please use `torch.amp.autocast('cuda', args...)` instead.\n",
      "  with amp.autocast(autocast):\n"
     ]
    },
    {
     "name": "stdout",
     "output_type": "stream",
     "text": [
      "[      xcenter     ycenter       width      height  confidence  class    name\n",
      "0  451.370544  245.649078  208.734253  254.353928    0.472720      1  drowsy\n",
      "1  146.319168  374.804260  214.510406  177.838379    0.398063      1  drowsy]\n",
      "Objects detected!\n",
      "[      xcenter     ycenter       width      height  confidence  class    name\n",
      "0  448.786591  238.357727  220.247620  252.196716    0.488143      1  drowsy\n",
      "1  147.247406  375.345917  206.770813  183.237488    0.394383      1  drowsy]\n",
      "Objects detected!\n"
     ]
    },
    {
     "name": "stderr",
     "output_type": "stream",
     "text": [
      "C:\\Users\\Rakshitha/.cache\\torch\\hub\\ultralytics_yolov5_master\\models\\common.py:894: FutureWarning: `torch.cuda.amp.autocast(args...)` is deprecated. Please use `torch.amp.autocast('cuda', args...)` instead.\n",
      "  with amp.autocast(autocast):\n",
      "C:\\Users\\Rakshitha/.cache\\torch\\hub\\ultralytics_yolov5_master\\models\\common.py:894: FutureWarning: `torch.cuda.amp.autocast(args...)` is deprecated. Please use `torch.amp.autocast('cuda', args...)` instead.\n",
      "  with amp.autocast(autocast):\n"
     ]
    },
    {
     "name": "stdout",
     "output_type": "stream",
     "text": [
      "[      xcenter     ycenter      width      height  confidence  class    name\n",
      "0  445.010315  218.002686  257.16748  299.471558    0.561219      1  drowsy\n",
      "1  146.678223  364.743713  187.17746  145.641235    0.432887      1  drowsy]\n",
      "Objects detected!\n",
      "[      xcenter     ycenter       width      height  confidence  class    name\n",
      "0  150.440262  365.158600  205.167694  149.802673    0.457474      1  drowsy\n",
      "1  424.878510  205.422302  292.737000  322.014221    0.387642      0   awake]\n",
      "Objects detected!\n"
     ]
    },
    {
     "name": "stderr",
     "output_type": "stream",
     "text": [
      "C:\\Users\\Rakshitha/.cache\\torch\\hub\\ultralytics_yolov5_master\\models\\common.py:894: FutureWarning: `torch.cuda.amp.autocast(args...)` is deprecated. Please use `torch.amp.autocast('cuda', args...)` instead.\n",
      "  with amp.autocast(autocast):\n",
      "C:\\Users\\Rakshitha/.cache\\torch\\hub\\ultralytics_yolov5_master\\models\\common.py:894: FutureWarning: `torch.cuda.amp.autocast(args...)` is deprecated. Please use `torch.amp.autocast('cuda', args...)` instead.\n",
      "  with amp.autocast(autocast):\n"
     ]
    },
    {
     "name": "stdout",
     "output_type": "stream",
     "text": [
      "[      xcenter     ycenter       width      height  confidence  class    name\n",
      "0  423.721436  210.482574  305.585327  326.092896    0.505032      1  drowsy\n",
      "1  145.359406  363.918182  184.291260  140.659729    0.373828      1  drowsy]\n",
      "Objects detected!\n",
      "[      xcenter     ycenter       width      height  confidence  class    name\n",
      "0  145.753967  359.605164  170.819824  134.535828    0.613090      1  drowsy\n",
      "1  430.610168  216.084167  294.016602  316.162231    0.434169      1  drowsy]\n",
      "Objects detected!\n"
     ]
    },
    {
     "name": "stderr",
     "output_type": "stream",
     "text": [
      "C:\\Users\\Rakshitha/.cache\\torch\\hub\\ultralytics_yolov5_master\\models\\common.py:894: FutureWarning: `torch.cuda.amp.autocast(args...)` is deprecated. Please use `torch.amp.autocast('cuda', args...)` instead.\n",
      "  with amp.autocast(autocast):\n",
      "C:\\Users\\Rakshitha/.cache\\torch\\hub\\ultralytics_yolov5_master\\models\\common.py:894: FutureWarning: `torch.cuda.amp.autocast(args...)` is deprecated. Please use `torch.amp.autocast('cuda', args...)` instead.\n",
      "  with amp.autocast(autocast):\n"
     ]
    },
    {
     "name": "stdout",
     "output_type": "stream",
     "text": [
      "[      xcenter     ycenter       width      height  confidence  class    name\n",
      "0  430.904053  215.755737  283.963257  315.730469    0.450768      1  drowsy\n",
      "1  150.971542  360.066040  170.514008  136.773865    0.441965      1  drowsy]\n",
      "Objects detected!\n",
      "[      xcenter     ycenter       width      height  confidence  class    name\n",
      "0  142.329834  360.556213  166.688965  144.272644    0.517383      1  drowsy\n",
      "1  426.070862  226.452484  251.017090  334.419739    0.463935      1  drowsy]\n",
      "Objects detected!\n"
     ]
    },
    {
     "name": "stderr",
     "output_type": "stream",
     "text": [
      "C:\\Users\\Rakshitha/.cache\\torch\\hub\\ultralytics_yolov5_master\\models\\common.py:894: FutureWarning: `torch.cuda.amp.autocast(args...)` is deprecated. Please use `torch.amp.autocast('cuda', args...)` instead.\n",
      "  with amp.autocast(autocast):\n",
      "C:\\Users\\Rakshitha/.cache\\torch\\hub\\ultralytics_yolov5_master\\models\\common.py:894: FutureWarning: `torch.cuda.amp.autocast(args...)` is deprecated. Please use `torch.amp.autocast('cuda', args...)` instead.\n",
      "  with amp.autocast(autocast):\n"
     ]
    },
    {
     "name": "stdout",
     "output_type": "stream",
     "text": [
      "[      xcenter     ycenter       width      height  confidence  class    name\n",
      "0  147.706726  346.065674  127.013611  128.932983    0.827202      1  drowsy\n",
      "1  425.898682  218.240204  269.970917  308.498596    0.552166      0   awake]\n",
      "Objects detected!\n",
      "[      xcenter     ycenter       width      height  confidence  class    name\n",
      "0  150.636169  332.687653  125.668854  143.834717    0.859858      1  drowsy\n",
      "1  427.227997  219.472000  287.153992  315.518524    0.525813      1  drowsy]\n",
      "Objects detected!\n"
     ]
    },
    {
     "name": "stderr",
     "output_type": "stream",
     "text": [
      "C:\\Users\\Rakshitha/.cache\\torch\\hub\\ultralytics_yolov5_master\\models\\common.py:894: FutureWarning: `torch.cuda.amp.autocast(args...)` is deprecated. Please use `torch.amp.autocast('cuda', args...)` instead.\n",
      "  with amp.autocast(autocast):\n",
      "C:\\Users\\Rakshitha/.cache\\torch\\hub\\ultralytics_yolov5_master\\models\\common.py:894: FutureWarning: `torch.cuda.amp.autocast(args...)` is deprecated. Please use `torch.amp.autocast('cuda', args...)` instead.\n",
      "  with amp.autocast(autocast):\n"
     ]
    },
    {
     "name": "stdout",
     "output_type": "stream",
     "text": [
      "[      xcenter     ycenter       width      height  confidence  class    name\n",
      "0  149.794601  332.982544  129.808716  164.971313    0.885352      1  drowsy\n",
      "1  425.068054  216.958252  276.457275  314.085205    0.400768      0   awake\n",
      "2  427.755676  226.455505  247.863251  319.927124    0.293115      1  drowsy]\n",
      "Objects detected!\n",
      "[      xcenter     ycenter       width      height  confidence  class    name\n",
      "0  150.861694  328.507141  176.466705  197.919495    0.697640      1  drowsy\n",
      "1  424.348145  218.654907  262.816193  307.530518    0.670225      0   awake]\n",
      "Objects detected!\n"
     ]
    },
    {
     "name": "stderr",
     "output_type": "stream",
     "text": [
      "C:\\Users\\Rakshitha/.cache\\torch\\hub\\ultralytics_yolov5_master\\models\\common.py:894: FutureWarning: `torch.cuda.amp.autocast(args...)` is deprecated. Please use `torch.amp.autocast('cuda', args...)` instead.\n",
      "  with amp.autocast(autocast):\n",
      "C:\\Users\\Rakshitha/.cache\\torch\\hub\\ultralytics_yolov5_master\\models\\common.py:894: FutureWarning: `torch.cuda.amp.autocast(args...)` is deprecated. Please use `torch.amp.autocast('cuda', args...)` instead.\n",
      "  with amp.autocast(autocast):\n"
     ]
    },
    {
     "name": "stdout",
     "output_type": "stream",
     "text": [
      "[      xcenter     ycenter       width      height  confidence  class    name\n",
      "0  146.465088  328.088409  192.755615  218.134705    0.811902      1  drowsy\n",
      "1  424.230652  219.529602  278.495605  306.482544    0.593137      0   awake]\n",
      "Objects detected!\n",
      "[      xcenter     ycenter       width      height  confidence  class    name\n",
      "0  147.180298  324.598755  212.735779  234.098495    0.742782      1  drowsy\n",
      "1  430.339661  227.614410  272.676025  336.254944    0.355476      1  drowsy]\n",
      "Objects detected!\n"
     ]
    },
    {
     "name": "stderr",
     "output_type": "stream",
     "text": [
      "C:\\Users\\Rakshitha/.cache\\torch\\hub\\ultralytics_yolov5_master\\models\\common.py:894: FutureWarning: `torch.cuda.amp.autocast(args...)` is deprecated. Please use `torch.amp.autocast('cuda', args...)` instead.\n",
      "  with amp.autocast(autocast):\n",
      "C:\\Users\\Rakshitha/.cache\\torch\\hub\\ultralytics_yolov5_master\\models\\common.py:894: FutureWarning: `torch.cuda.amp.autocast(args...)` is deprecated. Please use `torch.amp.autocast('cuda', args...)` instead.\n",
      "  with amp.autocast(autocast):\n"
     ]
    },
    {
     "name": "stdout",
     "output_type": "stream",
     "text": [
      "[      xcenter    ycenter       width      height  confidence  class    name\n",
      "0  134.848267  328.95813  235.252563  251.494247    0.626676      1  drowsy\n",
      "1  425.647339  218.86412  287.256805  315.272980    0.492363      0   awake]\n",
      "Objects detected!\n",
      "[      xcenter     ycenter       width      height  confidence  class    name\n",
      "0  143.937347  307.644409  287.874695  278.368408    0.587621      1  drowsy\n",
      "1  425.023346  216.446945  278.018982  307.572784    0.474064      0   awake]\n",
      "Objects detected!\n"
     ]
    },
    {
     "name": "stderr",
     "output_type": "stream",
     "text": [
      "C:\\Users\\Rakshitha/.cache\\torch\\hub\\ultralytics_yolov5_master\\models\\common.py:894: FutureWarning: `torch.cuda.amp.autocast(args...)` is deprecated. Please use `torch.amp.autocast('cuda', args...)` instead.\n",
      "  with amp.autocast(autocast):\n",
      "C:\\Users\\Rakshitha/.cache\\torch\\hub\\ultralytics_yolov5_master\\models\\common.py:894: FutureWarning: `torch.cuda.amp.autocast(args...)` is deprecated. Please use `torch.amp.autocast('cuda', args...)` instead.\n",
      "  with amp.autocast(autocast):\n"
     ]
    },
    {
     "name": "stdout",
     "output_type": "stream",
     "text": [
      "[      xcenter     ycenter       width      height  confidence  class    name\n",
      "0  130.544342  305.767761  261.088684  275.231079     0.61229      1  drowsy]\n",
      "Objects detected!\n",
      "[      xcenter     ycenter       width      height  confidence  class    name\n",
      "0  422.205994  214.817047  253.391479  287.265076    0.679793      0   awake\n",
      "1  113.495186  306.403259  226.990372  249.759277    0.554917      1  drowsy]\n",
      "Objects detected!\n"
     ]
    },
    {
     "name": "stderr",
     "output_type": "stream",
     "text": [
      "C:\\Users\\Rakshitha/.cache\\torch\\hub\\ultralytics_yolov5_master\\models\\common.py:894: FutureWarning: `torch.cuda.amp.autocast(args...)` is deprecated. Please use `torch.amp.autocast('cuda', args...)` instead.\n",
      "  with amp.autocast(autocast):\n",
      "C:\\Users\\Rakshitha/.cache\\torch\\hub\\ultralytics_yolov5_master\\models\\common.py:894: FutureWarning: `torch.cuda.amp.autocast(args...)` is deprecated. Please use `torch.amp.autocast('cuda', args...)` instead.\n",
      "  with amp.autocast(autocast):\n"
     ]
    },
    {
     "name": "stdout",
     "output_type": "stream",
     "text": [
      "[      xcenter     ycenter       width      height  confidence  class    name\n",
      "0  419.993317  215.421616  252.235657  285.247894    0.606810      0   awake\n",
      "1  107.654099  303.114716  215.308197  244.215759    0.455822      1  drowsy]\n",
      "Objects detected!\n",
      "[      xcenter     ycenter       width      height  confidence  class    name\n",
      "0  415.862244  214.571411  247.556000  286.830688    0.588698      0   awake\n",
      "1  127.656517  301.835907  255.313034  275.852051    0.505833      1  drowsy]\n",
      "Objects detected!\n"
     ]
    },
    {
     "name": "stderr",
     "output_type": "stream",
     "text": [
      "C:\\Users\\Rakshitha/.cache\\torch\\hub\\ultralytics_yolov5_master\\models\\common.py:894: FutureWarning: `torch.cuda.amp.autocast(args...)` is deprecated. Please use `torch.amp.autocast('cuda', args...)` instead.\n",
      "  with amp.autocast(autocast):\n",
      "C:\\Users\\Rakshitha/.cache\\torch\\hub\\ultralytics_yolov5_master\\models\\common.py:894: FutureWarning: `torch.cuda.amp.autocast(args...)` is deprecated. Please use `torch.amp.autocast('cuda', args...)` instead.\n",
      "  with amp.autocast(autocast):\n"
     ]
    },
    {
     "name": "stdout",
     "output_type": "stream",
     "text": [
      "[      xcenter     ycenter       width      height  confidence  class    name\n",
      "0  111.451538  270.395935  195.356964  198.336975    0.496731      1  drowsy\n",
      "1  415.678925  213.733261  260.576721  301.607330    0.298278      0   awake]\n",
      "Objects detected!\n",
      "[      xcenter     ycenter       width      height  confidence  class    name\n",
      "0  135.812836  306.338562  271.625671  272.165894    0.422333      1  drowsy\n",
      "1  412.385773  213.485306  274.658386  315.567352    0.409588      0   awake]\n",
      "Objects detected!\n"
     ]
    },
    {
     "name": "stderr",
     "output_type": "stream",
     "text": [
      "C:\\Users\\Rakshitha/.cache\\torch\\hub\\ultralytics_yolov5_master\\models\\common.py:894: FutureWarning: `torch.cuda.amp.autocast(args...)` is deprecated. Please use `torch.amp.autocast('cuda', args...)` instead.\n",
      "  with amp.autocast(autocast):\n",
      "C:\\Users\\Rakshitha/.cache\\torch\\hub\\ultralytics_yolov5_master\\models\\common.py:894: FutureWarning: `torch.cuda.amp.autocast(args...)` is deprecated. Please use `torch.amp.autocast('cuda', args...)` instead.\n",
      "  with amp.autocast(autocast):\n"
     ]
    },
    {
     "name": "stdout",
     "output_type": "stream",
     "text": [
      "[      xcenter     ycenter       width      height  confidence  class    name\n",
      "0  136.130249  308.384705  241.579712  240.870911    0.547793      1  drowsy\n",
      "1  413.390137  214.100922  271.521729  302.012085    0.361517      0   awake\n",
      "2  124.572311  265.843140  155.718292  172.710876    0.295487      1  drowsy]\n",
      "Objects detected!\n",
      "[      xcenter     ycenter       width      height  confidence  class    name\n",
      "0  416.097290  216.975281  255.145508  302.894958    0.618921      0   awake\n",
      "1  136.185547  308.441498  238.652466  241.994827    0.578755      1  drowsy]\n",
      "Objects detected!\n"
     ]
    },
    {
     "name": "stderr",
     "output_type": "stream",
     "text": [
      "C:\\Users\\Rakshitha/.cache\\torch\\hub\\ultralytics_yolov5_master\\models\\common.py:894: FutureWarning: `torch.cuda.amp.autocast(args...)` is deprecated. Please use `torch.amp.autocast('cuda', args...)` instead.\n",
      "  with amp.autocast(autocast):\n",
      "C:\\Users\\Rakshitha/.cache\\torch\\hub\\ultralytics_yolov5_master\\models\\common.py:894: FutureWarning: `torch.cuda.amp.autocast(args...)` is deprecated. Please use `torch.amp.autocast('cuda', args...)` instead.\n",
      "  with amp.autocast(autocast):\n"
     ]
    },
    {
     "name": "stdout",
     "output_type": "stream",
     "text": [
      "[      xcenter     ycenter       width      height  confidence  class    name\n",
      "0  137.016220  308.253510  237.015564  243.951248    0.562658      1  drowsy\n",
      "1  418.301147  216.173004  255.106079  294.740173    0.441382      1  drowsy]\n",
      "Objects detected!\n",
      "[      xcenter     ycenter       width      height  confidence  class    name\n",
      "0  423.692780  231.988678  288.011658  283.710266    0.637208      1  drowsy\n",
      "1  137.470749  308.337006  233.002777  243.987000    0.545029      1  drowsy]\n",
      "Objects detected!\n"
     ]
    },
    {
     "name": "stderr",
     "output_type": "stream",
     "text": [
      "C:\\Users\\Rakshitha/.cache\\torch\\hub\\ultralytics_yolov5_master\\models\\common.py:894: FutureWarning: `torch.cuda.amp.autocast(args...)` is deprecated. Please use `torch.amp.autocast('cuda', args...)` instead.\n",
      "  with amp.autocast(autocast):\n",
      "C:\\Users\\Rakshitha/.cache\\torch\\hub\\ultralytics_yolov5_master\\models\\common.py:894: FutureWarning: `torch.cuda.amp.autocast(args...)` is deprecated. Please use `torch.amp.autocast('cuda', args...)` instead.\n",
      "  with amp.autocast(autocast):\n",
      "C:\\Users\\Rakshitha/.cache\\torch\\hub\\ultralytics_yolov5_master\\models\\common.py:894: FutureWarning: `torch.cuda.amp.autocast(args...)` is deprecated. Please use `torch.amp.autocast('cuda', args...)` instead.\n",
      "  with amp.autocast(autocast):\n"
     ]
    },
    {
     "name": "stdout",
     "output_type": "stream",
     "text": [
      "[      xcenter     ycenter       width      height  confidence  class    name\n",
      "0  133.952454  311.786377  238.642883  251.333267    0.587732      1  drowsy\n",
      "1  452.703430  295.409851  333.794800  274.406494    0.389389      1  drowsy]\n",
      "Objects detected!\n",
      "[      xcenter     ycenter       width      height  confidence  class    name\n",
      "0  463.572998  295.093170  326.586212  290.168396    0.570142      1  drowsy\n",
      "1  114.108963  309.849915  213.838165  249.032043    0.505565      1  drowsy]\n",
      "Objects detected!\n"
     ]
    },
    {
     "name": "stderr",
     "output_type": "stream",
     "text": [
      "C:\\Users\\Rakshitha/.cache\\torch\\hub\\ultralytics_yolov5_master\\models\\common.py:894: FutureWarning: `torch.cuda.amp.autocast(args...)` is deprecated. Please use `torch.amp.autocast('cuda', args...)` instead.\n",
      "  with amp.autocast(autocast):\n",
      "C:\\Users\\Rakshitha/.cache\\torch\\hub\\ultralytics_yolov5_master\\models\\common.py:894: FutureWarning: `torch.cuda.amp.autocast(args...)` is deprecated. Please use `torch.amp.autocast('cuda', args...)` instead.\n",
      "  with amp.autocast(autocast):\n"
     ]
    },
    {
     "name": "stdout",
     "output_type": "stream",
     "text": [
      "[      xcenter     ycenter       width      height  confidence  class    name\n",
      "0  459.748932  297.478882  303.668762  283.259277    0.617831      1  drowsy\n",
      "1  130.246582  305.653198  260.493164  269.232178    0.408765      1  drowsy\n",
      "2  120.084869  278.088623  162.048126  202.301147    0.275205      1  drowsy]\n",
      "Objects detected!\n",
      "[      xcenter     ycenter       width      height  confidence  class    name\n",
      "0  448.533295  298.816864  312.536682  287.863342    0.629222      1  drowsy\n",
      "1  116.622437  309.967194  222.391052  247.779053    0.515804      1  drowsy]\n",
      "Objects detected!\n"
     ]
    },
    {
     "name": "stderr",
     "output_type": "stream",
     "text": [
      "C:\\Users\\Rakshitha/.cache\\torch\\hub\\ultralytics_yolov5_master\\models\\common.py:894: FutureWarning: `torch.cuda.amp.autocast(args...)` is deprecated. Please use `torch.amp.autocast('cuda', args...)` instead.\n",
      "  with amp.autocast(autocast):\n",
      "C:\\Users\\Rakshitha/.cache\\torch\\hub\\ultralytics_yolov5_master\\models\\common.py:894: FutureWarning: `torch.cuda.amp.autocast(args...)` is deprecated. Please use `torch.amp.autocast('cuda', args...)` instead.\n",
      "  with amp.autocast(autocast):\n"
     ]
    },
    {
     "name": "stdout",
     "output_type": "stream",
     "text": [
      "[      xcenter     ycenter       width      height  confidence  class    name\n",
      "0  441.606049  301.472015  304.704407  286.804138    0.577666      1  drowsy\n",
      "1  133.761703  307.456482  227.615265  242.639221    0.526726      1  drowsy\n",
      "2  578.615356  418.822998  122.769287  121.099670    0.454014      1  drowsy]\n",
      "Objects detected!\n",
      "[      xcenter     ycenter       width      height  confidence  class    name\n",
      "0  436.376740  301.990540  308.256287  282.572510    0.568724      1  drowsy\n",
      "1  576.777832  418.959900  126.444275  122.080200    0.502738      1  drowsy\n",
      "2  119.863029  276.928223  177.679703  198.740952    0.446993      1  drowsy]\n",
      "Objects detected!\n"
     ]
    },
    {
     "name": "stderr",
     "output_type": "stream",
     "text": [
      "C:\\Users\\Rakshitha/.cache\\torch\\hub\\ultralytics_yolov5_master\\models\\common.py:894: FutureWarning: `torch.cuda.amp.autocast(args...)` is deprecated. Please use `torch.amp.autocast('cuda', args...)` instead.\n",
      "  with amp.autocast(autocast):\n",
      "C:\\Users\\Rakshitha/.cache\\torch\\hub\\ultralytics_yolov5_master\\models\\common.py:894: FutureWarning: `torch.cuda.amp.autocast(args...)` is deprecated. Please use `torch.amp.autocast('cuda', args...)` instead.\n",
      "  with amp.autocast(autocast):\n"
     ]
    },
    {
     "name": "stdout",
     "output_type": "stream",
     "text": [
      "[      xcenter     ycenter       width      height  confidence  class    name\n",
      "0  567.847473  415.920410  144.305084  116.640442    0.523617      1  drowsy\n",
      "1  426.743835  301.635803  290.599518  274.584961    0.462142      1  drowsy\n",
      "2  124.447975  305.181580  248.895950  265.467041    0.366008      1  drowsy]\n",
      "Objects detected!\n",
      "[      xcenter     ycenter       width      height  confidence  class    name\n",
      "0  422.635895  300.168518  297.515076  284.854431    0.533204      1  drowsy\n",
      "1  119.360092  272.233582  176.487518  191.454407    0.425904      1  drowsy\n",
      "2  563.494507  416.475311  153.011047  119.354675    0.407358      1  drowsy]\n",
      "Objects detected!\n"
     ]
    },
    {
     "name": "stderr",
     "output_type": "stream",
     "text": [
      "C:\\Users\\Rakshitha/.cache\\torch\\hub\\ultralytics_yolov5_master\\models\\common.py:894: FutureWarning: `torch.cuda.amp.autocast(args...)` is deprecated. Please use `torch.amp.autocast('cuda', args...)` instead.\n",
      "  with amp.autocast(autocast):\n",
      "C:\\Users\\Rakshitha/.cache\\torch\\hub\\ultralytics_yolov5_master\\models\\common.py:894: FutureWarning: `torch.cuda.amp.autocast(args...)` is deprecated. Please use `torch.amp.autocast('cuda', args...)` instead.\n",
      "  with amp.autocast(autocast):\n"
     ]
    },
    {
     "name": "stdout",
     "output_type": "stream",
     "text": [
      "[      xcenter     ycenter       width      height  confidence  class    name\n",
      "0  111.672272  306.042999  199.336212  241.113708    0.517839      1  drowsy\n",
      "1  428.151855  300.289215  298.375000  303.376526    0.366051      1  drowsy\n",
      "2  119.493912  262.266144  133.572601  163.120911    0.313892      1  drowsy]\n",
      "Objects detected!\n",
      "[      xcenter     ycenter       width      height  confidence  class    name\n",
      "0  442.157471  258.668182  227.089325  256.721558    0.535300      1  drowsy\n",
      "1  135.674210  307.211578  271.348419  274.464783    0.449737      1  drowsy\n",
      "2  441.841248  262.748657  201.000244  214.398865    0.276881      0   awake]\n",
      "Objects detected!\n"
     ]
    },
    {
     "name": "stderr",
     "output_type": "stream",
     "text": [
      "C:\\Users\\Rakshitha/.cache\\torch\\hub\\ultralytics_yolov5_master\\models\\common.py:894: FutureWarning: `torch.cuda.amp.autocast(args...)` is deprecated. Please use `torch.amp.autocast('cuda', args...)` instead.\n",
      "  with amp.autocast(autocast):\n",
      "C:\\Users\\Rakshitha/.cache\\torch\\hub\\ultralytics_yolov5_master\\models\\common.py:894: FutureWarning: `torch.cuda.amp.autocast(args...)` is deprecated. Please use `torch.amp.autocast('cuda', args...)` instead.\n",
      "  with amp.autocast(autocast):\n"
     ]
    },
    {
     "name": "stdout",
     "output_type": "stream",
     "text": [
      "[      xcenter     ycenter       width      height  confidence  class    name\n",
      "0  448.405701  253.758133  190.184570  235.385284    0.564314      0   awake\n",
      "1  146.969208  304.228333  293.938416  294.217102    0.390752      1  drowsy\n",
      "2  123.330414  267.036835  160.259460  168.448242    0.284354      1  drowsy]\n",
      "Objects detected!\n",
      "[      xcenter     ycenter       width      height  confidence  class    name\n",
      "0  450.703339  260.778778  208.462463  233.195618    0.705986      0   awake\n",
      "1  129.682938  304.497437  259.365875  272.871765    0.461536      1  drowsy\n",
      "2  123.457718  267.407471  155.671753  172.717300    0.356768      1  drowsy]\n",
      "Objects detected!\n"
     ]
    },
    {
     "name": "stderr",
     "output_type": "stream",
     "text": [
      "C:\\Users\\Rakshitha/.cache\\torch\\hub\\ultralytics_yolov5_master\\models\\common.py:894: FutureWarning: `torch.cuda.amp.autocast(args...)` is deprecated. Please use `torch.amp.autocast('cuda', args...)` instead.\n",
      "  with amp.autocast(autocast):\n",
      "C:\\Users\\Rakshitha/.cache\\torch\\hub\\ultralytics_yolov5_master\\models\\common.py:894: FutureWarning: `torch.cuda.amp.autocast(args...)` is deprecated. Please use `torch.amp.autocast('cuda', args...)` instead.\n",
      "  with amp.autocast(autocast):\n"
     ]
    },
    {
     "name": "stdout",
     "output_type": "stream",
     "text": [
      "[      xcenter     ycenter       width      height  confidence  class    name\n",
      "0  452.015808  261.442291  209.481934  237.428284    0.671730      0   awake\n",
      "1  119.924820  310.583405  228.678436  252.490402    0.560047      1  drowsy]\n",
      "Objects detected!\n",
      "[      xcenter     ycenter       width      height  confidence  class    name\n",
      "0  448.054626  266.384003  201.167877  230.316223    0.579009      0   awake\n",
      "1  133.377563  309.560272  266.755127  281.084412    0.502545      1  drowsy]\n",
      "Objects detected!\n"
     ]
    },
    {
     "name": "stderr",
     "output_type": "stream",
     "text": [
      "C:\\Users\\Rakshitha/.cache\\torch\\hub\\ultralytics_yolov5_master\\models\\common.py:894: FutureWarning: `torch.cuda.amp.autocast(args...)` is deprecated. Please use `torch.amp.autocast('cuda', args...)` instead.\n",
      "  with amp.autocast(autocast):\n",
      "C:\\Users\\Rakshitha/.cache\\torch\\hub\\ultralytics_yolov5_master\\models\\common.py:894: FutureWarning: `torch.cuda.amp.autocast(args...)` is deprecated. Please use `torch.amp.autocast('cuda', args...)` instead.\n",
      "  with amp.autocast(autocast):\n"
     ]
    },
    {
     "name": "stdout",
     "output_type": "stream",
     "text": [
      "[      xcenter     ycenter       width      height  confidence  class    name\n",
      "0  439.608490  267.511444  204.660950  250.336227    0.584786      0   awake\n",
      "1  118.857178  308.592651  222.357361  250.178650    0.500905      1  drowsy]\n",
      "Objects detected!\n",
      "[      xcenter     ycenter       width      height  confidence  class    name\n",
      "0  435.797119  262.737274  177.017670  217.374878    0.745462      0   awake\n",
      "1  119.234566  308.213806  215.411911  239.718933    0.463841      1  drowsy]\n",
      "Objects detected!\n"
     ]
    },
    {
     "name": "stderr",
     "output_type": "stream",
     "text": [
      "C:\\Users\\Rakshitha/.cache\\torch\\hub\\ultralytics_yolov5_master\\models\\common.py:894: FutureWarning: `torch.cuda.amp.autocast(args...)` is deprecated. Please use `torch.amp.autocast('cuda', args...)` instead.\n",
      "  with amp.autocast(autocast):\n",
      "C:\\Users\\Rakshitha/.cache\\torch\\hub\\ultralytics_yolov5_master\\models\\common.py:894: FutureWarning: `torch.cuda.amp.autocast(args...)` is deprecated. Please use `torch.amp.autocast('cuda', args...)` instead.\n",
      "  with amp.autocast(autocast):\n"
     ]
    },
    {
     "name": "stdout",
     "output_type": "stream",
     "text": [
      "[      xcenter     ycenter       width      height  confidence  class    name\n",
      "0  441.142090  266.686005  202.295288  254.176956    0.520231      0   awake\n",
      "1  118.730652  310.704407  221.486755  243.293884    0.463003      1  drowsy]\n",
      "Objects detected!\n",
      "[      xcenter     ycenter       width      height  confidence  class    name\n",
      "0  443.320282  268.293518  214.250427  262.445679    0.447273      0   awake\n",
      "1  132.192703  308.357544  264.385406  275.191895    0.421292      1  drowsy]\n",
      "Objects detected!\n"
     ]
    },
    {
     "name": "stderr",
     "output_type": "stream",
     "text": [
      "C:\\Users\\Rakshitha/.cache\\torch\\hub\\ultralytics_yolov5_master\\models\\common.py:894: FutureWarning: `torch.cuda.amp.autocast(args...)` is deprecated. Please use `torch.amp.autocast('cuda', args...)` instead.\n",
      "  with amp.autocast(autocast):\n",
      "C:\\Users\\Rakshitha/.cache\\torch\\hub\\ultralytics_yolov5_master\\models\\common.py:894: FutureWarning: `torch.cuda.amp.autocast(args...)` is deprecated. Please use `torch.amp.autocast('cuda', args...)` instead.\n",
      "  with amp.autocast(autocast):\n"
     ]
    },
    {
     "name": "stdout",
     "output_type": "stream",
     "text": [
      "[      xcenter     ycenter       width      height  confidence  class    name\n",
      "0  444.415466  264.904205  208.839111  253.551804    0.589853      0   awake\n",
      "1  117.612534  307.839966  203.386749  242.679321    0.529632      1  drowsy]\n",
      "Objects detected!\n",
      "[      xcenter     ycenter       width      height  confidence  class    name\n",
      "0  441.594269  263.367798  204.832092  251.423203    0.471433      0   awake\n",
      "1  144.254486  305.215546  288.508972  291.612488    0.393493      1  drowsy\n",
      "2  125.894211  267.153961  151.945618  169.072083    0.308689      1  drowsy]\n",
      "Objects detected!\n"
     ]
    },
    {
     "name": "stderr",
     "output_type": "stream",
     "text": [
      "C:\\Users\\Rakshitha/.cache\\torch\\hub\\ultralytics_yolov5_master\\models\\common.py:894: FutureWarning: `torch.cuda.amp.autocast(args...)` is deprecated. Please use `torch.amp.autocast('cuda', args...)` instead.\n",
      "  with amp.autocast(autocast):\n",
      "C:\\Users\\Rakshitha/.cache\\torch\\hub\\ultralytics_yolov5_master\\models\\common.py:894: FutureWarning: `torch.cuda.amp.autocast(args...)` is deprecated. Please use `torch.amp.autocast('cuda', args...)` instead.\n",
      "  with amp.autocast(autocast):\n"
     ]
    },
    {
     "name": "stdout",
     "output_type": "stream",
     "text": [
      "[      xcenter     ycenter       width      height  confidence  class    name\n",
      "0  125.920990  263.884949  157.513611  167.261002    0.444836      1  drowsy\n",
      "1  437.404907  270.203217  222.841919  266.790039    0.435659      0   awake\n",
      "2  129.252457  306.959076  258.504913  264.446228    0.362296      1  drowsy]\n",
      "Objects detected!\n",
      "[      xcenter     ycenter       width      height  confidence  class    name\n",
      "0  433.624451  272.279663  225.571533  272.981079    0.413590      0   awake\n",
      "1  126.037796  270.438232  179.729279  185.469543    0.390082      1  drowsy\n",
      "2  143.239044  302.804443  286.478088  272.547668    0.375352      1  drowsy]\n",
      "Objects detected!\n"
     ]
    },
    {
     "name": "stderr",
     "output_type": "stream",
     "text": [
      "C:\\Users\\Rakshitha/.cache\\torch\\hub\\ultralytics_yolov5_master\\models\\common.py:894: FutureWarning: `torch.cuda.amp.autocast(args...)` is deprecated. Please use `torch.amp.autocast('cuda', args...)` instead.\n",
      "  with amp.autocast(autocast):\n"
     ]
    },
    {
     "name": "stdout",
     "output_type": "stream",
     "text": [
      "[      xcenter     ycenter       width      height  confidence  class    name\n",
      "0  117.091568  312.282898  222.258148  253.330093    0.585038      1  drowsy\n",
      "1  434.591675  267.133392  230.280853  269.683472    0.435804      0   awake]\n",
      "Objects detected!\n",
      "[      xcenter     ycenter       width      height  confidence  class    name\n",
      "0  439.158508  261.015869  234.475464  265.902832    0.504399      1  drowsy\n",
      "1  129.912750  307.030823  259.825500  274.675049    0.411474      1  drowsy]\n",
      "Objects detected!\n"
     ]
    },
    {
     "name": "stderr",
     "output_type": "stream",
     "text": [
      "C:\\Users\\Rakshitha/.cache\\torch\\hub\\ultralytics_yolov5_master\\models\\common.py:894: FutureWarning: `torch.cuda.amp.autocast(args...)` is deprecated. Please use `torch.amp.autocast('cuda', args...)` instead.\n",
      "  with amp.autocast(autocast):\n",
      "C:\\Users\\Rakshitha/.cache\\torch\\hub\\ultralytics_yolov5_master\\models\\common.py:894: FutureWarning: `torch.cuda.amp.autocast(args...)` is deprecated. Please use `torch.amp.autocast('cuda', args...)` instead.\n",
      "  with amp.autocast(autocast):\n"
     ]
    },
    {
     "name": "stdout",
     "output_type": "stream",
     "text": [
      "[      xcenter     ycenter       width     height  confidence  class    name\n",
      "0  439.922821  255.027649  219.556335  250.13147    0.449838      0   awake\n",
      "1  128.278076  305.999603  256.556152  264.79126    0.359256      1  drowsy]\n",
      "Objects detected!\n",
      "[      xcenter     ycenter       width      height  confidence  class    name\n",
      "0  439.385529  253.359482  216.960754  271.398895    0.549967      1  drowsy\n",
      "1  144.572250  304.403076  289.144501  288.043396    0.475192      1  drowsy]\n",
      "Objects detected!\n"
     ]
    },
    {
     "name": "stderr",
     "output_type": "stream",
     "text": [
      "C:\\Users\\Rakshitha/.cache\\torch\\hub\\ultralytics_yolov5_master\\models\\common.py:894: FutureWarning: `torch.cuda.amp.autocast(args...)` is deprecated. Please use `torch.amp.autocast('cuda', args...)` instead.\n",
      "  with amp.autocast(autocast):\n",
      "C:\\Users\\Rakshitha/.cache\\torch\\hub\\ultralytics_yolov5_master\\models\\common.py:894: FutureWarning: `torch.cuda.amp.autocast(args...)` is deprecated. Please use `torch.amp.autocast('cuda', args...)` instead.\n",
      "  with amp.autocast(autocast):\n"
     ]
    },
    {
     "name": "stdout",
     "output_type": "stream",
     "text": [
      "[      xcenter     ycenter       width      height  confidence  class    name\n",
      "0  432.256714  253.976166  238.269409  259.601135    0.672612      1  drowsy\n",
      "1  119.008530  305.824524  199.610626  238.935181    0.475849      1  drowsy]\n",
      "Objects detected!\n",
      "[      xcenter     ycenter       width      height  confidence  class    name\n",
      "0  430.054596  265.321411  250.740906  279.285706    0.567799      1  drowsy\n",
      "1  130.337677  271.192749  176.391052  191.420547    0.433283      1  drowsy]\n",
      "Objects detected!\n"
     ]
    },
    {
     "name": "stderr",
     "output_type": "stream",
     "text": [
      "C:\\Users\\Rakshitha/.cache\\torch\\hub\\ultralytics_yolov5_master\\models\\common.py:894: FutureWarning: `torch.cuda.amp.autocast(args...)` is deprecated. Please use `torch.amp.autocast('cuda', args...)` instead.\n",
      "  with amp.autocast(autocast):\n",
      "C:\\Users\\Rakshitha/.cache\\torch\\hub\\ultralytics_yolov5_master\\models\\common.py:894: FutureWarning: `torch.cuda.amp.autocast(args...)` is deprecated. Please use `torch.amp.autocast('cuda', args...)` instead.\n",
      "  with amp.autocast(autocast):\n"
     ]
    },
    {
     "name": "stdout",
     "output_type": "stream",
     "text": [
      "[      xcenter     ycenter       width      height  confidence  class    name\n",
      "0  430.859009  260.834076  238.607422  260.570374    0.645064      1  drowsy\n",
      "1  127.326675  307.458862  254.653351  272.225159    0.444954      1  drowsy\n",
      "2  127.597656  268.144897  157.333862  174.444962    0.264412      1  drowsy]\n",
      "Objects detected!\n",
      "[      xcenter     ycenter       width      height  confidence  class    name\n",
      "0  433.634277  254.855331  200.647064  265.879974    0.502285      0   awake\n",
      "1  136.365662  307.740753  221.147705  237.562943    0.452201      1  drowsy]\n",
      "Objects detected!\n"
     ]
    },
    {
     "name": "stderr",
     "output_type": "stream",
     "text": [
      "C:\\Users\\Rakshitha/.cache\\torch\\hub\\ultralytics_yolov5_master\\models\\common.py:894: FutureWarning: `torch.cuda.amp.autocast(args...)` is deprecated. Please use `torch.amp.autocast('cuda', args...)` instead.\n",
      "  with amp.autocast(autocast):\n",
      "C:\\Users\\Rakshitha/.cache\\torch\\hub\\ultralytics_yolov5_master\\models\\common.py:894: FutureWarning: `torch.cuda.amp.autocast(args...)` is deprecated. Please use `torch.amp.autocast('cuda', args...)` instead.\n",
      "  with amp.autocast(autocast):\n"
     ]
    },
    {
     "name": "stdout",
     "output_type": "stream",
     "text": [
      "[      xcenter     ycenter       width      height  confidence  class    name\n",
      "0  434.082397  262.809113  254.960724  264.976135    0.588499      1  drowsy\n",
      "1  141.425888  303.433289  282.851776  273.859741    0.360522      1  drowsy\n",
      "2  132.676422  272.485046  179.263092  190.035782    0.322632      1  drowsy]\n",
      "Objects detected!\n",
      "[      xcenter     ycenter       width      height  confidence  class    name\n",
      "0  434.757172  253.742767  233.040710  246.320999    0.577882      1  drowsy\n",
      "1  143.044678  303.616486  286.089355  278.444458    0.414660      1  drowsy\n",
      "2  131.002579  266.553802  155.365112  167.834290    0.255889      1  drowsy]\n",
      "Objects detected!\n"
     ]
    },
    {
     "name": "stderr",
     "output_type": "stream",
     "text": [
      "C:\\Users\\Rakshitha/.cache\\torch\\hub\\ultralytics_yolov5_master\\models\\common.py:894: FutureWarning: `torch.cuda.amp.autocast(args...)` is deprecated. Please use `torch.amp.autocast('cuda', args...)` instead.\n",
      "  with amp.autocast(autocast):\n",
      "C:\\Users\\Rakshitha/.cache\\torch\\hub\\ultralytics_yolov5_master\\models\\common.py:894: FutureWarning: `torch.cuda.amp.autocast(args...)` is deprecated. Please use `torch.amp.autocast('cuda', args...)` instead.\n",
      "  with amp.autocast(autocast):\n"
     ]
    },
    {
     "name": "stdout",
     "output_type": "stream",
     "text": [
      "[      xcenter     ycenter       width      height  confidence  class    name\n",
      "0  437.925903  246.602325  220.881134  267.174133    0.534403      1  drowsy\n",
      "1  145.331085  303.262878  290.662170  280.802490    0.385289      1  drowsy\n",
      "2  131.523193  268.280975  161.420288  171.512390    0.271525      1  drowsy]\n",
      "Objects detected!\n",
      "[      xcenter     ycenter       width      height  confidence  class    name\n",
      "0  439.634583  244.425201  237.482330  277.464050    0.546641      1  drowsy\n",
      "1  132.221954  272.023560  175.475159  191.216812    0.404277      1  drowsy]\n",
      "Objects detected!\n"
     ]
    },
    {
     "name": "stderr",
     "output_type": "stream",
     "text": [
      "C:\\Users\\Rakshitha/.cache\\torch\\hub\\ultralytics_yolov5_master\\models\\common.py:894: FutureWarning: `torch.cuda.amp.autocast(args...)` is deprecated. Please use `torch.amp.autocast('cuda', args...)` instead.\n",
      "  with amp.autocast(autocast):\n",
      "C:\\Users\\Rakshitha/.cache\\torch\\hub\\ultralytics_yolov5_master\\models\\common.py:894: FutureWarning: `torch.cuda.amp.autocast(args...)` is deprecated. Please use `torch.amp.autocast('cuda', args...)` instead.\n",
      "  with amp.autocast(autocast):\n"
     ]
    },
    {
     "name": "stdout",
     "output_type": "stream",
     "text": [
      "[      xcenter     ycenter       width      height  confidence  class    name\n",
      "0  440.311646  244.752548  234.305084  274.218903    0.640550      1  drowsy\n",
      "1  133.323486  311.021057  266.646973  269.976074    0.361878      1  drowsy\n",
      "2  131.001511  265.372681  159.130096  169.532730    0.331560      1  drowsy]\n",
      "Objects detected!\n",
      "[      xcenter     ycenter       width      height  confidence  class    name\n",
      "0  438.761078  245.695435  220.374084  266.232666    0.704199      1  drowsy\n",
      "1  136.308701  307.258942  225.664825  239.190231    0.467923      1  drowsy]\n",
      "Objects detected!\n"
     ]
    },
    {
     "name": "stderr",
     "output_type": "stream",
     "text": [
      "C:\\Users\\Rakshitha/.cache\\torch\\hub\\ultralytics_yolov5_master\\models\\common.py:894: FutureWarning: `torch.cuda.amp.autocast(args...)` is deprecated. Please use `torch.amp.autocast('cuda', args...)` instead.\n",
      "  with amp.autocast(autocast):\n",
      "C:\\Users\\Rakshitha/.cache\\torch\\hub\\ultralytics_yolov5_master\\models\\common.py:894: FutureWarning: `torch.cuda.amp.autocast(args...)` is deprecated. Please use `torch.amp.autocast('cuda', args...)` instead.\n",
      "  with amp.autocast(autocast):\n"
     ]
    },
    {
     "name": "stdout",
     "output_type": "stream",
     "text": [
      "[      xcenter     ycenter       width      height  confidence  class    name\n",
      "0  438.199677  245.491806  229.006897  273.074860    0.571562      1  drowsy\n",
      "1  139.500610  301.259705  279.001221  276.698364    0.464038      1  drowsy\n",
      "2  130.132019  279.254639  171.344910  200.748047    0.257568      1  drowsy]\n",
      "Objects detected!\n",
      "[      xcenter     ycenter       width      height  confidence  class    name\n",
      "0  437.953766  247.410187  221.860413  272.162842    0.584608      1  drowsy\n",
      "1  143.221863  304.143585  286.443726  292.911804    0.543755      1  drowsy]\n",
      "Objects detected!\n"
     ]
    },
    {
     "name": "stderr",
     "output_type": "stream",
     "text": [
      "C:\\Users\\Rakshitha/.cache\\torch\\hub\\ultralytics_yolov5_master\\models\\common.py:894: FutureWarning: `torch.cuda.amp.autocast(args...)` is deprecated. Please use `torch.amp.autocast('cuda', args...)` instead.\n",
      "  with amp.autocast(autocast):\n",
      "C:\\Users\\Rakshitha/.cache\\torch\\hub\\ultralytics_yolov5_master\\models\\common.py:894: FutureWarning: `torch.cuda.amp.autocast(args...)` is deprecated. Please use `torch.amp.autocast('cuda', args...)` instead.\n",
      "  with amp.autocast(autocast):\n"
     ]
    },
    {
     "name": "stdout",
     "output_type": "stream",
     "text": [
      "[      xcenter     ycenter       width      height  confidence  class    name\n",
      "0  135.008774  308.493591  226.734558  244.783142    0.568978      1  drowsy\n",
      "1  437.439026  248.900299  201.380402  255.722107    0.474791      1  drowsy\n",
      "2  435.339600  248.296371  216.811279  248.671173    0.426873      0   awake]\n",
      "Objects detected!\n",
      "[      xcenter     ycenter       width      height  confidence  class    name\n",
      "0  433.642181  259.769592  254.590027  260.769775    0.507485      1  drowsy\n",
      "1  142.190811  302.456390  284.381622  278.751404    0.465226      1  drowsy\n",
      "2  135.632172  274.083862  185.735352  188.864761    0.316260      1  drowsy]\n",
      "Objects detected!\n"
     ]
    },
    {
     "name": "stderr",
     "output_type": "stream",
     "text": [
      "C:\\Users\\Rakshitha/.cache\\torch\\hub\\ultralytics_yolov5_master\\models\\common.py:894: FutureWarning: `torch.cuda.amp.autocast(args...)` is deprecated. Please use `torch.amp.autocast('cuda', args...)` instead.\n",
      "  with amp.autocast(autocast):\n",
      "C:\\Users\\Rakshitha/.cache\\torch\\hub\\ultralytics_yolov5_master\\models\\common.py:894: FutureWarning: `torch.cuda.amp.autocast(args...)` is deprecated. Please use `torch.amp.autocast('cuda', args...)` instead.\n",
      "  with amp.autocast(autocast):\n"
     ]
    },
    {
     "name": "stdout",
     "output_type": "stream",
     "text": [
      "[      xcenter     ycenter       width      height  confidence  class    name\n",
      "0  134.311157  307.037537  218.491730  241.630371    0.509638      1  drowsy\n",
      "1  432.182983  261.602020  255.279053  265.458435    0.483398      1  drowsy]\n",
      "Objects detected!\n",
      "[      xcenter     ycenter       width      height  confidence  class    name\n",
      "0  428.285278  254.911835  240.147095  261.162170    0.615700      1  drowsy\n",
      "1  134.251404  272.766327  178.012970  185.645920    0.558645      1  drowsy\n",
      "2  140.897827  301.553955  278.156128  271.471558    0.414043      1  drowsy]\n",
      "Objects detected!\n"
     ]
    },
    {
     "name": "stderr",
     "output_type": "stream",
     "text": [
      "C:\\Users\\Rakshitha/.cache\\torch\\hub\\ultralytics_yolov5_master\\models\\common.py:894: FutureWarning: `torch.cuda.amp.autocast(args...)` is deprecated. Please use `torch.amp.autocast('cuda', args...)` instead.\n",
      "  with amp.autocast(autocast):\n",
      "C:\\Users\\Rakshitha/.cache\\torch\\hub\\ultralytics_yolov5_master\\models\\common.py:894: FutureWarning: `torch.cuda.amp.autocast(args...)` is deprecated. Please use `torch.amp.autocast('cuda', args...)` instead.\n",
      "  with amp.autocast(autocast):\n"
     ]
    },
    {
     "name": "stdout",
     "output_type": "stream",
     "text": [
      "[      xcenter     ycenter       width      height  confidence  class    name\n",
      "0  428.880310  260.429535  259.033936  263.171570    0.610651      1  drowsy\n",
      "1  134.445877  268.641571  181.162079  178.198425    0.507716      1  drowsy\n",
      "2  145.819427  303.190460  291.638855  260.399292    0.307292      1  drowsy]\n",
      "Objects detected!\n",
      "[      xcenter     ycenter       width      height  confidence  class    name\n",
      "0  427.661499  257.477020  220.961884  261.146484    0.596405      0   awake\n",
      "1  138.097458  309.988739  217.419159  242.908569    0.561182      1  drowsy]\n",
      "Objects detected!\n"
     ]
    },
    {
     "name": "stderr",
     "output_type": "stream",
     "text": [
      "C:\\Users\\Rakshitha/.cache\\torch\\hub\\ultralytics_yolov5_master\\models\\common.py:894: FutureWarning: `torch.cuda.amp.autocast(args...)` is deprecated. Please use `torch.amp.autocast('cuda', args...)` instead.\n",
      "  with amp.autocast(autocast):\n",
      "C:\\Users\\Rakshitha/.cache\\torch\\hub\\ultralytics_yolov5_master\\models\\common.py:894: FutureWarning: `torch.cuda.amp.autocast(args...)` is deprecated. Please use `torch.amp.autocast('cuda', args...)` instead.\n",
      "  with amp.autocast(autocast):\n"
     ]
    },
    {
     "name": "stdout",
     "output_type": "stream",
     "text": [
      "[      xcenter     ycenter       width      height  confidence  class    name\n",
      "0  428.548157  261.283447  251.559296  268.194885    0.660759      1  drowsy\n",
      "1  133.882736  269.354523  178.203918  179.949097    0.525888      1  drowsy\n",
      "2  142.255890  300.815125  284.511780  270.227783    0.328131      1  drowsy]\n",
      "Objects detected!\n",
      "[      xcenter     ycenter       width      height  confidence  class    name\n",
      "0  429.811707  262.374603  262.729858  267.672424    0.623903      1  drowsy\n",
      "1  137.802002  302.719391  275.604004  284.410828    0.497912      1  drowsy]\n",
      "Objects detected!\n"
     ]
    },
    {
     "name": "stderr",
     "output_type": "stream",
     "text": [
      "C:\\Users\\Rakshitha/.cache\\torch\\hub\\ultralytics_yolov5_master\\models\\common.py:894: FutureWarning: `torch.cuda.amp.autocast(args...)` is deprecated. Please use `torch.amp.autocast('cuda', args...)` instead.\n",
      "  with amp.autocast(autocast):\n",
      "C:\\Users\\Rakshitha/.cache\\torch\\hub\\ultralytics_yolov5_master\\models\\common.py:894: FutureWarning: `torch.cuda.amp.autocast(args...)` is deprecated. Please use `torch.amp.autocast('cuda', args...)` instead.\n",
      "  with amp.autocast(autocast):\n"
     ]
    },
    {
     "name": "stdout",
     "output_type": "stream",
     "text": [
      "[      xcenter     ycenter       width      height  confidence  class    name\n",
      "0  429.178284  258.448792  250.931427  263.284851    0.548149      1  drowsy\n",
      "1  142.953552  302.152924  284.843384  285.536804    0.436816      1  drowsy\n",
      "2  136.120743  272.900085  175.028809  196.235489    0.334742      1  drowsy]\n",
      "Objects detected!\n",
      "[      xcenter     ycenter       width      height  confidence  class    name\n",
      "0  139.542725  302.619171  279.085449  285.921692    0.490390      1  drowsy\n",
      "1  427.381104  250.837341  218.506012  244.659485    0.417315      1  drowsy\n",
      "2  429.768585  249.326431  203.271790  255.323151    0.412131      0   awake\n",
      "3  134.502609  267.551178  160.926788  176.579895    0.367160      1  drowsy]\n",
      "Objects detected!\n"
     ]
    },
    {
     "name": "stderr",
     "output_type": "stream",
     "text": [
      "C:\\Users\\Rakshitha/.cache\\torch\\hub\\ultralytics_yolov5_master\\models\\common.py:894: FutureWarning: `torch.cuda.amp.autocast(args...)` is deprecated. Please use `torch.amp.autocast('cuda', args...)` instead.\n",
      "  with amp.autocast(autocast):\n",
      "C:\\Users\\Rakshitha/.cache\\torch\\hub\\ultralytics_yolov5_master\\models\\common.py:894: FutureWarning: `torch.cuda.amp.autocast(args...)` is deprecated. Please use `torch.amp.autocast('cuda', args...)` instead.\n",
      "  with amp.autocast(autocast):\n"
     ]
    },
    {
     "name": "stdout",
     "output_type": "stream",
     "text": [
      "[      xcenter     ycenter       width      height  confidence  class    name\n",
      "0  429.903076  250.259171  202.729614  264.555267    0.746279      0   awake\n",
      "1  143.615997  303.304077  287.231995  282.456726    0.457207      1  drowsy\n",
      "2  135.356186  268.984314  162.431763  173.034683    0.356675      1  drowsy]\n",
      "Objects detected!\n",
      "[      xcenter     ycenter       width      height  confidence  class    name\n",
      "0  437.503815  239.876282  224.950867  262.579895    0.661886      0   awake\n",
      "1  136.200104  268.707458  182.451477  180.238892    0.648233      1  drowsy\n",
      "2  144.642426  299.242462  289.284851  264.632996    0.264796      1  drowsy]\n",
      "Objects detected!\n"
     ]
    },
    {
     "name": "stderr",
     "output_type": "stream",
     "text": [
      "C:\\Users\\Rakshitha/.cache\\torch\\hub\\ultralytics_yolov5_master\\models\\common.py:894: FutureWarning: `torch.cuda.amp.autocast(args...)` is deprecated. Please use `torch.amp.autocast('cuda', args...)` instead.\n",
      "  with amp.autocast(autocast):\n",
      "C:\\Users\\Rakshitha/.cache\\torch\\hub\\ultralytics_yolov5_master\\models\\common.py:894: FutureWarning: `torch.cuda.amp.autocast(args...)` is deprecated. Please use `torch.amp.autocast('cuda', args...)` instead.\n",
      "  with amp.autocast(autocast):\n"
     ]
    },
    {
     "name": "stdout",
     "output_type": "stream",
     "text": [
      "[      xcenter     ycenter       width      height  confidence  class    name\n",
      "0  437.640015  237.031036  228.785309  274.133728    0.739054      0   awake\n",
      "1  133.292099  269.714691  180.434235  179.040939    0.484250      1  drowsy\n",
      "2  135.455688  310.208923  270.911377  268.707031    0.317433      1  drowsy]\n",
      "Objects detected!\n",
      "[      xcenter     ycenter       width      height  confidence  class    name\n",
      "0  435.404541  236.424774  238.294556  284.117737    0.692558      0   awake\n",
      "1  142.413895  302.310699  284.827789  285.529663    0.459587      1  drowsy\n",
      "2  134.361908  267.604248  161.855713  173.038269    0.439898      1  drowsy]\n",
      "Objects detected!\n"
     ]
    },
    {
     "name": "stderr",
     "output_type": "stream",
     "text": [
      "C:\\Users\\Rakshitha/.cache\\torch\\hub\\ultralytics_yolov5_master\\models\\common.py:894: FutureWarning: `torch.cuda.amp.autocast(args...)` is deprecated. Please use `torch.amp.autocast('cuda', args...)` instead.\n",
      "  with amp.autocast(autocast):\n",
      "C:\\Users\\Rakshitha/.cache\\torch\\hub\\ultralytics_yolov5_master\\models\\common.py:894: FutureWarning: `torch.cuda.amp.autocast(args...)` is deprecated. Please use `torch.amp.autocast('cuda', args...)` instead.\n",
      "  with amp.autocast(autocast):\n"
     ]
    },
    {
     "name": "stdout",
     "output_type": "stream",
     "text": [
      "[      xcenter     ycenter       width      height  confidence  class    name\n",
      "0  434.842651  237.205383  228.909393  269.924438    0.801271      0   awake\n",
      "1  141.215454  300.974365  282.430908  279.867188    0.440198      1  drowsy\n",
      "2  134.133713  274.146149  185.292023  187.833313    0.407257      1  drowsy]\n",
      "Objects detected!\n",
      "[      xcenter     ycenter       width      height  confidence  class    name\n",
      "0  429.368408  237.498260  224.735474  268.990723    0.778711      0   awake\n",
      "1  134.906219  271.106049  179.369080  184.146606    0.581199      1  drowsy\n",
      "2  139.115448  299.467468  278.230896  269.319702    0.355071      1  drowsy]\n",
      "Objects detected!\n"
     ]
    },
    {
     "name": "stderr",
     "output_type": "stream",
     "text": [
      "C:\\Users\\Rakshitha/.cache\\torch\\hub\\ultralytics_yolov5_master\\models\\common.py:894: FutureWarning: `torch.cuda.amp.autocast(args...)` is deprecated. Please use `torch.amp.autocast('cuda', args...)` instead.\n",
      "  with amp.autocast(autocast):\n",
      "C:\\Users\\Rakshitha/.cache\\torch\\hub\\ultralytics_yolov5_master\\models\\common.py:894: FutureWarning: `torch.cuda.amp.autocast(args...)` is deprecated. Please use `torch.amp.autocast('cuda', args...)` instead.\n",
      "  with amp.autocast(autocast):\n"
     ]
    },
    {
     "name": "stdout",
     "output_type": "stream",
     "text": [
      "[      xcenter     ycenter       width      height  confidence  class    name\n",
      "0  140.211288  300.643921  267.811920  287.559448    0.447942      1  drowsy\n",
      "1  135.973770  273.368988  170.481354  198.203918    0.400385      1  drowsy\n",
      "2  431.904663  242.063263  250.454956  295.755066    0.352240      0   awake\n",
      "3  428.702942  243.000427  224.927826  247.212540    0.268958      1  drowsy]\n",
      "Objects detected!\n",
      "[      xcenter     ycenter       width      height  confidence  class    name\n",
      "0  430.828003  238.467133  248.536652  294.718445    0.464147      0   awake\n",
      "1  131.178619  308.858398  262.357239  270.111328    0.353902      1  drowsy\n",
      "2  133.192200  275.495789  162.290466  193.563843    0.290978      1  drowsy]\n",
      "Objects detected!\n"
     ]
    },
    {
     "name": "stderr",
     "output_type": "stream",
     "text": [
      "C:\\Users\\Rakshitha/.cache\\torch\\hub\\ultralytics_yolov5_master\\models\\common.py:894: FutureWarning: `torch.cuda.amp.autocast(args...)` is deprecated. Please use `torch.amp.autocast('cuda', args...)` instead.\n",
      "  with amp.autocast(autocast):\n",
      "C:\\Users\\Rakshitha/.cache\\torch\\hub\\ultralytics_yolov5_master\\models\\common.py:894: FutureWarning: `torch.cuda.amp.autocast(args...)` is deprecated. Please use `torch.amp.autocast('cuda', args...)` instead.\n",
      "  with amp.autocast(autocast):\n"
     ]
    },
    {
     "name": "stdout",
     "output_type": "stream",
     "text": [
      "[      xcenter     ycenter       width      height  confidence  class    name\n",
      "0  430.289795  241.537369  232.845978  284.703644    0.622616      0   awake\n",
      "1  141.528473  301.832336  283.056946  286.690063    0.435062      1  drowsy\n",
      "2  138.169357  274.286957  181.563995  198.698563    0.334669      1  drowsy]\n",
      "Objects detected!\n",
      "[      xcenter     ycenter       width      height  confidence  class    name\n",
      "0  426.182068  266.137299  327.537720  270.526978    0.456941      1  drowsy\n",
      "1  139.773315  300.273224  279.546631  282.196411    0.426593      1  drowsy\n",
      "2  135.864990  274.779846  182.991211  189.755386    0.413610      1  drowsy]\n",
      "Objects detected!\n"
     ]
    },
    {
     "name": "stderr",
     "output_type": "stream",
     "text": [
      "C:\\Users\\Rakshitha/.cache\\torch\\hub\\ultralytics_yolov5_master\\models\\common.py:894: FutureWarning: `torch.cuda.amp.autocast(args...)` is deprecated. Please use `torch.amp.autocast('cuda', args...)` instead.\n",
      "  with amp.autocast(autocast):\n",
      "C:\\Users\\Rakshitha/.cache\\torch\\hub\\ultralytics_yolov5_master\\models\\common.py:894: FutureWarning: `torch.cuda.amp.autocast(args...)` is deprecated. Please use `torch.amp.autocast('cuda', args...)` instead.\n",
      "  with amp.autocast(autocast):\n"
     ]
    },
    {
     "name": "stdout",
     "output_type": "stream",
     "text": [
      "[      xcenter     ycenter       width      height  confidence  class    name\n",
      "0  135.702347  269.542908  176.609100  181.374527    0.667040      1  drowsy\n",
      "1  431.950012  296.687531  345.641937  300.919617    0.356003      1  drowsy\n",
      "2  139.713181  299.530365  278.548004  264.356567    0.343841      1  drowsy]\n",
      "Objects detected!\n",
      "[      xcenter     ycenter       width      height  confidence  class    name\n",
      "0  141.065735  303.264282  282.131470  291.187012    0.452909      1  drowsy\n",
      "1  431.671326  296.785095  337.666656  286.605347    0.429087      1  drowsy\n",
      "2  581.754089  418.723145  116.491821  115.981567    0.287885      1  drowsy]\n",
      "Objects detected!\n"
     ]
    },
    {
     "name": "stderr",
     "output_type": "stream",
     "text": [
      "C:\\Users\\Rakshitha/.cache\\torch\\hub\\ultralytics_yolov5_master\\models\\common.py:894: FutureWarning: `torch.cuda.amp.autocast(args...)` is deprecated. Please use `torch.amp.autocast('cuda', args...)` instead.\n",
      "  with amp.autocast(autocast):\n",
      "C:\\Users\\Rakshitha/.cache\\torch\\hub\\ultralytics_yolov5_master\\models\\common.py:894: FutureWarning: `torch.cuda.amp.autocast(args...)` is deprecated. Please use `torch.amp.autocast('cuda', args...)` instead.\n",
      "  with amp.autocast(autocast):\n"
     ]
    },
    {
     "name": "stdout",
     "output_type": "stream",
     "text": [
      "[      xcenter     ycenter       width      height  confidence  class    name\n",
      "0  433.414917  295.927155  344.162842  286.694580    0.428828      1  drowsy\n",
      "1  139.864197  302.187622  278.801392  282.620850    0.406877      1  drowsy\n",
      "2  135.074371  271.659729  173.998169  197.484756    0.362918      1  drowsy]\n",
      "Objects detected!\n",
      "[      xcenter     ycenter       width      height  confidence  class    name\n",
      "0  134.986923  274.640259  178.118195  192.944565    0.536815      1  drowsy\n",
      "1  432.912506  295.479797  325.099060  280.604919    0.529989      1  drowsy]\n",
      "Objects detected!\n"
     ]
    },
    {
     "name": "stderr",
     "output_type": "stream",
     "text": [
      "C:\\Users\\Rakshitha/.cache\\torch\\hub\\ultralytics_yolov5_master\\models\\common.py:894: FutureWarning: `torch.cuda.amp.autocast(args...)` is deprecated. Please use `torch.amp.autocast('cuda', args...)` instead.\n",
      "  with amp.autocast(autocast):\n",
      "C:\\Users\\Rakshitha/.cache\\torch\\hub\\ultralytics_yolov5_master\\models\\common.py:894: FutureWarning: `torch.cuda.amp.autocast(args...)` is deprecated. Please use `torch.amp.autocast('cuda', args...)` instead.\n",
      "  with amp.autocast(autocast):\n"
     ]
    },
    {
     "name": "stdout",
     "output_type": "stream",
     "text": [
      "[      xcenter     ycenter       width      height  confidence  class    name\n",
      "0  431.940063  296.075195  325.421631  289.020020    0.521941      1  drowsy\n",
      "1  134.385010  274.458344  178.222595  192.530273    0.489830      1  drowsy]\n",
      "Objects detected!\n",
      "[      xcenter     ycenter       width      height  confidence  class    name\n",
      "0  135.903915  265.880371  170.569580  176.593002    0.692242      1  drowsy\n",
      "1  432.182007  296.349060  328.895294  286.367859    0.493764      1  drowsy]\n",
      "Objects detected!\n"
     ]
    },
    {
     "name": "stderr",
     "output_type": "stream",
     "text": [
      "C:\\Users\\Rakshitha/.cache\\torch\\hub\\ultralytics_yolov5_master\\models\\common.py:894: FutureWarning: `torch.cuda.amp.autocast(args...)` is deprecated. Please use `torch.amp.autocast('cuda', args...)` instead.\n",
      "  with amp.autocast(autocast):\n",
      "C:\\Users\\Rakshitha/.cache\\torch\\hub\\ultralytics_yolov5_master\\models\\common.py:894: FutureWarning: `torch.cuda.amp.autocast(args...)` is deprecated. Please use `torch.amp.autocast('cuda', args...)` instead.\n",
      "  with amp.autocast(autocast):\n"
     ]
    },
    {
     "name": "stdout",
     "output_type": "stream",
     "text": [
      "[      xcenter     ycenter       width      height  confidence  class    name\n",
      "0  136.500580  308.634125  218.372375  242.955490    0.542230      1  drowsy\n",
      "1  432.249817  295.663971  335.320312  279.533997    0.493171      1  drowsy]\n",
      "Objects detected!\n",
      "[      xcenter     ycenter       width      height  confidence  class    name\n",
      "0  435.161224  295.786865  325.040955  287.520264    0.481942      1  drowsy\n",
      "1  136.698547  270.934784  179.554993  183.194748    0.479817      1  drowsy\n",
      "2  141.032684  302.276550  279.535828  274.076782    0.411273      1  drowsy]\n",
      "Objects detected!\n"
     ]
    },
    {
     "name": "stderr",
     "output_type": "stream",
     "text": [
      "C:\\Users\\Rakshitha/.cache\\torch\\hub\\ultralytics_yolov5_master\\models\\common.py:894: FutureWarning: `torch.cuda.amp.autocast(args...)` is deprecated. Please use `torch.amp.autocast('cuda', args...)` instead.\n",
      "  with amp.autocast(autocast):\n",
      "C:\\Users\\Rakshitha/.cache\\torch\\hub\\ultralytics_yolov5_master\\models\\common.py:894: FutureWarning: `torch.cuda.amp.autocast(args...)` is deprecated. Please use `torch.amp.autocast('cuda', args...)` instead.\n",
      "  with amp.autocast(autocast):\n"
     ]
    },
    {
     "name": "stdout",
     "output_type": "stream",
     "text": [
      "[      xcenter     ycenter       width      height  confidence  class    name\n",
      "0  440.338379  295.547180  338.312622  292.347839    0.409228      1  drowsy\n",
      "1  141.136002  300.921997  282.272003  277.183167    0.384814      1  drowsy\n",
      "2  139.074768  270.056091  176.556641  192.932755    0.373014      1  drowsy]\n",
      "Objects detected!\n",
      "[      xcenter     ycenter       width      height  confidence  class    name\n",
      "0  136.478073  309.041107  222.494965  245.396057    0.523697      1  drowsy\n",
      "1  444.984253  295.820312  332.104614  284.149048    0.468896      1  drowsy]\n",
      "Objects detected!\n"
     ]
    },
    {
     "name": "stderr",
     "output_type": "stream",
     "text": [
      "C:\\Users\\Rakshitha/.cache\\torch\\hub\\ultralytics_yolov5_master\\models\\common.py:894: FutureWarning: `torch.cuda.amp.autocast(args...)` is deprecated. Please use `torch.amp.autocast('cuda', args...)` instead.\n",
      "  with amp.autocast(autocast):\n",
      "C:\\Users\\Rakshitha/.cache\\torch\\hub\\ultralytics_yolov5_master\\models\\common.py:894: FutureWarning: `torch.cuda.amp.autocast(args...)` is deprecated. Please use `torch.amp.autocast('cuda', args...)` instead.\n",
      "  with amp.autocast(autocast):\n"
     ]
    },
    {
     "name": "stdout",
     "output_type": "stream",
     "text": [
      "[      xcenter     ycenter       width      height  confidence  class    name\n",
      "0  134.889999  304.970642  219.904144  238.610046    0.501977      1  drowsy\n",
      "1  452.849579  296.077423  329.794739  267.579102    0.483104      1  drowsy]\n",
      "Objects detected!\n",
      "[      xcenter     ycenter       width      height  confidence  class    name\n",
      "0  135.930511  307.173065  213.229980  240.157654    0.490360      1  drowsy\n",
      "1  453.326355  296.074493  327.583984  273.294922    0.480978      1  drowsy]\n",
      "Objects detected!\n"
     ]
    },
    {
     "name": "stderr",
     "output_type": "stream",
     "text": [
      "C:\\Users\\Rakshitha/.cache\\torch\\hub\\ultralytics_yolov5_master\\models\\common.py:894: FutureWarning: `torch.cuda.amp.autocast(args...)` is deprecated. Please use `torch.amp.autocast('cuda', args...)` instead.\n",
      "  with amp.autocast(autocast):\n",
      "C:\\Users\\Rakshitha/.cache\\torch\\hub\\ultralytics_yolov5_master\\models\\common.py:894: FutureWarning: `torch.cuda.amp.autocast(args...)` is deprecated. Please use `torch.amp.autocast('cuda', args...)` instead.\n",
      "  with amp.autocast(autocast):\n"
     ]
    },
    {
     "name": "stdout",
     "output_type": "stream",
     "text": [
      "[      xcenter     ycenter       width      height  confidence  class    name\n",
      "0  135.117462  268.187927  173.429382  178.993835    0.648923      1  drowsy\n",
      "1  455.074188  295.761810  325.014465  270.850647    0.538266      1  drowsy\n",
      "2  130.530396  307.365295  261.060791  261.041992    0.290065      1  drowsy]\n",
      "Objects detected!\n"
     ]
    },
    {
     "name": "stderr",
     "output_type": "stream",
     "text": [
      "C:\\Users\\Rakshitha/.cache\\torch\\hub\\ultralytics_yolov5_master\\models\\common.py:894: FutureWarning: `torch.cuda.amp.autocast(args...)` is deprecated. Please use `torch.amp.autocast('cuda', args...)` instead.\n",
      "  with amp.autocast(autocast):\n"
     ]
    },
    {
     "name": "stdout",
     "output_type": "stream",
     "text": [
      "[      xcenter     ycenter       width      height  confidence  class    name\n",
      "0  456.519653  292.901306  335.945282  278.931519    0.526721      1  drowsy\n",
      "1  137.113831  309.468689  229.684326  241.662964    0.505211      1  drowsy]\n",
      "Objects detected!\n"
     ]
    },
    {
     "name": "stderr",
     "output_type": "stream",
     "text": [
      "C:\\Users\\Rakshitha/.cache\\torch\\hub\\ultralytics_yolov5_master\\models\\common.py:894: FutureWarning: `torch.cuda.amp.autocast(args...)` is deprecated. Please use `torch.amp.autocast('cuda', args...)` instead.\n",
      "  with amp.autocast(autocast):\n"
     ]
    },
    {
     "name": "stdout",
     "output_type": "stream",
     "text": [
      "[      xcenter     ycenter       width      height  confidence  class    name\n",
      "0  135.802246  307.249512  219.061218  243.060730    0.508952      1  drowsy\n",
      "1  457.872620  294.949097  334.299194  272.805603    0.476163      1  drowsy]\n",
      "Objects detected!\n"
     ]
    },
    {
     "name": "stderr",
     "output_type": "stream",
     "text": [
      "C:\\Users\\Rakshitha/.cache\\torch\\hub\\ultralytics_yolov5_master\\models\\common.py:894: FutureWarning: `torch.cuda.amp.autocast(args...)` is deprecated. Please use `torch.amp.autocast('cuda', args...)` instead.\n",
      "  with amp.autocast(autocast):\n"
     ]
    },
    {
     "name": "stdout",
     "output_type": "stream",
     "text": [
      "[      xcenter     ycenter       width      height  confidence  class    name\n",
      "0  139.611099  306.344604  209.584381  237.186829    0.535613      1  drowsy\n",
      "1  458.540588  294.473236  336.125732  268.300659    0.532297      1  drowsy]\n",
      "Objects detected!\n",
      "[      xcenter     ycenter       width      height  confidence  class    name\n",
      "0  139.626190  265.025146  164.871796  173.306015    0.738353      1  drowsy\n",
      "1  458.746582  294.708313  349.051880  268.261719    0.476352      1  drowsy]\n",
      "Objects detected!\n"
     ]
    },
    {
     "name": "stderr",
     "output_type": "stream",
     "text": [
      "C:\\Users\\Rakshitha/.cache\\torch\\hub\\ultralytics_yolov5_master\\models\\common.py:894: FutureWarning: `torch.cuda.amp.autocast(args...)` is deprecated. Please use `torch.amp.autocast('cuda', args...)` instead.\n",
      "  with amp.autocast(autocast):\n",
      "C:\\Users\\Rakshitha/.cache\\torch\\hub\\ultralytics_yolov5_master\\models\\common.py:894: FutureWarning: `torch.cuda.amp.autocast(args...)` is deprecated. Please use `torch.amp.autocast('cuda', args...)` instead.\n",
      "  with amp.autocast(autocast):\n"
     ]
    },
    {
     "name": "stdout",
     "output_type": "stream",
     "text": [
      "[      xcenter     ycenter       width      height  confidence  class    name\n",
      "0  138.940994  270.454529  178.918549  180.065735    0.600026      1  drowsy\n",
      "1  457.805847  294.593750  333.822266  274.980835    0.526049      1  drowsy\n",
      "2  141.054016  301.465027  282.108032  260.669617    0.361383      1  drowsy]\n",
      "Objects detected!\n",
      "[      xcenter     ycenter       width      height  confidence  class    name\n",
      "0  459.484985  273.915497  318.852417  276.447632    0.589700      1  drowsy\n",
      "1  137.372253  307.364624  225.755371  243.977798    0.549091      1  drowsy]\n",
      "Objects detected!\n"
     ]
    },
    {
     "name": "stderr",
     "output_type": "stream",
     "text": [
      "C:\\Users\\Rakshitha/.cache\\torch\\hub\\ultralytics_yolov5_master\\models\\common.py:894: FutureWarning: `torch.cuda.amp.autocast(args...)` is deprecated. Please use `torch.amp.autocast('cuda', args...)` instead.\n",
      "  with amp.autocast(autocast):\n",
      "C:\\Users\\Rakshitha/.cache\\torch\\hub\\ultralytics_yolov5_master\\models\\common.py:894: FutureWarning: `torch.cuda.amp.autocast(args...)` is deprecated. Please use `torch.amp.autocast('cuda', args...)` instead.\n",
      "  with amp.autocast(autocast):\n"
     ]
    },
    {
     "name": "stdout",
     "output_type": "stream",
     "text": [
      "[      xcenter     ycenter       width      height  confidence  class    name\n",
      "0  466.813782  239.634308  217.371948  261.473816    0.535356      1  drowsy\n",
      "1  136.951233  274.320709  184.044739  193.555603    0.423546      1  drowsy\n",
      "2  141.886490  300.378510  283.772980  280.152161    0.412207      1  drowsy]\n",
      "Objects detected!\n",
      "[      xcenter     ycenter       width      height  confidence  class    name\n",
      "0  137.347260  275.879211  181.764496  196.885559    0.566837      1  drowsy\n",
      "1  469.237854  243.341614  231.157806  275.067139    0.408244      0   awake\n",
      "2  469.445099  258.651428  262.237610  266.197754    0.294309      1  drowsy]\n",
      "Objects detected!\n"
     ]
    },
    {
     "name": "stderr",
     "output_type": "stream",
     "text": [
      "C:\\Users\\Rakshitha/.cache\\torch\\hub\\ultralytics_yolov5_master\\models\\common.py:894: FutureWarning: `torch.cuda.amp.autocast(args...)` is deprecated. Please use `torch.amp.autocast('cuda', args...)` instead.\n",
      "  with amp.autocast(autocast):\n",
      "C:\\Users\\Rakshitha/.cache\\torch\\hub\\ultralytics_yolov5_master\\models\\common.py:894: FutureWarning: `torch.cuda.amp.autocast(args...)` is deprecated. Please use `torch.amp.autocast('cuda', args...)` instead.\n",
      "  with amp.autocast(autocast):\n"
     ]
    },
    {
     "name": "stdout",
     "output_type": "stream",
     "text": [
      "[      xcenter     ycenter       width      height  confidence  class    name\n",
      "0  470.820374  245.491928  220.136810  275.799713    0.662423      0   awake\n",
      "1  139.946716  271.064545  182.934967  189.205750    0.581251      1  drowsy\n",
      "2  142.628082  298.939697  285.256165  275.156128    0.392995      1  drowsy]\n",
      "Objects detected!\n",
      "[      xcenter     ycenter       width      height  confidence  class    name\n",
      "0  468.658752  246.107208  224.532379  286.990417    0.589947      0   awake\n",
      "1  138.505463  308.746796  223.436768  247.806274    0.541440      1  drowsy]\n",
      "Objects detected!\n"
     ]
    },
    {
     "name": "stderr",
     "output_type": "stream",
     "text": [
      "C:\\Users\\Rakshitha/.cache\\torch\\hub\\ultralytics_yolov5_master\\models\\common.py:894: FutureWarning: `torch.cuda.amp.autocast(args...)` is deprecated. Please use `torch.amp.autocast('cuda', args...)` instead.\n",
      "  with amp.autocast(autocast):\n",
      "C:\\Users\\Rakshitha/.cache\\torch\\hub\\ultralytics_yolov5_master\\models\\common.py:894: FutureWarning: `torch.cuda.amp.autocast(args...)` is deprecated. Please use `torch.amp.autocast('cuda', args...)` instead.\n",
      "  with amp.autocast(autocast):\n"
     ]
    },
    {
     "name": "stdout",
     "output_type": "stream",
     "text": [
      "[      xcenter     ycenter       width      height  confidence  class    name\n",
      "0  469.758789  244.212555  229.183136  273.868469    0.588731      1  drowsy\n",
      "1  138.942841  272.929535  179.580261  189.888916    0.470726      1  drowsy\n",
      "2  143.865463  300.721222  274.338898  281.367798    0.437477      1  drowsy]\n",
      "Objects detected!\n",
      "[      xcenter     ycenter       width      height  confidence  class    name\n",
      "0  141.126556  271.812164  178.163147  185.263306    0.640759      1  drowsy\n",
      "1  466.158417  254.124771  256.841370  285.716888    0.421045      1  drowsy\n",
      "2  133.617004  307.990967  267.234009  270.469604    0.317081      1  drowsy]\n",
      "Objects detected!\n"
     ]
    },
    {
     "name": "stderr",
     "output_type": "stream",
     "text": [
      "C:\\Users\\Rakshitha/.cache\\torch\\hub\\ultralytics_yolov5_master\\models\\common.py:894: FutureWarning: `torch.cuda.amp.autocast(args...)` is deprecated. Please use `torch.amp.autocast('cuda', args...)` instead.\n",
      "  with amp.autocast(autocast):\n",
      "C:\\Users\\Rakshitha/.cache\\torch\\hub\\ultralytics_yolov5_master\\models\\common.py:894: FutureWarning: `torch.cuda.amp.autocast(args...)` is deprecated. Please use `torch.amp.autocast('cuda', args...)` instead.\n",
      "  with amp.autocast(autocast):\n"
     ]
    },
    {
     "name": "stdout",
     "output_type": "stream",
     "text": [
      "[      xcenter     ycenter       width      height  confidence  class    name\n",
      "0  143.907349  305.849030  208.084961  237.594055    0.614337      1  drowsy\n",
      "1  469.519379  243.948883  224.705872  269.711731    0.501393      0   awake\n",
      "2  468.159912  248.349915  243.932831  279.667114    0.392095      1  drowsy]\n",
      "Objects detected!\n",
      "[      xcenter     ycenter       width      height  confidence  class    name\n",
      "0  143.929459  271.478424  159.843475  167.582214    0.716977      1  drowsy\n",
      "1  463.045990  243.095245  251.798279  287.054382    0.525433      0   awake\n",
      "2  144.978165  301.279449  253.388885  246.764526    0.334991      1  drowsy]\n",
      "Objects detected!\n"
     ]
    },
    {
     "name": "stderr",
     "output_type": "stream",
     "text": [
      "C:\\Users\\Rakshitha/.cache\\torch\\hub\\ultralytics_yolov5_master\\models\\common.py:894: FutureWarning: `torch.cuda.amp.autocast(args...)` is deprecated. Please use `torch.amp.autocast('cuda', args...)` instead.\n",
      "  with amp.autocast(autocast):\n",
      "C:\\Users\\Rakshitha/.cache\\torch\\hub\\ultralytics_yolov5_master\\models\\common.py:894: FutureWarning: `torch.cuda.amp.autocast(args...)` is deprecated. Please use `torch.amp.autocast('cuda', args...)` instead.\n",
      "  with amp.autocast(autocast):\n"
     ]
    },
    {
     "name": "stdout",
     "output_type": "stream",
     "text": [
      "[      xcenter     ycenter       width      height  confidence  class    name\n",
      "0  454.613220  233.805023  239.488190  282.512512    0.719800      0   awake\n",
      "1  141.733704  272.845428  159.288757  165.702637    0.591057      1  drowsy\n",
      "2  146.199722  303.966492  248.256134  259.513428    0.433010      1  drowsy]\n",
      "Objects detected!\n",
      "[      xcenter     ycenter       width      height  confidence  class    name\n",
      "0  141.669144  275.780243  159.419678  164.598465    0.643587      1  drowsy\n",
      "1  449.659332  231.421661  245.949280  312.121765    0.468484      1  drowsy\n",
      "2  146.260681  321.897644  254.091187  264.851501    0.301638      1  drowsy]\n",
      "Objects detected!\n"
     ]
    },
    {
     "name": "stderr",
     "output_type": "stream",
     "text": [
      "C:\\Users\\Rakshitha/.cache\\torch\\hub\\ultralytics_yolov5_master\\models\\common.py:894: FutureWarning: `torch.cuda.amp.autocast(args...)` is deprecated. Please use `torch.amp.autocast('cuda', args...)` instead.\n",
      "  with amp.autocast(autocast):\n",
      "C:\\Users\\Rakshitha/.cache\\torch\\hub\\ultralytics_yolov5_master\\models\\common.py:894: FutureWarning: `torch.cuda.amp.autocast(args...)` is deprecated. Please use `torch.amp.autocast('cuda', args...)` instead.\n",
      "  with amp.autocast(autocast):\n"
     ]
    },
    {
     "name": "stdout",
     "output_type": "stream",
     "text": [
      "[      xcenter     ycenter       width      height  confidence  class    name\n",
      "0  140.567978  272.036469  154.713409  157.701782    0.694641      1  drowsy\n",
      "1  450.348999  227.485443  257.352295  338.315613    0.421455      1  drowsy\n",
      "2  142.894257  302.207642  249.218094  239.979126    0.412203      1  drowsy]\n",
      "Objects detected!\n",
      "[      xcenter     ycenter       width      height  confidence  class    name\n",
      "0  143.708649  311.143463  203.122437  228.409119    0.625250      1  drowsy\n",
      "1  452.699615  241.533600  276.768372  266.465454    0.378915      1  drowsy]\n",
      "Objects detected!\n"
     ]
    },
    {
     "name": "stderr",
     "output_type": "stream",
     "text": [
      "C:\\Users\\Rakshitha/.cache\\torch\\hub\\ultralytics_yolov5_master\\models\\common.py:894: FutureWarning: `torch.cuda.amp.autocast(args...)` is deprecated. Please use `torch.amp.autocast('cuda', args...)` instead.\n",
      "  with amp.autocast(autocast):\n",
      "C:\\Users\\Rakshitha/.cache\\torch\\hub\\ultralytics_yolov5_master\\models\\common.py:894: FutureWarning: `torch.cuda.amp.autocast(args...)` is deprecated. Please use `torch.amp.autocast('cuda', args...)` instead.\n",
      "  with amp.autocast(autocast):\n"
     ]
    },
    {
     "name": "stdout",
     "output_type": "stream",
     "text": [
      "[      xcenter     ycenter       width      height  confidence  class    name\n",
      "0  139.235977  278.333679  160.922546  167.659546    0.600914      1  drowsy\n",
      "1  458.527405  295.296448  334.243408  264.711731    0.469832      1  drowsy\n",
      "2  144.444977  323.450989  271.525208  272.060730    0.367414      1  drowsy]\n",
      "Objects detected!\n",
      "[      xcenter     ycenter       width      height  confidence  class    name\n",
      "0  138.271423  307.260193  191.575470  228.048889    0.679781      1  drowsy\n",
      "1  471.773743  295.077148  335.895905  307.726074    0.619234      1  drowsy]\n",
      "Objects detected!\n"
     ]
    },
    {
     "name": "stderr",
     "output_type": "stream",
     "text": [
      "C:\\Users\\Rakshitha/.cache\\torch\\hub\\ultralytics_yolov5_master\\models\\common.py:894: FutureWarning: `torch.cuda.amp.autocast(args...)` is deprecated. Please use `torch.amp.autocast('cuda', args...)` instead.\n",
      "  with amp.autocast(autocast):\n",
      "C:\\Users\\Rakshitha/.cache\\torch\\hub\\ultralytics_yolov5_master\\models\\common.py:894: FutureWarning: `torch.cuda.amp.autocast(args...)` is deprecated. Please use `torch.amp.autocast('cuda', args...)` instead.\n",
      "  with amp.autocast(autocast):\n"
     ]
    },
    {
     "name": "stdout",
     "output_type": "stream",
     "text": [
      "[      xcenter     ycenter       width      height  confidence  class    name\n",
      "0  146.089294  308.478302  198.891846  234.868103     0.73311      1  drowsy\n",
      "1  477.048309  296.208557  325.903381  278.768311     0.50572      1  drowsy]\n",
      "Objects detected!\n",
      "[      xcenter     ycenter       width      height  confidence  class    name\n",
      "0  145.359985  310.350342  214.288757  241.873718    0.671444      1  drowsy\n",
      "1  470.225067  272.958191  309.827454  262.845581    0.420814      1  drowsy]\n",
      "Objects detected!\n"
     ]
    },
    {
     "name": "stderr",
     "output_type": "stream",
     "text": [
      "C:\\Users\\Rakshitha/.cache\\torch\\hub\\ultralytics_yolov5_master\\models\\common.py:894: FutureWarning: `torch.cuda.amp.autocast(args...)` is deprecated. Please use `torch.amp.autocast('cuda', args...)` instead.\n",
      "  with amp.autocast(autocast):\n",
      "C:\\Users\\Rakshitha/.cache\\torch\\hub\\ultralytics_yolov5_master\\models\\common.py:894: FutureWarning: `torch.cuda.amp.autocast(args...)` is deprecated. Please use `torch.amp.autocast('cuda', args...)` instead.\n",
      "  with amp.autocast(autocast):\n"
     ]
    },
    {
     "name": "stdout",
     "output_type": "stream",
     "text": [
      "[      xcenter     ycenter       width      height  confidence  class    name\n",
      "0  146.406479  296.087982  192.090118  228.671082    0.785811      1  drowsy\n",
      "1  475.050110  300.307922  329.899780  289.519165    0.421051      1  drowsy]\n",
      "Objects detected!\n",
      "[      xcenter     ycenter       width      height  confidence  class    name\n",
      "0  144.277237  303.390625  219.558441  241.471008    0.764780      1  drowsy\n",
      "1  455.833801  299.505493  288.139801  278.229736    0.346602      1  drowsy]\n",
      "Objects detected!\n"
     ]
    },
    {
     "name": "stderr",
     "output_type": "stream",
     "text": [
      "C:\\Users\\Rakshitha/.cache\\torch\\hub\\ultralytics_yolov5_master\\models\\common.py:894: FutureWarning: `torch.cuda.amp.autocast(args...)` is deprecated. Please use `torch.amp.autocast('cuda', args...)` instead.\n",
      "  with amp.autocast(autocast):\n",
      "C:\\Users\\Rakshitha/.cache\\torch\\hub\\ultralytics_yolov5_master\\models\\common.py:894: FutureWarning: `torch.cuda.amp.autocast(args...)` is deprecated. Please use `torch.amp.autocast('cuda', args...)` instead.\n",
      "  with amp.autocast(autocast):\n"
     ]
    },
    {
     "name": "stdout",
     "output_type": "stream",
     "text": [
      "[      xcenter     ycenter       width      height  confidence  class    name\n",
      "0  145.734253  303.076691  212.807373  233.185486    0.675543      1  drowsy\n",
      "1  457.447357  300.391937  296.591370  280.724792    0.345759      1  drowsy]\n",
      "Objects detected!\n",
      "[      xcenter     ycenter       width      height  confidence  class    name\n",
      "0  141.505173  305.309937  226.813690  240.486084    0.759309      1  drowsy\n",
      "1  457.272766  297.547211  365.454468  331.718079    0.344072      1  drowsy]\n",
      "Objects detected!\n"
     ]
    },
    {
     "name": "stderr",
     "output_type": "stream",
     "text": [
      "C:\\Users\\Rakshitha/.cache\\torch\\hub\\ultralytics_yolov5_master\\models\\common.py:894: FutureWarning: `torch.cuda.amp.autocast(args...)` is deprecated. Please use `torch.amp.autocast('cuda', args...)` instead.\n",
      "  with amp.autocast(autocast):\n",
      "C:\\Users\\Rakshitha/.cache\\torch\\hub\\ultralytics_yolov5_master\\models\\common.py:894: FutureWarning: `torch.cuda.amp.autocast(args...)` is deprecated. Please use `torch.amp.autocast('cuda', args...)` instead.\n",
      "  with amp.autocast(autocast):\n"
     ]
    },
    {
     "name": "stdout",
     "output_type": "stream",
     "text": [
      "[      xcenter     ycenter       width      height  confidence  class    name\n",
      "0  139.227356  301.608826  214.620544  236.406860    0.707083      1  drowsy\n",
      "1  464.382996  302.952393  340.148102  303.800537    0.277760      1  drowsy]\n",
      "Objects detected!\n",
      "[      xcenter     ycenter       width      height  confidence  class    name\n",
      "0  135.938980  307.329926  228.937836  237.603104    0.644205      1  drowsy\n",
      "1  422.266266  301.513428  302.112732  254.492615    0.481805      1  drowsy]\n",
      "Objects detected!\n"
     ]
    },
    {
     "name": "stderr",
     "output_type": "stream",
     "text": [
      "C:\\Users\\Rakshitha/.cache\\torch\\hub\\ultralytics_yolov5_master\\models\\common.py:894: FutureWarning: `torch.cuda.amp.autocast(args...)` is deprecated. Please use `torch.amp.autocast('cuda', args...)` instead.\n",
      "  with amp.autocast(autocast):\n",
      "C:\\Users\\Rakshitha/.cache\\torch\\hub\\ultralytics_yolov5_master\\models\\common.py:894: FutureWarning: `torch.cuda.amp.autocast(args...)` is deprecated. Please use `torch.amp.autocast('cuda', args...)` instead.\n",
      "  with amp.autocast(autocast):\n"
     ]
    },
    {
     "name": "stdout",
     "output_type": "stream",
     "text": [
      "[      xcenter     ycenter       width      height  confidence  class    name\n",
      "0  392.136810  302.943817  239.651489  237.031250    0.570388      1  drowsy\n",
      "1  134.322708  307.629150  234.199677  240.861801    0.562328      1  drowsy\n",
      "2  566.168579  411.793701  147.662872  125.505127    0.279154      0   awake]\n",
      "Objects detected!\n",
      "[      xcenter     ycenter       width      height  confidence  class    name\n",
      "0  134.391052  307.461823  233.519196  242.193542    0.575316      1  drowsy\n",
      "1  392.613098  299.091156  299.758911  266.013489    0.562491      1  drowsy]\n",
      "Objects detected!\n"
     ]
    },
    {
     "name": "stderr",
     "output_type": "stream",
     "text": [
      "C:\\Users\\Rakshitha/.cache\\torch\\hub\\ultralytics_yolov5_master\\models\\common.py:894: FutureWarning: `torch.cuda.amp.autocast(args...)` is deprecated. Please use `torch.amp.autocast('cuda', args...)` instead.\n",
      "  with amp.autocast(autocast):\n",
      "C:\\Users\\Rakshitha/.cache\\torch\\hub\\ultralytics_yolov5_master\\models\\common.py:894: FutureWarning: `torch.cuda.amp.autocast(args...)` is deprecated. Please use `torch.amp.autocast('cuda', args...)` instead.\n",
      "  with amp.autocast(autocast):\n"
     ]
    },
    {
     "name": "stdout",
     "output_type": "stream",
     "text": [
      "[      xcenter     ycenter       width      height  confidence  class    name\n",
      "0  134.948181  305.872833  228.350464  242.348755    0.632084      1  drowsy]\n",
      "Objects detected!\n",
      "[      xcenter     ycenter       width      height  confidence  class    name\n",
      "0  418.955322  266.455200  268.545776  271.811218    0.521945      1  drowsy\n",
      "1  136.476959  305.101868  222.468323  234.056046    0.462988      1  drowsy\n",
      "2  123.053909  258.919678  151.195740  157.804932    0.327355      1  drowsy]\n",
      "Objects detected!\n"
     ]
    },
    {
     "name": "stderr",
     "output_type": "stream",
     "text": [
      "C:\\Users\\Rakshitha/.cache\\torch\\hub\\ultralytics_yolov5_master\\models\\common.py:894: FutureWarning: `torch.cuda.amp.autocast(args...)` is deprecated. Please use `torch.amp.autocast('cuda', args...)` instead.\n",
      "  with amp.autocast(autocast):\n",
      "C:\\Users\\Rakshitha/.cache\\torch\\hub\\ultralytics_yolov5_master\\models\\common.py:894: FutureWarning: `torch.cuda.amp.autocast(args...)` is deprecated. Please use `torch.amp.autocast('cuda', args...)` instead.\n",
      "  with amp.autocast(autocast):\n"
     ]
    },
    {
     "name": "stdout",
     "output_type": "stream",
     "text": [
      "[      xcenter     ycenter       width      height  confidence  class    name\n",
      "0  447.396698  257.303131  255.219910  267.568787    0.650888      1  drowsy\n",
      "1  137.947845  309.297607  232.801147  244.408447    0.597626      1  drowsy]\n",
      "Objects detected!\n",
      "[      xcenter     ycenter       width      height  confidence  class    name\n",
      "0  140.379578  305.862671  224.041748  240.621704    0.685345      1  drowsy\n",
      "1  474.064545  255.060211  257.649841  260.280701    0.602877      1  drowsy]\n",
      "Objects detected!\n"
     ]
    },
    {
     "name": "stderr",
     "output_type": "stream",
     "text": [
      "C:\\Users\\Rakshitha/.cache\\torch\\hub\\ultralytics_yolov5_master\\models\\common.py:894: FutureWarning: `torch.cuda.amp.autocast(args...)` is deprecated. Please use `torch.amp.autocast('cuda', args...)` instead.\n",
      "  with amp.autocast(autocast):\n",
      "C:\\Users\\Rakshitha/.cache\\torch\\hub\\ultralytics_yolov5_master\\models\\common.py:894: FutureWarning: `torch.cuda.amp.autocast(args...)` is deprecated. Please use `torch.amp.autocast('cuda', args...)` instead.\n",
      "  with amp.autocast(autocast):\n"
     ]
    },
    {
     "name": "stdout",
     "output_type": "stream",
     "text": [
      "[      xcenter     ycenter       width      height  confidence  class    name\n",
      "0  139.487244  304.475433  217.763367  235.724243    0.562329      1  drowsy\n",
      "1  479.558167  254.639130  259.940918  280.775574    0.527646      1  drowsy]\n",
      "Objects detected!\n",
      "[      xcenter     ycenter       width      height  confidence  class    name\n",
      "0  480.076477  246.226639  224.022705  259.331940    0.565968      0   awake\n",
      "1  147.707153  305.598053  295.414307  285.923035    0.509938      1  drowsy]\n",
      "Objects detected!\n"
     ]
    },
    {
     "name": "stderr",
     "output_type": "stream",
     "text": [
      "C:\\Users\\Rakshitha/.cache\\torch\\hub\\ultralytics_yolov5_master\\models\\common.py:894: FutureWarning: `torch.cuda.amp.autocast(args...)` is deprecated. Please use `torch.amp.autocast('cuda', args...)` instead.\n",
      "  with amp.autocast(autocast):\n",
      "C:\\Users\\Rakshitha/.cache\\torch\\hub\\ultralytics_yolov5_master\\models\\common.py:894: FutureWarning: `torch.cuda.amp.autocast(args...)` is deprecated. Please use `torch.amp.autocast('cuda', args...)` instead.\n",
      "  with amp.autocast(autocast):\n"
     ]
    },
    {
     "name": "stdout",
     "output_type": "stream",
     "text": [
      "[      xcenter     ycenter       width      height  confidence  class    name\n",
      "0  137.639191  307.774658  238.980591  245.453064    0.559372      1  drowsy\n",
      "1  475.856049  244.596893  218.414246  254.889893    0.507660      0   awake\n",
      "2  473.878204  254.173096  261.859558  266.634521    0.361511      1  drowsy]\n",
      "Objects detected!\n",
      "[      xcenter     ycenter       width      height  confidence  class    name\n",
      "0  468.369202  246.121796  215.247223  261.513489    0.658507      0   awake\n",
      "1  150.429398  306.951050  300.858795  280.232910    0.485567      1  drowsy]\n",
      "Objects detected!\n"
     ]
    },
    {
     "name": "stderr",
     "output_type": "stream",
     "text": [
      "C:\\Users\\Rakshitha/.cache\\torch\\hub\\ultralytics_yolov5_master\\models\\common.py:894: FutureWarning: `torch.cuda.amp.autocast(args...)` is deprecated. Please use `torch.amp.autocast('cuda', args...)` instead.\n",
      "  with amp.autocast(autocast):\n",
      "C:\\Users\\Rakshitha/.cache\\torch\\hub\\ultralytics_yolov5_master\\models\\common.py:894: FutureWarning: `torch.cuda.amp.autocast(args...)` is deprecated. Please use `torch.amp.autocast('cuda', args...)` instead.\n",
      "  with amp.autocast(autocast):\n"
     ]
    },
    {
     "name": "stdout",
     "output_type": "stream",
     "text": [
      "[      xcenter     ycenter       width      height  confidence  class    name\n",
      "0  458.021179  248.209396  216.661957  254.443756    0.577759      0   awake\n",
      "1  116.381912  304.462708  194.310852  229.857117    0.463871      1  drowsy]\n",
      "Objects detected!\n",
      "[      xcenter     ycenter       width      height  confidence  class    name\n",
      "0  122.716789  268.349213  154.596115  175.457520    0.577482      1  drowsy\n",
      "1  440.861206  252.705154  218.700195  271.693756    0.507894      0   awake\n",
      "2  144.061172  299.352264  268.085724  242.909241    0.327736      1  drowsy]\n",
      "Objects detected!\n"
     ]
    },
    {
     "name": "stderr",
     "output_type": "stream",
     "text": [
      "C:\\Users\\Rakshitha/.cache\\torch\\hub\\ultralytics_yolov5_master\\models\\common.py:894: FutureWarning: `torch.cuda.amp.autocast(args...)` is deprecated. Please use `torch.amp.autocast('cuda', args...)` instead.\n",
      "  with amp.autocast(autocast):\n",
      "C:\\Users\\Rakshitha/.cache\\torch\\hub\\ultralytics_yolov5_master\\models\\common.py:894: FutureWarning: `torch.cuda.amp.autocast(args...)` is deprecated. Please use `torch.amp.autocast('cuda', args...)` instead.\n",
      "  with amp.autocast(autocast):\n"
     ]
    },
    {
     "name": "stdout",
     "output_type": "stream",
     "text": [
      "[      xcenter     ycenter       width      height  confidence  class    name\n",
      "0  430.552856  264.274994  269.121826  252.852707    0.621827      1  drowsy\n",
      "1  126.532257  272.303680  152.614685  190.019714    0.529193      1  drowsy]\n",
      "Objects detected!\n",
      "[      xcenter     ycenter       width      height  confidence  class    name\n",
      "0  463.179382  267.037262  280.692261  260.676758    0.514697      1  drowsy\n",
      "1  146.440002  305.071899  224.509903  228.982300    0.446344      1  drowsy]\n",
      "Objects detected!\n"
     ]
    },
    {
     "name": "stderr",
     "output_type": "stream",
     "text": [
      "C:\\Users\\Rakshitha/.cache\\torch\\hub\\ultralytics_yolov5_master\\models\\common.py:894: FutureWarning: `torch.cuda.amp.autocast(args...)` is deprecated. Please use `torch.amp.autocast('cuda', args...)` instead.\n",
      "  with amp.autocast(autocast):\n",
      "C:\\Users\\Rakshitha/.cache\\torch\\hub\\ultralytics_yolov5_master\\models\\common.py:894: FutureWarning: `torch.cuda.amp.autocast(args...)` is deprecated. Please use `torch.amp.autocast('cuda', args...)` instead.\n",
      "  with amp.autocast(autocast):\n"
     ]
    },
    {
     "name": "stdout",
     "output_type": "stream",
     "text": [
      "[      xcenter     ycenter       width      height  confidence  class    name\n",
      "0  146.992752  303.151947  221.528290  230.807785    0.490041      1  drowsy\n",
      "1  470.567078  296.589691  321.212524  261.283325    0.481193      1  drowsy]\n",
      "Objects detected!\n",
      "[      xcenter     ycenter       width      height  confidence  class    name\n",
      "0  473.524475  297.056671  307.275543  256.906189    0.548818      1  drowsy\n",
      "1  133.801971  280.106293  183.803650  195.750061    0.448685      1  drowsy]\n",
      "Objects detected!\n"
     ]
    },
    {
     "name": "stderr",
     "output_type": "stream",
     "text": [
      "C:\\Users\\Rakshitha/.cache\\torch\\hub\\ultralytics_yolov5_master\\models\\common.py:894: FutureWarning: `torch.cuda.amp.autocast(args...)` is deprecated. Please use `torch.amp.autocast('cuda', args...)` instead.\n",
      "  with amp.autocast(autocast):\n",
      "C:\\Users\\Rakshitha/.cache\\torch\\hub\\ultralytics_yolov5_master\\models\\common.py:894: FutureWarning: `torch.cuda.amp.autocast(args...)` is deprecated. Please use `torch.amp.autocast('cuda', args...)` instead.\n",
      "  with amp.autocast(autocast):\n"
     ]
    },
    {
     "name": "stdout",
     "output_type": "stream",
     "text": [
      "[      xcenter     ycenter       width      height  confidence  class    name\n",
      "0  134.614014  274.438873  170.327637  184.790344    0.717862      1  drowsy\n",
      "1  471.133881  299.603363  288.175354  260.530823    0.479885      1  drowsy]\n",
      "Objects detected!\n",
      "[      xcenter     ycenter       width      height  confidence  class    name\n",
      "0  141.644257  300.025513  201.683044  230.211655    0.635521      1  drowsy\n",
      "1  469.606903  301.301361  282.857971  260.322937    0.473264      1  drowsy]\n",
      "Objects detected!\n"
     ]
    },
    {
     "name": "stderr",
     "output_type": "stream",
     "text": [
      "C:\\Users\\Rakshitha/.cache\\torch\\hub\\ultralytics_yolov5_master\\models\\common.py:894: FutureWarning: `torch.cuda.amp.autocast(args...)` is deprecated. Please use `torch.amp.autocast('cuda', args...)` instead.\n",
      "  with amp.autocast(autocast):\n",
      "C:\\Users\\Rakshitha/.cache\\torch\\hub\\ultralytics_yolov5_master\\models\\common.py:894: FutureWarning: `torch.cuda.amp.autocast(args...)` is deprecated. Please use `torch.amp.autocast('cuda', args...)` instead.\n",
      "  with amp.autocast(autocast):\n"
     ]
    },
    {
     "name": "stdout",
     "output_type": "stream",
     "text": [
      "[      xcenter     ycenter       width      height  confidence  class    name\n",
      "0  143.509964  301.137451  209.916534  234.733887    0.650740      1  drowsy\n",
      "1  471.761810  300.909332  284.166443  263.579285    0.535084      1  drowsy]\n",
      "Objects detected!\n",
      "[      xcenter     ycenter       width      height  confidence  class    name\n",
      "0  139.145905  300.605133  211.651245  236.185135     0.65162      1  drowsy\n",
      "1  470.725769  299.616150  290.375366  256.853149     0.51630      1  drowsy]\n",
      "Objects detected!\n"
     ]
    },
    {
     "name": "stderr",
     "output_type": "stream",
     "text": [
      "C:\\Users\\Rakshitha/.cache\\torch\\hub\\ultralytics_yolov5_master\\models\\common.py:894: FutureWarning: `torch.cuda.amp.autocast(args...)` is deprecated. Please use `torch.amp.autocast('cuda', args...)` instead.\n",
      "  with amp.autocast(autocast):\n",
      "C:\\Users\\Rakshitha/.cache\\torch\\hub\\ultralytics_yolov5_master\\models\\common.py:894: FutureWarning: `torch.cuda.amp.autocast(args...)` is deprecated. Please use `torch.amp.autocast('cuda', args...)` instead.\n",
      "  with amp.autocast(autocast):\n"
     ]
    },
    {
     "name": "stdout",
     "output_type": "stream",
     "text": [
      "[      xcenter     ycenter       width      height  confidence  class    name\n",
      "0  456.398376  271.400970  257.008667  228.347534    0.528006      1  drowsy\n",
      "1  123.251205  299.563812  242.432587  257.666626    0.496458      1  drowsy]\n",
      "Objects detected!\n",
      "[      xcenter     ycenter       width      height  confidence  class    name\n",
      "0  101.208725  291.816101  179.094940  243.263901    0.741546      1  drowsy\n",
      "1  440.210052  290.237366  278.742004  264.982056    0.514157      1  drowsy]\n",
      "Objects detected!\n"
     ]
    },
    {
     "name": "stderr",
     "output_type": "stream",
     "text": [
      "C:\\Users\\Rakshitha/.cache\\torch\\hub\\ultralytics_yolov5_master\\models\\common.py:894: FutureWarning: `torch.cuda.amp.autocast(args...)` is deprecated. Please use `torch.amp.autocast('cuda', args...)` instead.\n",
      "  with amp.autocast(autocast):\n",
      "C:\\Users\\Rakshitha/.cache\\torch\\hub\\ultralytics_yolov5_master\\models\\common.py:894: FutureWarning: `torch.cuda.amp.autocast(args...)` is deprecated. Please use `torch.amp.autocast('cuda', args...)` instead.\n",
      "  with amp.autocast(autocast):\n"
     ]
    },
    {
     "name": "stdout",
     "output_type": "stream",
     "text": [
      "[      xcenter     ycenter       width      height  confidence  class    name\n",
      "0  381.132446  299.187012  266.005005  277.841553    0.719284      1  drowsy\n",
      "1   74.132187  304.690277  148.264374  249.521118    0.631135      1  drowsy]\n",
      "Objects detected!\n",
      "[      xcenter     ycenter       width      height  confidence  class    name\n",
      "0  354.580688  304.974060  240.448242  265.114868    0.726867      1  drowsy\n",
      "1   78.908188  313.137939  157.816376  255.265320    0.618008      1  drowsy]\n",
      "Objects detected!\n"
     ]
    },
    {
     "name": "stderr",
     "output_type": "stream",
     "text": [
      "C:\\Users\\Rakshitha/.cache\\torch\\hub\\ultralytics_yolov5_master\\models\\common.py:894: FutureWarning: `torch.cuda.amp.autocast(args...)` is deprecated. Please use `torch.amp.autocast('cuda', args...)` instead.\n",
      "  with amp.autocast(autocast):\n",
      "C:\\Users\\Rakshitha/.cache\\torch\\hub\\ultralytics_yolov5_master\\models\\common.py:894: FutureWarning: `torch.cuda.amp.autocast(args...)` is deprecated. Please use `torch.amp.autocast('cuda', args...)` instead.\n",
      "  with amp.autocast(autocast):\n"
     ]
    },
    {
     "name": "stdout",
     "output_type": "stream",
     "text": [
      "[      xcenter     ycenter       width      height  confidence  class    name\n",
      "0  322.877625  301.462921  217.742432  246.029251    0.761455      1  drowsy\n",
      "1   71.920883  311.487091  143.841766  249.040955    0.601264      1  drowsy]\n",
      "Objects detected!\n",
      "[      xcenter     ycenter       width     height  confidence  class    name\n",
      "0  283.968872  301.219421  292.208496  278.27002    0.669758      1  drowsy]\n",
      "Objects detected!\n"
     ]
    },
    {
     "name": "stderr",
     "output_type": "stream",
     "text": [
      "C:\\Users\\Rakshitha/.cache\\torch\\hub\\ultralytics_yolov5_master\\models\\common.py:894: FutureWarning: `torch.cuda.amp.autocast(args...)` is deprecated. Please use `torch.amp.autocast('cuda', args...)` instead.\n",
      "  with amp.autocast(autocast):\n",
      "C:\\Users\\Rakshitha/.cache\\torch\\hub\\ultralytics_yolov5_master\\models\\common.py:894: FutureWarning: `torch.cuda.amp.autocast(args...)` is deprecated. Please use `torch.amp.autocast('cuda', args...)` instead.\n",
      "  with amp.autocast(autocast):\n"
     ]
    },
    {
     "name": "stdout",
     "output_type": "stream",
     "text": [
      "[      xcenter     ycenter       width     height  confidence  class    name\n",
      "0  257.230560  299.590240  291.506409  274.54657    0.676082      1  drowsy\n",
      "1  599.383057  394.705383   76.732544  160.71521    0.595939      1  drowsy]\n",
      "Objects detected!\n",
      "[      xcenter     ycenter       width      height  confidence  class    name\n",
      "0  244.371216  295.193817  307.800537  278.176331    0.593466      1  drowsy\n",
      "1  585.354370  396.115173   96.970947  158.916992    0.256132      1  drowsy]\n",
      "Objects detected!\n"
     ]
    },
    {
     "name": "stderr",
     "output_type": "stream",
     "text": [
      "C:\\Users\\Rakshitha/.cache\\torch\\hub\\ultralytics_yolov5_master\\models\\common.py:894: FutureWarning: `torch.cuda.amp.autocast(args...)` is deprecated. Please use `torch.amp.autocast('cuda', args...)` instead.\n",
      "  with amp.autocast(autocast):\n",
      "C:\\Users\\Rakshitha/.cache\\torch\\hub\\ultralytics_yolov5_master\\models\\common.py:894: FutureWarning: `torch.cuda.amp.autocast(args...)` is deprecated. Please use `torch.amp.autocast('cuda', args...)` instead.\n",
      "  with amp.autocast(autocast):\n"
     ]
    },
    {
     "name": "stdout",
     "output_type": "stream",
     "text": [
      "[      xcenter     ycenter       width      height  confidence  class    name\n",
      "0  210.579285  293.068878  273.289185  274.590332     0.71138      1  drowsy]\n",
      "Objects detected!\n",
      "[      xcenter     ycenter       width      height  confidence  class    name\n",
      "0  160.552124  299.718658  321.104248  292.289185    0.586957      1  drowsy]\n",
      "Objects detected!\n"
     ]
    },
    {
     "name": "stderr",
     "output_type": "stream",
     "text": [
      "C:\\Users\\Rakshitha/.cache\\torch\\hub\\ultralytics_yolov5_master\\models\\common.py:894: FutureWarning: `torch.cuda.amp.autocast(args...)` is deprecated. Please use `torch.amp.autocast('cuda', args...)` instead.\n",
      "  with amp.autocast(autocast):\n",
      "C:\\Users\\Rakshitha/.cache\\torch\\hub\\ultralytics_yolov5_master\\models\\common.py:894: FutureWarning: `torch.cuda.amp.autocast(args...)` is deprecated. Please use `torch.amp.autocast('cuda', args...)` instead.\n",
      "  with amp.autocast(autocast):\n"
     ]
    },
    {
     "name": "stdout",
     "output_type": "stream",
     "text": [
      "[      xcenter     ycenter       width      height  confidence  class    name\n",
      "0  587.259705  347.787476   97.811157  223.742310    0.728469      1  drowsy\n",
      "1  149.979034  295.990112  299.958069  298.495972    0.484642      1  drowsy]\n",
      "Objects detected!\n",
      "[      xcenter     ycenter       width      height  confidence  class    name\n",
      "0  564.671387  346.582977  146.237305  217.978882    0.848385      1  drowsy\n",
      "1  131.370056  296.130524  262.740112  283.674255    0.515545      1  drowsy]\n",
      "Objects detected!\n"
     ]
    },
    {
     "name": "stderr",
     "output_type": "stream",
     "text": [
      "C:\\Users\\Rakshitha/.cache\\torch\\hub\\ultralytics_yolov5_master\\models\\common.py:894: FutureWarning: `torch.cuda.amp.autocast(args...)` is deprecated. Please use `torch.amp.autocast('cuda', args...)` instead.\n",
      "  with amp.autocast(autocast):\n",
      "C:\\Users\\Rakshitha/.cache\\torch\\hub\\ultralytics_yolov5_master\\models\\common.py:894: FutureWarning: `torch.cuda.amp.autocast(args...)` is deprecated. Please use `torch.amp.autocast('cuda', args...)` instead.\n",
      "  with amp.autocast(autocast):\n"
     ]
    },
    {
     "name": "stdout",
     "output_type": "stream",
     "text": [
      "[      xcenter     ycenter       width      height  confidence  class    name\n",
      "0  541.396301  343.257935  190.691986  225.137756    0.796113      1  drowsy\n",
      "1  123.518356  297.531342  247.036713  289.670837    0.390539      1  drowsy]\n",
      "Objects detected!\n",
      "[      xcenter     ycenter       width      height  confidence  class    name\n",
      "0  522.060059  344.314301  235.879852  238.038940    0.678516      1  drowsy\n",
      "1  111.926231  297.891235  223.852463  288.514832    0.392936      1  drowsy]\n",
      "Objects detected!\n"
     ]
    },
    {
     "name": "stderr",
     "output_type": "stream",
     "text": [
      "C:\\Users\\Rakshitha/.cache\\torch\\hub\\ultralytics_yolov5_master\\models\\common.py:894: FutureWarning: `torch.cuda.amp.autocast(args...)` is deprecated. Please use `torch.amp.autocast('cuda', args...)` instead.\n",
      "  with amp.autocast(autocast):\n",
      "C:\\Users\\Rakshitha/.cache\\torch\\hub\\ultralytics_yolov5_master\\models\\common.py:894: FutureWarning: `torch.cuda.amp.autocast(args...)` is deprecated. Please use `torch.amp.autocast('cuda', args...)` instead.\n",
      "  with amp.autocast(autocast):\n"
     ]
    },
    {
     "name": "stdout",
     "output_type": "stream",
     "text": [
      "[      xcenter     ycenter       width      height  confidence  class    name\n",
      "0  473.065857  330.695862  187.219482  222.753723    0.509944      1  drowsy\n",
      "1  111.363411  298.243042  222.726822  284.082397    0.368562      1  drowsy]\n",
      "Objects detected!\n",
      "[      xcenter     ycenter       width      height  confidence  class    name\n",
      "0  470.246460  309.682190  176.445435  187.488708    0.502777      1  drowsy\n",
      "1  112.182571  298.458038  224.365143  281.554321    0.414914      1  drowsy]\n",
      "Objects detected!\n"
     ]
    },
    {
     "name": "stderr",
     "output_type": "stream",
     "text": [
      "C:\\Users\\Rakshitha/.cache\\torch\\hub\\ultralytics_yolov5_master\\models\\common.py:894: FutureWarning: `torch.cuda.amp.autocast(args...)` is deprecated. Please use `torch.amp.autocast('cuda', args...)` instead.\n",
      "  with amp.autocast(autocast):\n",
      "C:\\Users\\Rakshitha/.cache\\torch\\hub\\ultralytics_yolov5_master\\models\\common.py:894: FutureWarning: `torch.cuda.amp.autocast(args...)` is deprecated. Please use `torch.amp.autocast('cuda', args...)` instead.\n",
      "  with amp.autocast(autocast):\n"
     ]
    },
    {
     "name": "stdout",
     "output_type": "stream",
     "text": [
      "[      xcenter     ycenter       width      height  confidence  class    name\n",
      "0  485.380615  335.856232  283.575806  250.674683    0.544509      1  drowsy\n",
      "1  126.102921  295.364471  252.205841  298.651428    0.291003      1  drowsy]\n",
      "Objects detected!\n",
      "[      xcenter     ycenter       width      height  confidence  class    name\n",
      "0  477.429596  332.783783  260.005554  255.138245    0.563583      1  drowsy\n",
      "1  136.281830  294.001617  272.563660  303.018555    0.304536      1  drowsy]\n",
      "Objects detected!\n"
     ]
    },
    {
     "name": "stderr",
     "output_type": "stream",
     "text": [
      "C:\\Users\\Rakshitha/.cache\\torch\\hub\\ultralytics_yolov5_master\\models\\common.py:894: FutureWarning: `torch.cuda.amp.autocast(args...)` is deprecated. Please use `torch.amp.autocast('cuda', args...)` instead.\n",
      "  with amp.autocast(autocast):\n",
      "C:\\Users\\Rakshitha/.cache\\torch\\hub\\ultralytics_yolov5_master\\models\\common.py:894: FutureWarning: `torch.cuda.amp.autocast(args...)` is deprecated. Please use `torch.amp.autocast('cuda', args...)` instead.\n",
      "  with amp.autocast(autocast):\n"
     ]
    },
    {
     "name": "stdout",
     "output_type": "stream",
     "text": [
      "[      xcenter     ycenter       width      height  confidence  class    name\n",
      "0  477.617188  316.066986  171.638916  197.904480    0.559015      1  drowsy\n",
      "1  142.629471  270.698486  285.258942  331.260742    0.372862      1  drowsy]\n",
      "Objects detected!\n",
      "[      xcenter     ycenter       width      height  confidence  class    name\n",
      "0  475.936127  331.412689  260.575989  249.800354    0.490303      1  drowsy\n",
      "1  149.342545  273.946777  298.685089  338.731812    0.358615      1  drowsy]\n",
      "Objects detected!\n"
     ]
    },
    {
     "name": "stderr",
     "output_type": "stream",
     "text": [
      "C:\\Users\\Rakshitha/.cache\\torch\\hub\\ultralytics_yolov5_master\\models\\common.py:894: FutureWarning: `torch.cuda.amp.autocast(args...)` is deprecated. Please use `torch.amp.autocast('cuda', args...)` instead.\n",
      "  with amp.autocast(autocast):\n",
      "C:\\Users\\Rakshitha/.cache\\torch\\hub\\ultralytics_yolov5_master\\models\\common.py:894: FutureWarning: `torch.cuda.amp.autocast(args...)` is deprecated. Please use `torch.amp.autocast('cuda', args...)` instead.\n",
      "  with amp.autocast(autocast):\n"
     ]
    },
    {
     "name": "stdout",
     "output_type": "stream",
     "text": [
      "[      xcenter     ycenter       width      height  confidence  class    name\n",
      "0  476.876617  333.703125  257.197449  255.191635    0.569871      1  drowsy\n",
      "1  153.520203  271.456055  307.040405  321.354736    0.345085      1  drowsy]\n",
      "Objects detected!\n",
      "[      xcenter     ycenter       width      height  confidence  class    name\n",
      "0  474.162903  332.838776  205.603760  237.790161    0.604848      1  drowsy\n",
      "1  156.430984  274.808777  312.861969  332.806885    0.333667      1  drowsy]\n",
      "Objects detected!\n"
     ]
    },
    {
     "name": "stderr",
     "output_type": "stream",
     "text": [
      "C:\\Users\\Rakshitha/.cache\\torch\\hub\\ultralytics_yolov5_master\\models\\common.py:894: FutureWarning: `torch.cuda.amp.autocast(args...)` is deprecated. Please use `torch.amp.autocast('cuda', args...)` instead.\n",
      "  with amp.autocast(autocast):\n",
      "C:\\Users\\Rakshitha/.cache\\torch\\hub\\ultralytics_yolov5_master\\models\\common.py:894: FutureWarning: `torch.cuda.amp.autocast(args...)` is deprecated. Please use `torch.amp.autocast('cuda', args...)` instead.\n",
      "  with amp.autocast(autocast):\n"
     ]
    },
    {
     "name": "stdout",
     "output_type": "stream",
     "text": [
      "[      xcenter     ycenter       width      height  confidence  class    name\n",
      "0  484.889008  335.246338  268.250183  248.326721    0.561812      1  drowsy\n",
      "1  153.810715  273.026428  307.621429  321.314575    0.415565      1  drowsy]\n",
      "Objects detected!\n",
      "[      xcenter     ycenter       width      height  confidence  class    name\n",
      "0  472.039948  330.769989  205.770325  233.529907    0.591168      1  drowsy\n",
      "1  157.081680  274.605011  314.163361  332.776123    0.358268      1  drowsy]\n",
      "Objects detected!\n"
     ]
    },
    {
     "name": "stderr",
     "output_type": "stream",
     "text": [
      "C:\\Users\\Rakshitha/.cache\\torch\\hub\\ultralytics_yolov5_master\\models\\common.py:894: FutureWarning: `torch.cuda.amp.autocast(args...)` is deprecated. Please use `torch.amp.autocast('cuda', args...)` instead.\n",
      "  with amp.autocast(autocast):\n",
      "C:\\Users\\Rakshitha/.cache\\torch\\hub\\ultralytics_yolov5_master\\models\\common.py:894: FutureWarning: `torch.cuda.amp.autocast(args...)` is deprecated. Please use `torch.amp.autocast('cuda', args...)` instead.\n",
      "  with amp.autocast(autocast):\n"
     ]
    },
    {
     "name": "stdout",
     "output_type": "stream",
     "text": [
      "[      xcenter     ycenter       width      height  confidence  class    name\n",
      "0  485.296112  336.550232  273.719421  248.986755    0.580231      1  drowsy\n",
      "1  153.921692  296.467651  307.843384  334.140747    0.265885      1  drowsy]\n",
      "Objects detected!\n",
      "[      xcenter     ycenter       width      height  confidence  class    name\n",
      "0  482.335724  336.536469  263.934631  244.855408    0.604724      1  drowsy\n",
      "1  156.560516  274.471069  313.121033  321.495605    0.349349      1  drowsy]\n",
      "Objects detected!\n"
     ]
    },
    {
     "name": "stderr",
     "output_type": "stream",
     "text": [
      "C:\\Users\\Rakshitha/.cache\\torch\\hub\\ultralytics_yolov5_master\\models\\common.py:894: FutureWarning: `torch.cuda.amp.autocast(args...)` is deprecated. Please use `torch.amp.autocast('cuda', args...)` instead.\n",
      "  with amp.autocast(autocast):\n",
      "C:\\Users\\Rakshitha/.cache\\torch\\hub\\ultralytics_yolov5_master\\models\\common.py:894: FutureWarning: `torch.cuda.amp.autocast(args...)` is deprecated. Please use `torch.amp.autocast('cuda', args...)` instead.\n",
      "  with amp.autocast(autocast):\n"
     ]
    },
    {
     "name": "stdout",
     "output_type": "stream",
     "text": [
      "[      xcenter     ycenter       width      height  confidence  class    name\n",
      "0  473.690125  310.669861  173.499908  185.317139    0.724655      1  drowsy\n",
      "1  147.280243  295.366333  294.560486  295.231812    0.385098      1  drowsy]\n",
      "Objects detected!\n",
      "[      xcenter     ycenter       width      height  confidence  class    name\n",
      "0  477.317688  329.892395  260.933350  251.923401    0.579977      1  drowsy\n",
      "1  158.477081  271.694183  316.954163  339.777039    0.310706      1  drowsy]\n",
      "Objects detected!\n"
     ]
    },
    {
     "name": "stderr",
     "output_type": "stream",
     "text": [
      "C:\\Users\\Rakshitha/.cache\\torch\\hub\\ultralytics_yolov5_master\\models\\common.py:894: FutureWarning: `torch.cuda.amp.autocast(args...)` is deprecated. Please use `torch.amp.autocast('cuda', args...)` instead.\n",
      "  with amp.autocast(autocast):\n",
      "C:\\Users\\Rakshitha/.cache\\torch\\hub\\ultralytics_yolov5_master\\models\\common.py:894: FutureWarning: `torch.cuda.amp.autocast(args...)` is deprecated. Please use `torch.amp.autocast('cuda', args...)` instead.\n",
      "  with amp.autocast(autocast):\n"
     ]
    },
    {
     "name": "stdout",
     "output_type": "stream",
     "text": [
      "[      xcenter     ycenter       width     height  confidence  class    name\n",
      "0  474.757629  331.049194  258.356812  249.18689    0.566594      1  drowsy\n",
      "1  153.854584  274.208435  307.709167  342.89563    0.317979      1  drowsy]\n",
      "Objects detected!\n",
      "[      xcenter     ycenter       width      height  confidence  class    name\n",
      "0  472.107849  331.102600  209.847900  236.029236    0.622694      1  drowsy\n",
      "1  140.004700  273.002136  280.009399  305.191528    0.458880      1  drowsy]\n",
      "Objects detected!\n"
     ]
    },
    {
     "name": "stderr",
     "output_type": "stream",
     "text": [
      "C:\\Users\\Rakshitha/.cache\\torch\\hub\\ultralytics_yolov5_master\\models\\common.py:894: FutureWarning: `torch.cuda.amp.autocast(args...)` is deprecated. Please use `torch.amp.autocast('cuda', args...)` instead.\n",
      "  with amp.autocast(autocast):\n",
      "C:\\Users\\Rakshitha/.cache\\torch\\hub\\ultralytics_yolov5_master\\models\\common.py:894: FutureWarning: `torch.cuda.amp.autocast(args...)` is deprecated. Please use `torch.amp.autocast('cuda', args...)` instead.\n",
      "  with amp.autocast(autocast):\n"
     ]
    },
    {
     "name": "stdout",
     "output_type": "stream",
     "text": [
      "[      xcenter     ycenter       width      height  confidence  class    name\n",
      "0  473.828552  330.436981  255.479156  252.297180    0.557622      1  drowsy\n",
      "1  124.053352  269.148499  248.106705  282.477783    0.337834      1  drowsy]\n",
      "Objects detected!\n",
      "[      xcenter    ycenter       width      height  confidence  class    name\n",
      "0  473.354584  313.38446  174.795837  188.752197    0.627984      1  drowsy]\n",
      "Objects detected!\n"
     ]
    },
    {
     "name": "stderr",
     "output_type": "stream",
     "text": [
      "C:\\Users\\Rakshitha/.cache\\torch\\hub\\ultralytics_yolov5_master\\models\\common.py:894: FutureWarning: `torch.cuda.amp.autocast(args...)` is deprecated. Please use `torch.amp.autocast('cuda', args...)` instead.\n",
      "  with amp.autocast(autocast):\n",
      "C:\\Users\\Rakshitha/.cache\\torch\\hub\\ultralytics_yolov5_master\\models\\common.py:894: FutureWarning: `torch.cuda.amp.autocast(args...)` is deprecated. Please use `torch.amp.autocast('cuda', args...)` instead.\n",
      "  with amp.autocast(autocast):\n"
     ]
    },
    {
     "name": "stdout",
     "output_type": "stream",
     "text": [
      "[      xcenter     ycenter       width      height  confidence  class    name\n",
      "0  474.840149  332.560913  256.421051  253.934143    0.592005      1  drowsy]\n",
      "Objects detected!\n",
      "[      xcenter     ycenter       width      height  confidence  class    name\n",
      "0  475.286255  333.340729  262.093140  254.280228    0.540752      1  drowsy\n",
      "1   99.809013  298.003326  199.618027  290.807190    0.404416      1  drowsy]\n",
      "Objects detected!\n"
     ]
    },
    {
     "name": "stderr",
     "output_type": "stream",
     "text": [
      "C:\\Users\\Rakshitha/.cache\\torch\\hub\\ultralytics_yolov5_master\\models\\common.py:894: FutureWarning: `torch.cuda.amp.autocast(args...)` is deprecated. Please use `torch.amp.autocast('cuda', args...)` instead.\n",
      "  with amp.autocast(autocast):\n",
      "C:\\Users\\Rakshitha/.cache\\torch\\hub\\ultralytics_yolov5_master\\models\\common.py:894: FutureWarning: `torch.cuda.amp.autocast(args...)` is deprecated. Please use `torch.amp.autocast('cuda', args...)` instead.\n",
      "  with amp.autocast(autocast):\n"
     ]
    },
    {
     "name": "stdout",
     "output_type": "stream",
     "text": [
      "[      xcenter     ycenter       width      height  confidence  class    name\n",
      "0  474.099579  330.187347  256.496277  250.575073    0.593096      1  drowsy\n",
      "1   77.344040  302.182495  154.688080  261.001099    0.421646      1  drowsy]\n",
      "Objects detected!\n",
      "[      xcenter     ycenter       width     height  confidence  class    name\n",
      "0  472.838440  330.978668  251.829803  253.37236    0.571342      1  drowsy\n",
      "1   77.474167  303.009674  154.948334  261.85907    0.514056      1  drowsy]\n",
      "Objects detected!\n"
     ]
    },
    {
     "name": "stderr",
     "output_type": "stream",
     "text": [
      "C:\\Users\\Rakshitha/.cache\\torch\\hub\\ultralytics_yolov5_master\\models\\common.py:894: FutureWarning: `torch.cuda.amp.autocast(args...)` is deprecated. Please use `torch.amp.autocast('cuda', args...)` instead.\n",
      "  with amp.autocast(autocast):\n",
      "C:\\Users\\Rakshitha/.cache\\torch\\hub\\ultralytics_yolov5_master\\models\\common.py:894: FutureWarning: `torch.cuda.amp.autocast(args...)` is deprecated. Please use `torch.amp.autocast('cuda', args...)` instead.\n",
      "  with amp.autocast(autocast):\n"
     ]
    },
    {
     "name": "stdout",
     "output_type": "stream",
     "text": [
      "[      xcenter     ycenter       width      height  confidence  class    name\n",
      "0  483.376556  337.348297  267.857971  246.316711    0.615116      1  drowsy\n",
      "1   75.805710  305.447021  151.611420  258.927368    0.417322      1  drowsy]\n",
      "Objects detected!\n",
      "[      xcenter     ycenter       width      height  confidence  class    name\n",
      "0  474.366425  332.515747  272.850769  256.711365    0.586948      1  drowsy\n",
      "1  100.009537  299.377686  200.019073  313.025635    0.428577      1  drowsy]\n",
      "Objects detected!\n"
     ]
    },
    {
     "name": "stderr",
     "output_type": "stream",
     "text": [
      "C:\\Users\\Rakshitha/.cache\\torch\\hub\\ultralytics_yolov5_master\\models\\common.py:894: FutureWarning: `torch.cuda.amp.autocast(args...)` is deprecated. Please use `torch.amp.autocast('cuda', args...)` instead.\n",
      "  with amp.autocast(autocast):\n",
      "C:\\Users\\Rakshitha/.cache\\torch\\hub\\ultralytics_yolov5_master\\models\\common.py:894: FutureWarning: `torch.cuda.amp.autocast(args...)` is deprecated. Please use `torch.amp.autocast('cuda', args...)` instead.\n",
      "  with amp.autocast(autocast):\n"
     ]
    },
    {
     "name": "stdout",
     "output_type": "stream",
     "text": [
      "[      xcenter     ycenter       width      height  confidence  class    name\n",
      "0  468.123047  334.951874  206.066650  234.850586    0.666139      1  drowsy\n",
      "1   86.903687  303.963928  173.807373  261.493652    0.626076      1  drowsy]\n",
      "Objects detected!\n",
      "[      xcenter     ycenter       width      height  confidence  class    name\n",
      "0   85.260193  304.940308  170.520386  261.099182    0.661020      1  drowsy\n",
      "1  468.704468  331.682129  251.780670  246.452576    0.630682      1  drowsy]\n",
      "Objects detected!\n"
     ]
    },
    {
     "name": "stderr",
     "output_type": "stream",
     "text": [
      "C:\\Users\\Rakshitha/.cache\\torch\\hub\\ultralytics_yolov5_master\\models\\common.py:894: FutureWarning: `torch.cuda.amp.autocast(args...)` is deprecated. Please use `torch.amp.autocast('cuda', args...)` instead.\n",
      "  with amp.autocast(autocast):\n",
      "C:\\Users\\Rakshitha/.cache\\torch\\hub\\ultralytics_yolov5_master\\models\\common.py:894: FutureWarning: `torch.cuda.amp.autocast(args...)` is deprecated. Please use `torch.amp.autocast('cuda', args...)` instead.\n",
      "  with amp.autocast(autocast):\n"
     ]
    },
    {
     "name": "stdout",
     "output_type": "stream",
     "text": [
      "[      xcenter     ycenter       width      height  confidence  class    name\n",
      "0  463.352356  336.052216  214.167511  232.851685    0.664157      1  drowsy\n",
      "1   84.584328  304.193726  169.168655  259.676514    0.530961      1  drowsy]\n",
      "Objects detected!\n"
     ]
    },
    {
     "name": "stderr",
     "output_type": "stream",
     "text": [
      "C:\\Users\\Rakshitha/.cache\\torch\\hub\\ultralytics_yolov5_master\\models\\common.py:894: FutureWarning: `torch.cuda.amp.autocast(args...)` is deprecated. Please use `torch.amp.autocast('cuda', args...)` instead.\n",
      "  with amp.autocast(autocast):\n"
     ]
    },
    {
     "name": "stdout",
     "output_type": "stream",
     "text": [
      "[      xcenter     ycenter       width      height  confidence  class    name\n",
      "0  464.027893  338.296906  259.926758  260.439819    0.666160      1  drowsy\n",
      "1  100.151596  304.710785  200.303192  315.312622    0.393667      1  drowsy]\n",
      "Objects detected!\n",
      "[      xcenter     ycenter       width      height  confidence  class    name\n",
      "0  465.836609  343.776062  257.760132  263.786377    0.730608      1  drowsy\n",
      "1   97.183044  305.342438  194.366089  319.279480    0.585291      1  drowsy]\n",
      "Objects detected!\n"
     ]
    },
    {
     "name": "stderr",
     "output_type": "stream",
     "text": [
      "C:\\Users\\Rakshitha/.cache\\torch\\hub\\ultralytics_yolov5_master\\models\\common.py:894: FutureWarning: `torch.cuda.amp.autocast(args...)` is deprecated. Please use `torch.amp.autocast('cuda', args...)` instead.\n",
      "  with amp.autocast(autocast):\n",
      "C:\\Users\\Rakshitha/.cache\\torch\\hub\\ultralytics_yolov5_master\\models\\common.py:894: FutureWarning: `torch.cuda.amp.autocast(args...)` is deprecated. Please use `torch.amp.autocast('cuda', args...)` instead.\n",
      "  with amp.autocast(autocast):\n",
      "C:\\Users\\Rakshitha/.cache\\torch\\hub\\ultralytics_yolov5_master\\models\\common.py:894: FutureWarning: `torch.cuda.amp.autocast(args...)` is deprecated. Please use `torch.amp.autocast('cuda', args...)` instead.\n",
      "  with amp.autocast(autocast):\n"
     ]
    },
    {
     "name": "stdout",
     "output_type": "stream",
     "text": [
      "[      xcenter     ycenter       width      height  confidence  class    name\n",
      "0  460.228180  339.278687  236.378357  252.724503    0.668894      1  drowsy\n",
      "1  109.345108  300.058044  218.690216  317.108765    0.485934      1  drowsy]\n",
      "Objects detected!\n",
      "[      xcenter     ycenter       width      height  confidence  class    name\n",
      "0  455.987488  337.720032  212.115723  239.238281    0.740623      1  drowsy\n",
      "1  136.706635  294.944611  273.413269  327.612854    0.394213      1  drowsy]\n",
      "Objects detected!\n"
     ]
    },
    {
     "name": "stderr",
     "output_type": "stream",
     "text": [
      "C:\\Users\\Rakshitha/.cache\\torch\\hub\\ultralytics_yolov5_master\\models\\common.py:894: FutureWarning: `torch.cuda.amp.autocast(args...)` is deprecated. Please use `torch.amp.autocast('cuda', args...)` instead.\n",
      "  with amp.autocast(autocast):\n",
      "C:\\Users\\Rakshitha/.cache\\torch\\hub\\ultralytics_yolov5_master\\models\\common.py:894: FutureWarning: `torch.cuda.amp.autocast(args...)` is deprecated. Please use `torch.amp.autocast('cuda', args...)` instead.\n",
      "  with amp.autocast(autocast):\n"
     ]
    },
    {
     "name": "stdout",
     "output_type": "stream",
     "text": [
      "[      xcenter     ycenter       width      height  confidence  class    name\n",
      "0  460.891235  337.769043  220.600494  242.165512    0.715082      1  drowsy]\n",
      "Objects detected!\n",
      "[      xcenter     ycenter       width      height  confidence  class    name\n",
      "0  459.986847  336.801727  217.881287  240.923401    0.713993      1  drowsy]\n",
      "Objects detected!\n"
     ]
    },
    {
     "name": "stderr",
     "output_type": "stream",
     "text": [
      "C:\\Users\\Rakshitha/.cache\\torch\\hub\\ultralytics_yolov5_master\\models\\common.py:894: FutureWarning: `torch.cuda.amp.autocast(args...)` is deprecated. Please use `torch.amp.autocast('cuda', args...)` instead.\n",
      "  with amp.autocast(autocast):\n",
      "C:\\Users\\Rakshitha/.cache\\torch\\hub\\ultralytics_yolov5_master\\models\\common.py:894: FutureWarning: `torch.cuda.amp.autocast(args...)` is deprecated. Please use `torch.amp.autocast('cuda', args...)` instead.\n",
      "  with amp.autocast(autocast):\n"
     ]
    },
    {
     "name": "stdout",
     "output_type": "stream",
     "text": [
      "[      xcenter     ycenter       width      height  confidence  class    name\n",
      "0  470.320435  342.731506  281.627319  258.803955    0.369064      1  drowsy]\n",
      "Objects detected!\n",
      "[Empty DataFrame\n",
      "Columns: [xcenter, ycenter, width, height, confidence, class, name]\n",
      "Index: []]\n",
      "No objects detected.\n"
     ]
    },
    {
     "name": "stderr",
     "output_type": "stream",
     "text": [
      "C:\\Users\\Rakshitha/.cache\\torch\\hub\\ultralytics_yolov5_master\\models\\common.py:894: FutureWarning: `torch.cuda.amp.autocast(args...)` is deprecated. Please use `torch.amp.autocast('cuda', args...)` instead.\n",
      "  with amp.autocast(autocast):\n",
      "C:\\Users\\Rakshitha/.cache\\torch\\hub\\ultralytics_yolov5_master\\models\\common.py:894: FutureWarning: `torch.cuda.amp.autocast(args...)` is deprecated. Please use `torch.amp.autocast('cuda', args...)` instead.\n",
      "  with amp.autocast(autocast):\n"
     ]
    },
    {
     "name": "stdout",
     "output_type": "stream",
     "text": [
      "[      xcenter     ycenter       width      height  confidence  class    name\n",
      "0  536.160278  404.210815  199.188721  133.337952    0.293145      1  drowsy]\n",
      "Objects detected!\n",
      "[Empty DataFrame\n",
      "Columns: [xcenter, ycenter, width, height, confidence, class, name]\n",
      "Index: []]\n",
      "No objects detected.\n"
     ]
    },
    {
     "name": "stderr",
     "output_type": "stream",
     "text": [
      "C:\\Users\\Rakshitha/.cache\\torch\\hub\\ultralytics_yolov5_master\\models\\common.py:894: FutureWarning: `torch.cuda.amp.autocast(args...)` is deprecated. Please use `torch.amp.autocast('cuda', args...)` instead.\n",
      "  with amp.autocast(autocast):\n",
      "C:\\Users\\Rakshitha/.cache\\torch\\hub\\ultralytics_yolov5_master\\models\\common.py:894: FutureWarning: `torch.cuda.amp.autocast(args...)` is deprecated. Please use `torch.amp.autocast('cuda', args...)` instead.\n",
      "  with amp.autocast(autocast):\n"
     ]
    },
    {
     "name": "stdout",
     "output_type": "stream",
     "text": [
      "[Empty DataFrame\n",
      "Columns: [xcenter, ycenter, width, height, confidence, class, name]\n",
      "Index: []]\n",
      "No objects detected.\n",
      "[Empty DataFrame\n",
      "Columns: [xcenter, ycenter, width, height, confidence, class, name]\n",
      "Index: []]\n",
      "No objects detected.\n"
     ]
    },
    {
     "name": "stderr",
     "output_type": "stream",
     "text": [
      "C:\\Users\\Rakshitha/.cache\\torch\\hub\\ultralytics_yolov5_master\\models\\common.py:894: FutureWarning: `torch.cuda.amp.autocast(args...)` is deprecated. Please use `torch.amp.autocast('cuda', args...)` instead.\n",
      "  with amp.autocast(autocast):\n",
      "C:\\Users\\Rakshitha/.cache\\torch\\hub\\ultralytics_yolov5_master\\models\\common.py:894: FutureWarning: `torch.cuda.amp.autocast(args...)` is deprecated. Please use `torch.amp.autocast('cuda', args...)` instead.\n",
      "  with amp.autocast(autocast):\n"
     ]
    },
    {
     "name": "stdout",
     "output_type": "stream",
     "text": [
      "[     xcenter     ycenter       width     height  confidence  class    name\n",
      "0  91.071777  388.309326  182.143555  178.17627    0.287133      1  drowsy]\n",
      "Objects detected!\n",
      "[Empty DataFrame\n",
      "Columns: [xcenter, ycenter, width, height, confidence, class, name]\n",
      "Index: []]\n",
      "No objects detected.\n"
     ]
    },
    {
     "name": "stderr",
     "output_type": "stream",
     "text": [
      "C:\\Users\\Rakshitha/.cache\\torch\\hub\\ultralytics_yolov5_master\\models\\common.py:894: FutureWarning: `torch.cuda.amp.autocast(args...)` is deprecated. Please use `torch.amp.autocast('cuda', args...)` instead.\n",
      "  with amp.autocast(autocast):\n",
      "C:\\Users\\Rakshitha/.cache\\torch\\hub\\ultralytics_yolov5_master\\models\\common.py:894: FutureWarning: `torch.cuda.amp.autocast(args...)` is deprecated. Please use `torch.amp.autocast('cuda', args...)` instead.\n",
      "  with amp.autocast(autocast):\n"
     ]
    },
    {
     "name": "stdout",
     "output_type": "stream",
     "text": [
      "[Empty DataFrame\n",
      "Columns: [xcenter, ycenter, width, height, confidence, class, name]\n",
      "Index: []]\n",
      "No objects detected.\n",
      "[      xcenter     ycenter       width      height  confidence  class    name\n",
      "0  547.060791  404.893951  174.363159  135.395386    0.343936      1  drowsy]\n",
      "Objects detected!\n"
     ]
    },
    {
     "name": "stderr",
     "output_type": "stream",
     "text": [
      "C:\\Users\\Rakshitha/.cache\\torch\\hub\\ultralytics_yolov5_master\\models\\common.py:894: FutureWarning: `torch.cuda.amp.autocast(args...)` is deprecated. Please use `torch.amp.autocast('cuda', args...)` instead.\n",
      "  with amp.autocast(autocast):\n",
      "C:\\Users\\Rakshitha/.cache\\torch\\hub\\ultralytics_yolov5_master\\models\\common.py:894: FutureWarning: `torch.cuda.amp.autocast(args...)` is deprecated. Please use `torch.amp.autocast('cuda', args...)` instead.\n",
      "  with amp.autocast(autocast):\n"
     ]
    },
    {
     "name": "stdout",
     "output_type": "stream",
     "text": [
      "[Empty DataFrame\n",
      "Columns: [xcenter, ycenter, width, height, confidence, class, name]\n",
      "Index: []]\n",
      "No objects detected.\n",
      "[Empty DataFrame\n",
      "Columns: [xcenter, ycenter, width, height, confidence, class, name]\n",
      "Index: []]\n",
      "No objects detected.\n"
     ]
    },
    {
     "name": "stderr",
     "output_type": "stream",
     "text": [
      "C:\\Users\\Rakshitha/.cache\\torch\\hub\\ultralytics_yolov5_master\\models\\common.py:894: FutureWarning: `torch.cuda.amp.autocast(args...)` is deprecated. Please use `torch.amp.autocast('cuda', args...)` instead.\n",
      "  with amp.autocast(autocast):\n",
      "C:\\Users\\Rakshitha/.cache\\torch\\hub\\ultralytics_yolov5_master\\models\\common.py:894: FutureWarning: `torch.cuda.amp.autocast(args...)` is deprecated. Please use `torch.amp.autocast('cuda', args...)` instead.\n",
      "  with amp.autocast(autocast):\n"
     ]
    },
    {
     "name": "stdout",
     "output_type": "stream",
     "text": [
      "[Empty DataFrame\n",
      "Columns: [xcenter, ycenter, width, height, confidence, class, name]\n",
      "Index: []]\n",
      "No objects detected.\n",
      "[Empty DataFrame\n",
      "Columns: [xcenter, ycenter, width, height, confidence, class, name]\n",
      "Index: []]\n",
      "No objects detected.\n"
     ]
    },
    {
     "name": "stderr",
     "output_type": "stream",
     "text": [
      "C:\\Users\\Rakshitha/.cache\\torch\\hub\\ultralytics_yolov5_master\\models\\common.py:894: FutureWarning: `torch.cuda.amp.autocast(args...)` is deprecated. Please use `torch.amp.autocast('cuda', args...)` instead.\n",
      "  with amp.autocast(autocast):\n",
      "C:\\Users\\Rakshitha/.cache\\torch\\hub\\ultralytics_yolov5_master\\models\\common.py:894: FutureWarning: `torch.cuda.amp.autocast(args...)` is deprecated. Please use `torch.amp.autocast('cuda', args...)` instead.\n",
      "  with amp.autocast(autocast):\n"
     ]
    },
    {
     "name": "stdout",
     "output_type": "stream",
     "text": [
      "[Empty DataFrame\n",
      "Columns: [xcenter, ycenter, width, height, confidence, class, name]\n",
      "Index: []]\n",
      "No objects detected.\n",
      "[      xcenter     ycenter       width      height  confidence  class    name\n",
      "0  492.907990  393.112122  275.297546  169.632507    0.385912      1  drowsy\n",
      "1  177.510101  209.013947  269.966980  272.642334    0.261862      1  drowsy]\n",
      "Objects detected!\n"
     ]
    },
    {
     "name": "stderr",
     "output_type": "stream",
     "text": [
      "C:\\Users\\Rakshitha/.cache\\torch\\hub\\ultralytics_yolov5_master\\models\\common.py:894: FutureWarning: `torch.cuda.amp.autocast(args...)` is deprecated. Please use `torch.amp.autocast('cuda', args...)` instead.\n",
      "  with amp.autocast(autocast):\n"
     ]
    },
    {
     "name": "stdout",
     "output_type": "stream",
     "text": [
      "[      xcenter     ycenter       width      height  confidence  class    name\n",
      "0  118.749359  203.938141  231.640503  257.858948    0.374154      1  drowsy\n",
      "1  528.099731  399.490479  206.360718  161.019012    0.339375      1  drowsy]\n",
      "Objects detected!\n",
      "[     xcenter     ycenter       width      height  confidence  class    name\n",
      "0  471.95932  335.421936  288.071472  278.798096    0.517627      1  drowsy]\n",
      "Objects detected!\n"
     ]
    },
    {
     "name": "stderr",
     "output_type": "stream",
     "text": [
      "C:\\Users\\Rakshitha/.cache\\torch\\hub\\ultralytics_yolov5_master\\models\\common.py:894: FutureWarning: `torch.cuda.amp.autocast(args...)` is deprecated. Please use `torch.amp.autocast('cuda', args...)` instead.\n",
      "  with amp.autocast(autocast):\n",
      "C:\\Users\\Rakshitha/.cache\\torch\\hub\\ultralytics_yolov5_master\\models\\common.py:894: FutureWarning: `torch.cuda.amp.autocast(args...)` is deprecated. Please use `torch.amp.autocast('cuda', args...)` instead.\n",
      "  with amp.autocast(autocast):\n"
     ]
    },
    {
     "name": "stdout",
     "output_type": "stream",
     "text": [
      "[      xcenter     ycenter       width      height  confidence  class    name\n",
      "0  463.500946  335.982483  217.391174  243.257919    0.625188      1  drowsy]\n",
      "Objects detected!\n",
      "[      xcenter     ycenter       width      height  confidence  class    name\n",
      "0  460.923798  336.304871  214.156067  240.901245    0.587581      1  drowsy]\n",
      "Objects detected!\n"
     ]
    },
    {
     "name": "stderr",
     "output_type": "stream",
     "text": [
      "C:\\Users\\Rakshitha/.cache\\torch\\hub\\ultralytics_yolov5_master\\models\\common.py:894: FutureWarning: `torch.cuda.amp.autocast(args...)` is deprecated. Please use `torch.amp.autocast('cuda', args...)` instead.\n",
      "  with amp.autocast(autocast):\n",
      "C:\\Users\\Rakshitha/.cache\\torch\\hub\\ultralytics_yolov5_master\\models\\common.py:894: FutureWarning: `torch.cuda.amp.autocast(args...)` is deprecated. Please use `torch.amp.autocast('cuda', args...)` instead.\n",
      "  with amp.autocast(autocast):\n"
     ]
    },
    {
     "name": "stdout",
     "output_type": "stream",
     "text": [
      "[      xcenter     ycenter       width      height  confidence  class    name\n",
      "0  460.923798  336.304871  214.156067  240.901245    0.587581      1  drowsy]\n",
      "Objects detected!\n",
      "[      xcenter     ycenter       width      height  confidence  class    name\n",
      "0  457.013092  330.743652  225.695862  257.603271    0.468214      1  drowsy\n",
      "1   49.901981  339.947510   95.535667  252.637695    0.343646      1  drowsy]\n",
      "Objects detected!\n"
     ]
    },
    {
     "name": "stderr",
     "output_type": "stream",
     "text": [
      "C:\\Users\\Rakshitha/.cache\\torch\\hub\\ultralytics_yolov5_master\\models\\common.py:894: FutureWarning: `torch.cuda.amp.autocast(args...)` is deprecated. Please use `torch.amp.autocast('cuda', args...)` instead.\n",
      "  with amp.autocast(autocast):\n",
      "C:\\Users\\Rakshitha/.cache\\torch\\hub\\ultralytics_yolov5_master\\models\\common.py:894: FutureWarning: `torch.cuda.amp.autocast(args...)` is deprecated. Please use `torch.amp.autocast('cuda', args...)` instead.\n",
      "  with amp.autocast(autocast):\n"
     ]
    },
    {
     "name": "stdout",
     "output_type": "stream",
     "text": [
      "[      xcenter     ycenter       width      height  confidence  class    name\n",
      "0  459.283875  332.942749  235.431976  259.566040    0.538210      1  drowsy\n",
      "1   46.091812  347.557251   86.471100  234.111572    0.396205      1  drowsy]\n",
      "Objects detected!\n",
      "[      xcenter     ycenter       width      height  confidence  class    name\n",
      "0  466.595825  337.309540  269.368042  275.254395    0.695830      1  drowsy\n",
      "1   44.002968  358.209534   88.005936  193.968933    0.420456      1  drowsy]\n",
      "Objects detected!\n"
     ]
    },
    {
     "name": "stderr",
     "output_type": "stream",
     "text": [
      "C:\\Users\\Rakshitha/.cache\\torch\\hub\\ultralytics_yolov5_master\\models\\common.py:894: FutureWarning: `torch.cuda.amp.autocast(args...)` is deprecated. Please use `torch.amp.autocast('cuda', args...)` instead.\n",
      "  with amp.autocast(autocast):\n",
      "C:\\Users\\Rakshitha/.cache\\torch\\hub\\ultralytics_yolov5_master\\models\\common.py:894: FutureWarning: `torch.cuda.amp.autocast(args...)` is deprecated. Please use `torch.amp.autocast('cuda', args...)` instead.\n",
      "  with amp.autocast(autocast):\n",
      "C:\\Users\\Rakshitha/.cache\\torch\\hub\\ultralytics_yolov5_master\\models\\common.py:894: FutureWarning: `torch.cuda.amp.autocast(args...)` is deprecated. Please use `torch.amp.autocast('cuda', args...)` instead.\n",
      "  with amp.autocast(autocast):\n"
     ]
    },
    {
     "name": "stdout",
     "output_type": "stream",
     "text": [
      "[      xcenter     ycenter       width      height  confidence  class    name\n",
      "0  462.978180  336.376038  259.396667  267.219604    0.478177      1  drowsy\n",
      "1   47.185772  335.740417   94.371544  259.358398    0.362582      1  drowsy]\n",
      "Objects detected!\n",
      "[      xcenter     ycenter       width      height  confidence  class    name\n",
      "0  464.232544  338.357666  268.548584  273.267761    0.575463      1  drowsy\n",
      "1   54.507751  298.976562  109.015503  253.509216    0.482437      1  drowsy]\n",
      "Objects detected!\n"
     ]
    },
    {
     "name": "stderr",
     "output_type": "stream",
     "text": [
      "C:\\Users\\Rakshitha/.cache\\torch\\hub\\ultralytics_yolov5_master\\models\\common.py:894: FutureWarning: `torch.cuda.amp.autocast(args...)` is deprecated. Please use `torch.amp.autocast('cuda', args...)` instead.\n",
      "  with amp.autocast(autocast):\n",
      "C:\\Users\\Rakshitha/.cache\\torch\\hub\\ultralytics_yolov5_master\\models\\common.py:894: FutureWarning: `torch.cuda.amp.autocast(args...)` is deprecated. Please use `torch.amp.autocast('cuda', args...)` instead.\n",
      "  with amp.autocast(autocast):\n"
     ]
    },
    {
     "name": "stdout",
     "output_type": "stream",
     "text": [
      "[     xcenter     ycenter       width      height  confidence  class    name\n",
      "0  463.54834  336.224152  269.039917  271.680481    0.645261      1  drowsy]\n",
      "Objects detected!\n",
      "[      xcenter     ycenter       width      height  confidence  class    name\n",
      "0  461.454285  336.798279  254.815582  266.775513    0.653391      1  drowsy\n",
      "1   80.374710  243.760712  160.749420  266.565186    0.281639      1  drowsy\n",
      "2  113.500877  297.953827  227.001755  276.974182    0.251385      1  drowsy]\n",
      "Objects detected!\n"
     ]
    },
    {
     "name": "stderr",
     "output_type": "stream",
     "text": [
      "C:\\Users\\Rakshitha/.cache\\torch\\hub\\ultralytics_yolov5_master\\models\\common.py:894: FutureWarning: `torch.cuda.amp.autocast(args...)` is deprecated. Please use `torch.amp.autocast('cuda', args...)` instead.\n",
      "  with amp.autocast(autocast):\n",
      "C:\\Users\\Rakshitha/.cache\\torch\\hub\\ultralytics_yolov5_master\\models\\common.py:894: FutureWarning: `torch.cuda.amp.autocast(args...)` is deprecated. Please use `torch.amp.autocast('cuda', args...)` instead.\n",
      "  with amp.autocast(autocast):\n"
     ]
    },
    {
     "name": "stdout",
     "output_type": "stream",
     "text": [
      "[      xcenter     ycenter       width      height  confidence  class    name\n",
      "0  457.833466  298.021851  165.449524  167.813248    0.670720      1  drowsy\n",
      "1   87.629150  300.498413  175.258301  247.271500    0.406894      1  drowsy\n",
      "2  534.320374  400.251373  189.270172  150.729065    0.400909      1  drowsy\n",
      "3  449.890076  337.803528  234.322723  268.442749    0.262019      1  drowsy]\n",
      "Objects detected!\n",
      "[      xcenter     ycenter       width      height  confidence  class    name\n",
      "0  459.620056  332.885620  232.739502  259.332886    0.491729      1  drowsy\n",
      "1  114.396866  274.095917  228.793732  289.304382    0.417528      1  drowsy]\n",
      "Objects detected!\n"
     ]
    },
    {
     "name": "stderr",
     "output_type": "stream",
     "text": [
      "C:\\Users\\Rakshitha/.cache\\torch\\hub\\ultralytics_yolov5_master\\models\\common.py:894: FutureWarning: `torch.cuda.amp.autocast(args...)` is deprecated. Please use `torch.amp.autocast('cuda', args...)` instead.\n",
      "  with amp.autocast(autocast):\n"
     ]
    },
    {
     "name": "stdout",
     "output_type": "stream",
     "text": [
      "[      xcenter     ycenter       width      height  confidence  class    name\n",
      "0  124.465126  281.155853  248.930252  314.416931    0.637300      1  drowsy\n",
      "1  461.092377  306.627472  176.445129  172.269089    0.593857      1  drowsy]\n",
      "Objects detected!\n",
      "[      xcenter     ycenter       width      height  confidence  class    name\n",
      "0  136.733688  299.503510  265.454437  288.017517    0.702118      1  drowsy\n",
      "1  455.320862  332.384338  185.887543  224.154663    0.586626      1  drowsy\n",
      "2  532.041382  403.022583  209.499756  152.879944    0.294363      1  drowsy]\n",
      "Objects detected!\n"
     ]
    },
    {
     "name": "stderr",
     "output_type": "stream",
     "text": [
      "C:\\Users\\Rakshitha/.cache\\torch\\hub\\ultralytics_yolov5_master\\models\\common.py:894: FutureWarning: `torch.cuda.amp.autocast(args...)` is deprecated. Please use `torch.amp.autocast('cuda', args...)` instead.\n",
      "  with amp.autocast(autocast):\n",
      "C:\\Users\\Rakshitha/.cache\\torch\\hub\\ultralytics_yolov5_master\\models\\common.py:894: FutureWarning: `torch.cuda.amp.autocast(args...)` is deprecated. Please use `torch.amp.autocast('cuda', args...)` instead.\n",
      "  with amp.autocast(autocast):\n"
     ]
    },
    {
     "name": "stdout",
     "output_type": "stream",
     "text": [
      "[      xcenter     ycenter       width      height  confidence  class    name\n",
      "0  141.165039  307.322754  218.758636  260.361572    0.770390      1  drowsy\n",
      "1  457.927917  332.307159  198.354156  228.326111    0.562192      1  drowsy]\n",
      "Objects detected!\n",
      "[      xcenter     ycenter       width      height  confidence  class    name\n",
      "0  145.636536  304.168030  257.719727  286.876831    0.740435      1  drowsy\n",
      "1  457.039307  333.164612  198.876190  229.880112    0.641382      1  drowsy]\n",
      "Objects detected!\n"
     ]
    },
    {
     "name": "stderr",
     "output_type": "stream",
     "text": [
      "C:\\Users\\Rakshitha/.cache\\torch\\hub\\ultralytics_yolov5_master\\models\\common.py:894: FutureWarning: `torch.cuda.amp.autocast(args...)` is deprecated. Please use `torch.amp.autocast('cuda', args...)` instead.\n",
      "  with amp.autocast(autocast):\n",
      "C:\\Users\\Rakshitha/.cache\\torch\\hub\\ultralytics_yolov5_master\\models\\common.py:894: FutureWarning: `torch.cuda.amp.autocast(args...)` is deprecated. Please use `torch.amp.autocast('cuda', args...)` instead.\n",
      "  with amp.autocast(autocast):\n"
     ]
    },
    {
     "name": "stdout",
     "output_type": "stream",
     "text": [
      "[      xcenter     ycenter       width      height  confidence  class    name\n",
      "0  144.698669  305.214081  251.742050  289.742493    0.737556      1  drowsy\n",
      "1  458.784546  334.978882  203.856232  232.661926    0.627715      1  drowsy]\n",
      "Objects detected!\n",
      "[      xcenter     ycenter       width      height  confidence  class    name\n",
      "0  144.898849  308.274506  215.637695  261.315674    0.781844      1  drowsy\n",
      "1  457.851135  309.187805  168.491425  171.463562    0.687938      1  drowsy]\n",
      "Objects detected!\n"
     ]
    },
    {
     "name": "stderr",
     "output_type": "stream",
     "text": [
      "C:\\Users\\Rakshitha/.cache\\torch\\hub\\ultralytics_yolov5_master\\models\\common.py:894: FutureWarning: `torch.cuda.amp.autocast(args...)` is deprecated. Please use `torch.amp.autocast('cuda', args...)` instead.\n",
      "  with amp.autocast(autocast):\n",
      "C:\\Users\\Rakshitha/.cache\\torch\\hub\\ultralytics_yolov5_master\\models\\common.py:894: FutureWarning: `torch.cuda.amp.autocast(args...)` is deprecated. Please use `torch.amp.autocast('cuda', args...)` instead.\n",
      "  with amp.autocast(autocast):\n"
     ]
    },
    {
     "name": "stdout",
     "output_type": "stream",
     "text": [
      "[      xcenter     ycenter       width      height  confidence  class    name\n",
      "0  146.173645  310.152344  217.002563  261.230103    0.771657      1  drowsy\n",
      "1  456.014221  330.921906  193.442963  224.238525    0.696534      1  drowsy]\n",
      "Objects detected!\n",
      "[      xcenter     ycenter       width      height  confidence  class    name\n",
      "0  150.947525  308.562805  258.945343  300.479248    0.752573      1  drowsy\n",
      "1  458.415680  334.719177  208.003479  232.632263    0.630398      1  drowsy]\n",
      "Objects detected!\n"
     ]
    },
    {
     "name": "stderr",
     "output_type": "stream",
     "text": [
      "C:\\Users\\Rakshitha/.cache\\torch\\hub\\ultralytics_yolov5_master\\models\\common.py:894: FutureWarning: `torch.cuda.amp.autocast(args...)` is deprecated. Please use `torch.amp.autocast('cuda', args...)` instead.\n",
      "  with amp.autocast(autocast):\n",
      "C:\\Users\\Rakshitha/.cache\\torch\\hub\\ultralytics_yolov5_master\\models\\common.py:894: FutureWarning: `torch.cuda.amp.autocast(args...)` is deprecated. Please use `torch.amp.autocast('cuda', args...)` instead.\n",
      "  with amp.autocast(autocast):\n"
     ]
    },
    {
     "name": "stdout",
     "output_type": "stream",
     "text": [
      "[      xcenter     ycenter       width      height  confidence  class    name\n",
      "0  149.082306  309.714996  219.664261  261.253174    0.778072      1  drowsy\n",
      "1  457.440430  331.902100  195.111572  225.388977    0.621234      1  drowsy]\n",
      "Objects detected!\n",
      "[      xcenter     ycenter       width      height  confidence  class    name\n",
      "0  147.898315  308.602600  218.510361  261.193604    0.782681      1  drowsy\n",
      "1  454.930847  333.495636  189.638824  228.930786    0.634266      1  drowsy\n",
      "2  535.638184  403.137756  201.830719  150.402588    0.279092      1  drowsy]\n",
      "Objects detected!\n"
     ]
    },
    {
     "name": "stderr",
     "output_type": "stream",
     "text": [
      "C:\\Users\\Rakshitha/.cache\\torch\\hub\\ultralytics_yolov5_master\\models\\common.py:894: FutureWarning: `torch.cuda.amp.autocast(args...)` is deprecated. Please use `torch.amp.autocast('cuda', args...)` instead.\n",
      "  with amp.autocast(autocast):\n",
      "C:\\Users\\Rakshitha/.cache\\torch\\hub\\ultralytics_yolov5_master\\models\\common.py:894: FutureWarning: `torch.cuda.amp.autocast(args...)` is deprecated. Please use `torch.amp.autocast('cuda', args...)` instead.\n",
      "  with amp.autocast(autocast):\n"
     ]
    },
    {
     "name": "stdout",
     "output_type": "stream",
     "text": [
      "[      xcenter     ycenter       width      height  confidence  class    name\n",
      "0  153.264648  306.342163  265.653015  296.908447    0.756205      1  drowsy\n",
      "1  453.246948  329.774292  183.921661  226.106140    0.740041      1  drowsy]\n",
      "Objects detected!\n",
      "[      xcenter     ycenter       width      height  confidence  class    name\n",
      "0  149.098953  310.216217  221.809845  261.373230    0.793715      1  drowsy\n",
      "1  455.130859  333.226166  197.134979  232.573181    0.692914      1  drowsy]\n",
      "Objects detected!\n"
     ]
    },
    {
     "name": "stderr",
     "output_type": "stream",
     "text": [
      "C:\\Users\\Rakshitha/.cache\\torch\\hub\\ultralytics_yolov5_master\\models\\common.py:894: FutureWarning: `torch.cuda.amp.autocast(args...)` is deprecated. Please use `torch.amp.autocast('cuda', args...)` instead.\n",
      "  with amp.autocast(autocast):\n",
      "C:\\Users\\Rakshitha/.cache\\torch\\hub\\ultralytics_yolov5_master\\models\\common.py:894: FutureWarning: `torch.cuda.amp.autocast(args...)` is deprecated. Please use `torch.amp.autocast('cuda', args...)` instead.\n",
      "  with amp.autocast(autocast):\n"
     ]
    },
    {
     "name": "stdout",
     "output_type": "stream",
     "text": [
      "[      xcenter     ycenter       width      height  confidence  class    name\n",
      "0  152.319855  307.147034  265.710693  300.639282    0.739971      1  drowsy\n",
      "1  454.392517  329.715332  181.724762  222.128113    0.643242      1  drowsy]\n",
      "Objects detected!\n",
      "[      xcenter     ycenter       width      height  confidence  class    name\n",
      "0  153.698944  307.353546  262.510193  296.237976    0.756672      1  drowsy\n",
      "1  451.946167  332.043701  182.947632  228.884033    0.750830      1  drowsy\n",
      "2  530.488892  404.572021  206.997803  150.042725    0.378578      1  drowsy]\n",
      "Objects detected!\n"
     ]
    },
    {
     "name": "stderr",
     "output_type": "stream",
     "text": [
      "C:\\Users\\Rakshitha/.cache\\torch\\hub\\ultralytics_yolov5_master\\models\\common.py:894: FutureWarning: `torch.cuda.amp.autocast(args...)` is deprecated. Please use `torch.amp.autocast('cuda', args...)` instead.\n",
      "  with amp.autocast(autocast):\n",
      "C:\\Users\\Rakshitha/.cache\\torch\\hub\\ultralytics_yolov5_master\\models\\common.py:894: FutureWarning: `torch.cuda.amp.autocast(args...)` is deprecated. Please use `torch.amp.autocast('cuda', args...)` instead.\n",
      "  with amp.autocast(autocast):\n"
     ]
    },
    {
     "name": "stdout",
     "output_type": "stream",
     "text": [
      "[      xcenter     ycenter       width      height  confidence  class    name\n",
      "0  149.800354  305.637878  268.686401  295.716614    0.740502      1  drowsy\n",
      "1  454.930664  332.592957  189.951782  228.170532    0.676910      1  drowsy\n",
      "2  532.859802  402.652344  191.776123  152.451416    0.286549      1  drowsy]\n",
      "Objects detected!\n",
      "[      xcenter     ycenter       width      height  confidence  class    name\n",
      "0  144.819977  304.459167  272.284119  295.154907    0.735541      1  drowsy\n",
      "1  458.391815  309.880371  173.109436  173.852173    0.679374      1  drowsy\n",
      "2  464.990845  350.694214  275.507324  258.611572    0.267564      1  drowsy]\n",
      "Objects detected!\n"
     ]
    },
    {
     "name": "stderr",
     "output_type": "stream",
     "text": [
      "C:\\Users\\Rakshitha/.cache\\torch\\hub\\ultralytics_yolov5_master\\models\\common.py:894: FutureWarning: `torch.cuda.amp.autocast(args...)` is deprecated. Please use `torch.amp.autocast('cuda', args...)` instead.\n",
      "  with amp.autocast(autocast):\n",
      "C:\\Users\\Rakshitha/.cache\\torch\\hub\\ultralytics_yolov5_master\\models\\common.py:894: FutureWarning: `torch.cuda.amp.autocast(args...)` is deprecated. Please use `torch.amp.autocast('cuda', args...)` instead.\n",
      "  with amp.autocast(autocast):\n"
     ]
    },
    {
     "name": "stdout",
     "output_type": "stream",
     "text": [
      "[      xcenter     ycenter       width      height  confidence  class    name\n",
      "0  142.893402  303.776062  281.245422  296.771851    0.752363      1  drowsy\n",
      "1  454.132050  337.281494  201.911682  235.385010    0.675288      1  drowsy]\n",
      "Objects detected!\n",
      "[      xcenter     ycenter       width      height  confidence  class    name\n",
      "0  140.403946  307.798401  236.600494  261.301941    0.810373      1  drowsy\n",
      "1  453.543091  333.055328  189.689697  227.376785    0.615848      1  drowsy]\n",
      "Objects detected!\n"
     ]
    },
    {
     "name": "stderr",
     "output_type": "stream",
     "text": [
      "C:\\Users\\Rakshitha/.cache\\torch\\hub\\ultralytics_yolov5_master\\models\\common.py:894: FutureWarning: `torch.cuda.amp.autocast(args...)` is deprecated. Please use `torch.amp.autocast('cuda', args...)` instead.\n",
      "  with amp.autocast(autocast):\n",
      "C:\\Users\\Rakshitha/.cache\\torch\\hub\\ultralytics_yolov5_master\\models\\common.py:894: FutureWarning: `torch.cuda.amp.autocast(args...)` is deprecated. Please use `torch.amp.autocast('cuda', args...)` instead.\n",
      "  with amp.autocast(autocast):\n"
     ]
    },
    {
     "name": "stdout",
     "output_type": "stream",
     "text": [
      "[      xcenter     ycenter       width      height  confidence  class    name\n",
      "0  142.181091  310.124817  238.213318  263.444275    0.752181      1  drowsy\n",
      "1  454.969788  334.759644  198.368805  231.974472    0.611386      1  drowsy]\n",
      "Objects detected!\n",
      "[      xcenter     ycenter       width      height  confidence  class    name\n",
      "0  142.519318  306.155426  241.860962  260.584106    0.743323      1  drowsy\n",
      "1  455.368805  333.963165  198.299744  233.778870    0.573173      1  drowsy]\n",
      "Objects detected!\n"
     ]
    },
    {
     "name": "stderr",
     "output_type": "stream",
     "text": [
      "C:\\Users\\Rakshitha/.cache\\torch\\hub\\ultralytics_yolov5_master\\models\\common.py:894: FutureWarning: `torch.cuda.amp.autocast(args...)` is deprecated. Please use `torch.amp.autocast('cuda', args...)` instead.\n",
      "  with amp.autocast(autocast):\n",
      "C:\\Users\\Rakshitha/.cache\\torch\\hub\\ultralytics_yolov5_master\\models\\common.py:894: FutureWarning: `torch.cuda.amp.autocast(args...)` is deprecated. Please use `torch.amp.autocast('cuda', args...)` instead.\n",
      "  with amp.autocast(autocast):\n"
     ]
    },
    {
     "name": "stdout",
     "output_type": "stream",
     "text": [
      "[      xcenter     ycenter       width      height  confidence  class    name\n",
      "0  176.396423  302.873840  237.264664  252.020203    0.780713      1  drowsy\n",
      "1  506.908752  334.533325  240.932983  260.305054    0.620885      1  drowsy]\n",
      "Objects detected!\n",
      "[      xcenter     ycenter       width      height  confidence  class    name\n",
      "0  566.221497  337.263519  142.375244  241.477844    0.813992      1  drowsy\n",
      "1  238.744568  291.385773  275.246582  276.009460    0.513636      1  drowsy]\n",
      "Objects detected!\n"
     ]
    },
    {
     "name": "stderr",
     "output_type": "stream",
     "text": [
      "C:\\Users\\Rakshitha/.cache\\torch\\hub\\ultralytics_yolov5_master\\models\\common.py:894: FutureWarning: `torch.cuda.amp.autocast(args...)` is deprecated. Please use `torch.amp.autocast('cuda', args...)` instead.\n",
      "  with amp.autocast(autocast):\n",
      "C:\\Users\\Rakshitha/.cache\\torch\\hub\\ultralytics_yolov5_master\\models\\common.py:894: FutureWarning: `torch.cuda.amp.autocast(args...)` is deprecated. Please use `torch.amp.autocast('cuda', args...)` instead.\n",
      "  with amp.autocast(autocast):\n"
     ]
    },
    {
     "name": "stdout",
     "output_type": "stream",
     "text": [
      "[      xcenter     ycenter       width      height  confidence  class    name\n",
      "0  273.268799  303.019562  227.340195  251.466385    0.800751      1  drowsy\n",
      "1  589.794373  405.657776   91.016968  141.079041    0.786011      1  drowsy\n",
      "2  597.050293  299.047791   85.899475  215.868637    0.718900      1  drowsy]\n",
      "Objects detected!\n",
      "[      xcenter     ycenter      width      height  confidence  class    name\n",
      "0  307.045349  304.191833  237.10524  262.532593    0.757125      1  drowsy]\n",
      "Objects detected!\n"
     ]
    },
    {
     "name": "stderr",
     "output_type": "stream",
     "text": [
      "C:\\Users\\Rakshitha/.cache\\torch\\hub\\ultralytics_yolov5_master\\models\\common.py:894: FutureWarning: `torch.cuda.amp.autocast(args...)` is deprecated. Please use `torch.amp.autocast('cuda', args...)` instead.\n",
      "  with amp.autocast(autocast):\n",
      "C:\\Users\\Rakshitha/.cache\\torch\\hub\\ultralytics_yolov5_master\\models\\common.py:894: FutureWarning: `torch.cuda.amp.autocast(args...)` is deprecated. Please use `torch.amp.autocast('cuda', args...)` instead.\n",
      "  with amp.autocast(autocast):\n"
     ]
    },
    {
     "name": "stdout",
     "output_type": "stream",
     "text": [
      "[      xcenter     ycenter       width      height  confidence  class    name\n",
      "0  329.188965  296.290741  326.654846  264.749756    0.465909      1  drowsy]\n",
      "Objects detected!\n",
      "[     xcenter     ycenter      width      height  confidence  class    name\n",
      "0  28.795319  311.326874  57.081184  155.791016     0.38329      1  drowsy]\n",
      "Objects detected!\n"
     ]
    },
    {
     "name": "stderr",
     "output_type": "stream",
     "text": [
      "C:\\Users\\Rakshitha/.cache\\torch\\hub\\ultralytics_yolov5_master\\models\\common.py:894: FutureWarning: `torch.cuda.amp.autocast(args...)` is deprecated. Please use `torch.amp.autocast('cuda', args...)` instead.\n",
      "  with amp.autocast(autocast):\n",
      "C:\\Users\\Rakshitha/.cache\\torch\\hub\\ultralytics_yolov5_master\\models\\common.py:894: FutureWarning: `torch.cuda.amp.autocast(args...)` is deprecated. Please use `torch.amp.autocast('cuda', args...)` instead.\n",
      "  with amp.autocast(autocast):\n"
     ]
    },
    {
     "name": "stdout",
     "output_type": "stream",
     "text": [
      "[      xcenter     ycenter       width      height  confidence  class    name\n",
      "0   32.893356  312.306885   65.786713  159.580505    0.525095      1  drowsy\n",
      "1  347.684937  240.303772  265.269043  298.271973    0.444464      0   awake]\n",
      "Objects detected!\n",
      "[     xcenter     ycenter     width      height  confidence  class    name\n",
      "0  31.406479  304.489532  61.15876  143.055832    0.554714      1  drowsy]\n",
      "Objects detected!\n"
     ]
    },
    {
     "name": "stderr",
     "output_type": "stream",
     "text": [
      "C:\\Users\\Rakshitha/.cache\\torch\\hub\\ultralytics_yolov5_master\\models\\common.py:894: FutureWarning: `torch.cuda.amp.autocast(args...)` is deprecated. Please use `torch.amp.autocast('cuda', args...)` instead.\n",
      "  with amp.autocast(autocast):\n",
      "C:\\Users\\Rakshitha/.cache\\torch\\hub\\ultralytics_yolov5_master\\models\\common.py:894: FutureWarning: `torch.cuda.amp.autocast(args...)` is deprecated. Please use `torch.amp.autocast('cuda', args...)` instead.\n",
      "  with amp.autocast(autocast):\n"
     ]
    },
    {
     "name": "stdout",
     "output_type": "stream",
     "text": [
      "[      xcenter     ycenter       width      height  confidence  class    name\n",
      "0   31.858391  310.799408   63.288712  149.662476    0.596905      1  drowsy\n",
      "1  354.239838  233.308624  271.432556  365.338806    0.361602      0   awake]\n",
      "Objects detected!\n",
      "[     xcenter     ycenter      width      height  confidence  class    name\n",
      "0  30.787289  310.168549  59.452652  137.100632    0.706027      1  drowsy]\n",
      "Objects detected!\n"
     ]
    },
    {
     "name": "stderr",
     "output_type": "stream",
     "text": [
      "C:\\Users\\Rakshitha/.cache\\torch\\hub\\ultralytics_yolov5_master\\models\\common.py:894: FutureWarning: `torch.cuda.amp.autocast(args...)` is deprecated. Please use `torch.amp.autocast('cuda', args...)` instead.\n",
      "  with amp.autocast(autocast):\n",
      "C:\\Users\\Rakshitha/.cache\\torch\\hub\\ultralytics_yolov5_master\\models\\common.py:894: FutureWarning: `torch.cuda.amp.autocast(args...)` is deprecated. Please use `torch.amp.autocast('cuda', args...)` instead.\n",
      "  with amp.autocast(autocast):\n"
     ]
    },
    {
     "name": "stdout",
     "output_type": "stream",
     "text": [
      "[      xcenter     ycenter       width      height  confidence  class    name\n",
      "0   28.721451  310.934448   54.838669  144.415771    0.639541      1  drowsy\n",
      "1  361.831665  237.806366  273.493896  328.747620    0.369302      0   awake]\n",
      "Objects detected!\n",
      "[      xcenter     ycenter       width      height  confidence  class    name\n",
      "0   28.559700  308.464050   54.369476  150.835678    0.532209      1  drowsy\n",
      "1  364.435974  231.958344  274.363892  339.603943    0.400589      0   awake]\n",
      "Objects detected!\n"
     ]
    },
    {
     "name": "stderr",
     "output_type": "stream",
     "text": [
      "C:\\Users\\Rakshitha/.cache\\torch\\hub\\ultralytics_yolov5_master\\models\\common.py:894: FutureWarning: `torch.cuda.amp.autocast(args...)` is deprecated. Please use `torch.amp.autocast('cuda', args...)` instead.\n",
      "  with amp.autocast(autocast):\n",
      "C:\\Users\\Rakshitha/.cache\\torch\\hub\\ultralytics_yolov5_master\\models\\common.py:894: FutureWarning: `torch.cuda.amp.autocast(args...)` is deprecated. Please use `torch.amp.autocast('cuda', args...)` instead.\n",
      "  with amp.autocast(autocast):\n"
     ]
    },
    {
     "name": "stdout",
     "output_type": "stream",
     "text": [
      "[      xcenter     ycenter       width      height  confidence  class    name\n",
      "0  369.443085  219.670349  292.502380  312.339478    0.594078      0   awake\n",
      "1   28.790852  307.910156   55.106163  147.252258    0.499969      1  drowsy]\n",
      "Objects detected!\n",
      "[      xcenter     ycenter       width      height  confidence  class    name\n",
      "0   29.193058  309.796753   56.396523  143.769180    0.518454      1  drowsy\n",
      "1  372.511505  220.320343  303.113098  319.026978    0.281306      1  drowsy]\n",
      "Objects detected!\n"
     ]
    },
    {
     "name": "stderr",
     "output_type": "stream",
     "text": [
      "C:\\Users\\Rakshitha/.cache\\torch\\hub\\ultralytics_yolov5_master\\models\\common.py:894: FutureWarning: `torch.cuda.amp.autocast(args...)` is deprecated. Please use `torch.amp.autocast('cuda', args...)` instead.\n",
      "  with amp.autocast(autocast):\n",
      "C:\\Users\\Rakshitha/.cache\\torch\\hub\\ultralytics_yolov5_master\\models\\common.py:894: FutureWarning: `torch.cuda.amp.autocast(args...)` is deprecated. Please use `torch.amp.autocast('cuda', args...)` instead.\n",
      "  with amp.autocast(autocast):\n"
     ]
    },
    {
     "name": "stdout",
     "output_type": "stream",
     "text": [
      "[      xcenter     ycenter       width      height  confidence  class    name\n",
      "0   28.198170  310.073700   53.921104  148.648132    0.599717      1  drowsy\n",
      "1  368.458649  231.352539  276.190857  335.505981    0.292068      1  drowsy]\n",
      "Objects detected!\n",
      "[      xcenter     ycenter       width      height  confidence  class    name\n",
      "0   30.390768  308.894958   58.322849  144.798599    0.710437      1  drowsy\n",
      "1  359.180511  232.393204  270.996460  323.245697    0.455700      0   awake]\n",
      "Objects detected!\n"
     ]
    },
    {
     "name": "stderr",
     "output_type": "stream",
     "text": [
      "C:\\Users\\Rakshitha/.cache\\torch\\hub\\ultralytics_yolov5_master\\models\\common.py:894: FutureWarning: `torch.cuda.amp.autocast(args...)` is deprecated. Please use `torch.amp.autocast('cuda', args...)` instead.\n",
      "  with amp.autocast(autocast):\n",
      "C:\\Users\\Rakshitha/.cache\\torch\\hub\\ultralytics_yolov5_master\\models\\common.py:894: FutureWarning: `torch.cuda.amp.autocast(args...)` is deprecated. Please use `torch.amp.autocast('cuda', args...)` instead.\n",
      "  with amp.autocast(autocast):\n"
     ]
    },
    {
     "name": "stdout",
     "output_type": "stream",
     "text": [
      "[      xcenter     ycenter       width      height  confidence  class    name\n",
      "0   30.080666  308.320648   57.987228  140.856445    0.666735      1  drowsy\n",
      "1  355.204956  217.956543  289.439392  297.626587    0.469815      0   awake]\n",
      "Objects detected!\n",
      "[      xcenter     ycenter       width      height  confidence  class    name\n",
      "0   30.313534  308.419037   59.710838  146.750244    0.541212      1  drowsy\n",
      "1  360.992584  231.162231  256.202332  326.304932    0.465579      0   awake]\n",
      "Objects detected!\n"
     ]
    },
    {
     "name": "stderr",
     "output_type": "stream",
     "text": [
      "C:\\Users\\Rakshitha/.cache\\torch\\hub\\ultralytics_yolov5_master\\models\\common.py:894: FutureWarning: `torch.cuda.amp.autocast(args...)` is deprecated. Please use `torch.amp.autocast('cuda', args...)` instead.\n",
      "  with amp.autocast(autocast):\n",
      "C:\\Users\\Rakshitha/.cache\\torch\\hub\\ultralytics_yolov5_master\\models\\common.py:894: FutureWarning: `torch.cuda.amp.autocast(args...)` is deprecated. Please use `torch.amp.autocast('cuda', args...)` instead.\n",
      "  with amp.autocast(autocast):\n"
     ]
    },
    {
     "name": "stdout",
     "output_type": "stream",
     "text": [
      "[      xcenter     ycenter       width      height  confidence  class    name\n",
      "0  369.884705  230.855652  317.232300  335.040039    0.506249      1  drowsy\n",
      "1   31.215694  310.536926   62.431389  152.389709    0.465508      1  drowsy]\n",
      "Objects detected!\n",
      "[      xcenter     ycenter       width      height  confidence  class    name\n",
      "0  376.419708  234.218384  307.165344  333.943481    0.341803      0   awake\n",
      "1   31.242638  307.401245   62.485275  150.202515    0.306857      1  drowsy]\n",
      "Objects detected!\n"
     ]
    },
    {
     "name": "stderr",
     "output_type": "stream",
     "text": [
      "C:\\Users\\Rakshitha/.cache\\torch\\hub\\ultralytics_yolov5_master\\models\\common.py:894: FutureWarning: `torch.cuda.amp.autocast(args...)` is deprecated. Please use `torch.amp.autocast('cuda', args...)` instead.\n",
      "  with amp.autocast(autocast):\n",
      "C:\\Users\\Rakshitha/.cache\\torch\\hub\\ultralytics_yolov5_master\\models\\common.py:894: FutureWarning: `torch.cuda.amp.autocast(args...)` is deprecated. Please use `torch.amp.autocast('cuda', args...)` instead.\n",
      "  with amp.autocast(autocast):\n"
     ]
    },
    {
     "name": "stdout",
     "output_type": "stream",
     "text": [
      "[      xcenter     ycenter       width      height  confidence  class    name\n",
      "0  377.893738  234.777435  306.918945  338.706665    0.380881      0   awake\n",
      "1   31.515087  310.453247   63.030174  161.771057    0.325539      1  drowsy]\n",
      "Objects detected!\n"
     ]
    },
    {
     "name": "stderr",
     "output_type": "stream",
     "text": [
      "C:\\Users\\Rakshitha/.cache\\torch\\hub\\ultralytics_yolov5_master\\models\\common.py:894: FutureWarning: `torch.cuda.amp.autocast(args...)` is deprecated. Please use `torch.amp.autocast('cuda', args...)` instead.\n",
      "  with amp.autocast(autocast):\n"
     ]
    },
    {
     "name": "stdout",
     "output_type": "stream",
     "text": [
      "[Empty DataFrame\n",
      "Columns: [xcenter, ycenter, width, height, confidence, class, name]\n",
      "Index: []]\n",
      "No objects detected.\n",
      "[      xcenter     ycenter       width      height  confidence  class    name\n",
      "0   34.215195  307.767334   68.430389  143.619492    0.396656      1  drowsy\n",
      "1  379.531006  236.214569  320.249146  348.202454    0.279044      0   awake]\n",
      "Objects detected!\n"
     ]
    },
    {
     "name": "stderr",
     "output_type": "stream",
     "text": [
      "C:\\Users\\Rakshitha/.cache\\torch\\hub\\ultralytics_yolov5_master\\models\\common.py:894: FutureWarning: `torch.cuda.amp.autocast(args...)` is deprecated. Please use `torch.amp.autocast('cuda', args...)` instead.\n",
      "  with amp.autocast(autocast):\n",
      "C:\\Users\\Rakshitha/.cache\\torch\\hub\\ultralytics_yolov5_master\\models\\common.py:894: FutureWarning: `torch.cuda.amp.autocast(args...)` is deprecated. Please use `torch.amp.autocast('cuda', args...)` instead.\n",
      "  with amp.autocast(autocast):\n"
     ]
    },
    {
     "name": "stdout",
     "output_type": "stream",
     "text": [
      "[      xcenter     ycenter       width      height  confidence  class    name\n",
      "0  378.610046  230.304657  301.796631  341.834045    0.416411      1  drowsy\n",
      "1   32.363869  310.640961   64.727737  150.575394    0.330857      1  drowsy]\n",
      "Objects detected!\n",
      "[      xcenter     ycenter       width      height  confidence  class    name\n",
      "0   33.037651  311.932617   66.075302  153.358093    0.386519      1  drowsy\n",
      "1  370.186584  217.164642  308.294769  309.699890    0.253927      0   awake]\n",
      "Objects detected!\n"
     ]
    },
    {
     "name": "stderr",
     "output_type": "stream",
     "text": [
      "C:\\Users\\Rakshitha/.cache\\torch\\hub\\ultralytics_yolov5_master\\models\\common.py:894: FutureWarning: `torch.cuda.amp.autocast(args...)` is deprecated. Please use `torch.amp.autocast('cuda', args...)` instead.\n",
      "  with amp.autocast(autocast):\n",
      "C:\\Users\\Rakshitha/.cache\\torch\\hub\\ultralytics_yolov5_master\\models\\common.py:894: FutureWarning: `torch.cuda.amp.autocast(args...)` is deprecated. Please use `torch.amp.autocast('cuda', args...)` instead.\n",
      "  with amp.autocast(autocast):\n"
     ]
    },
    {
     "name": "stdout",
     "output_type": "stream",
     "text": [
      "[      xcenter     ycenter       width      height  confidence  class    name\n",
      "0  358.386475  217.312744  263.396851  287.030884    0.626456      0   awake\n",
      "1   33.461731  310.026276   66.923462  145.276169    0.468919      1  drowsy]\n",
      "Objects detected!\n",
      "[      xcenter     ycenter       width      height  confidence  class    name\n",
      "0  358.995239  218.159454  261.770386  285.918884    0.689208      0   awake\n",
      "1   30.651924  309.072144   59.477753  138.770752    0.303822      1  drowsy\n",
      "2   32.234261  306.570648   57.280907  135.429504    0.264649      0   awake]\n",
      "Objects detected!\n"
     ]
    },
    {
     "name": "stderr",
     "output_type": "stream",
     "text": [
      "C:\\Users\\Rakshitha/.cache\\torch\\hub\\ultralytics_yolov5_master\\models\\common.py:894: FutureWarning: `torch.cuda.amp.autocast(args...)` is deprecated. Please use `torch.amp.autocast('cuda', args...)` instead.\n",
      "  with amp.autocast(autocast):\n",
      "C:\\Users\\Rakshitha/.cache\\torch\\hub\\ultralytics_yolov5_master\\models\\common.py:894: FutureWarning: `torch.cuda.amp.autocast(args...)` is deprecated. Please use `torch.amp.autocast('cuda', args...)` instead.\n",
      "  with amp.autocast(autocast):\n"
     ]
    },
    {
     "name": "stdout",
     "output_type": "stream",
     "text": [
      "[      xcenter     ycenter       width      height  confidence  class    name\n",
      "0  362.078796  216.302185  272.587463  296.240112    0.564876      0   awake\n",
      "1   32.796082  308.705444   65.592163  141.059814    0.311277      1  drowsy]\n",
      "Objects detected!\n",
      "[      xcenter     ycenter       width      height  confidence  class    name\n",
      "0  361.862091  217.221207  268.240845  287.335968    0.428847      0   awake\n",
      "1   34.098152  310.818909   68.196304  142.441345    0.411947      1  drowsy]\n",
      "Objects detected!\n"
     ]
    },
    {
     "name": "stderr",
     "output_type": "stream",
     "text": [
      "C:\\Users\\Rakshitha/.cache\\torch\\hub\\ultralytics_yolov5_master\\models\\common.py:894: FutureWarning: `torch.cuda.amp.autocast(args...)` is deprecated. Please use `torch.amp.autocast('cuda', args...)` instead.\n",
      "  with amp.autocast(autocast):\n",
      "C:\\Users\\Rakshitha/.cache\\torch\\hub\\ultralytics_yolov5_master\\models\\common.py:894: FutureWarning: `torch.cuda.amp.autocast(args...)` is deprecated. Please use `torch.amp.autocast('cuda', args...)` instead.\n",
      "  with amp.autocast(autocast):\n"
     ]
    },
    {
     "name": "stdout",
     "output_type": "stream",
     "text": [
      "[      xcenter     ycenter       width      height  confidence  class    name\n",
      "0  363.744751  233.092361  300.685822  295.214691    0.527846      1  drowsy\n",
      "1   32.086597  308.773193   61.522392  138.804993    0.261756      1  drowsy]\n",
      "Objects detected!\n"
     ]
    },
    {
     "name": "stderr",
     "output_type": "stream",
     "text": [
      "C:\\Users\\Rakshitha/.cache\\torch\\hub\\ultralytics_yolov5_master\\models\\common.py:894: FutureWarning: `torch.cuda.amp.autocast(args...)` is deprecated. Please use `torch.amp.autocast('cuda', args...)` instead.\n",
      "  with amp.autocast(autocast):\n"
     ]
    },
    {
     "name": "stdout",
     "output_type": "stream",
     "text": [
      "[      xcenter     ycenter       width      height  confidence  class    name\n",
      "0   38.955910  312.739075   77.911819  146.495239    0.488255      1  drowsy\n",
      "1  361.178894  233.453476  291.070984  303.188873    0.426589      1  drowsy]\n",
      "Objects detected!\n",
      "[      xcenter     ycenter       width      height  confidence  class    name\n",
      "0  362.398590  234.574585  296.228699  298.939331    0.412730      1  drowsy\n",
      "1   32.722553  307.350037   65.445107  138.124207    0.317124      1  drowsy]\n",
      "Objects detected!\n"
     ]
    },
    {
     "name": "stderr",
     "output_type": "stream",
     "text": [
      "C:\\Users\\Rakshitha/.cache\\torch\\hub\\ultralytics_yolov5_master\\models\\common.py:894: FutureWarning: `torch.cuda.amp.autocast(args...)` is deprecated. Please use `torch.amp.autocast('cuda', args...)` instead.\n",
      "  with amp.autocast(autocast):\n",
      "C:\\Users\\Rakshitha/.cache\\torch\\hub\\ultralytics_yolov5_master\\models\\common.py:894: FutureWarning: `torch.cuda.amp.autocast(args...)` is deprecated. Please use `torch.amp.autocast('cuda', args...)` instead.\n",
      "  with amp.autocast(autocast):\n"
     ]
    },
    {
     "name": "stdout",
     "output_type": "stream",
     "text": [
      "[      xcenter     ycenter       width      height  confidence  class    name\n",
      "0   33.920319  310.051910   67.840637  134.588547    0.556020      1  drowsy\n",
      "1  361.663269  236.126495  302.729980  294.720215    0.339139      1  drowsy]\n",
      "Objects detected!\n",
      "[      xcenter     ycenter       width      height  confidence  class    name\n",
      "0   35.212120  310.500366   70.334152  136.404297    0.668743      1  drowsy\n",
      "1  362.145172  236.106033  290.511292  287.954803    0.292461      1  drowsy]\n",
      "Objects detected!\n"
     ]
    },
    {
     "name": "stderr",
     "output_type": "stream",
     "text": [
      "C:\\Users\\Rakshitha/.cache\\torch\\hub\\ultralytics_yolov5_master\\models\\common.py:894: FutureWarning: `torch.cuda.amp.autocast(args...)` is deprecated. Please use `torch.amp.autocast('cuda', args...)` instead.\n",
      "  with amp.autocast(autocast):\n",
      "C:\\Users\\Rakshitha/.cache\\torch\\hub\\ultralytics_yolov5_master\\models\\common.py:894: FutureWarning: `torch.cuda.amp.autocast(args...)` is deprecated. Please use `torch.amp.autocast('cuda', args...)` instead.\n",
      "  with amp.autocast(autocast):\n"
     ]
    },
    {
     "name": "stdout",
     "output_type": "stream",
     "text": [
      "[      xcenter     ycenter       width      height  confidence  class    name\n",
      "0   34.493645  310.182678   68.987289  140.805771    0.579947      1  drowsy\n",
      "1  358.562500  216.460541  282.590698  273.345642    0.282878      1  drowsy]\n",
      "Objects detected!\n",
      "[      xcenter     ycenter       width      height  confidence  class    name\n",
      "0   35.588120  312.812103   71.176239  140.339844    0.643569      1  drowsy\n",
      "1  359.887573  218.185638  276.798584  292.860107    0.480629      1  drowsy]\n",
      "Objects detected!\n"
     ]
    },
    {
     "name": "stderr",
     "output_type": "stream",
     "text": [
      "C:\\Users\\Rakshitha/.cache\\torch\\hub\\ultralytics_yolov5_master\\models\\common.py:894: FutureWarning: `torch.cuda.amp.autocast(args...)` is deprecated. Please use `torch.amp.autocast('cuda', args...)` instead.\n",
      "  with amp.autocast(autocast):\n",
      "C:\\Users\\Rakshitha/.cache\\torch\\hub\\ultralytics_yolov5_master\\models\\common.py:894: FutureWarning: `torch.cuda.amp.autocast(args...)` is deprecated. Please use `torch.amp.autocast('cuda', args...)` instead.\n",
      "  with amp.autocast(autocast):\n"
     ]
    },
    {
     "name": "stdout",
     "output_type": "stream",
     "text": [
      "[      xcenter     ycenter       width      height  confidence  class    name\n",
      "0  356.933289  216.598480  262.464722  276.583130    0.501315      0   awake\n",
      "1   32.159107  308.259705   63.950783  135.386292    0.481885      1  drowsy]\n",
      "Objects detected!\n",
      "[      xcenter     ycenter       width      height  confidence  class    name\n",
      "0   32.786736  309.596039   65.573471  138.367844    0.430972      1  drowsy\n",
      "1  358.901001  218.545197  273.607849  295.864807    0.355291      0   awake\n",
      "2  361.955597  229.759918  263.847351  315.449829    0.294147      1  drowsy]\n",
      "Objects detected!\n"
     ]
    },
    {
     "name": "stderr",
     "output_type": "stream",
     "text": [
      "C:\\Users\\Rakshitha/.cache\\torch\\hub\\ultralytics_yolov5_master\\models\\common.py:894: FutureWarning: `torch.cuda.amp.autocast(args...)` is deprecated. Please use `torch.amp.autocast('cuda', args...)` instead.\n",
      "  with amp.autocast(autocast):\n",
      "C:\\Users\\Rakshitha/.cache\\torch\\hub\\ultralytics_yolov5_master\\models\\common.py:894: FutureWarning: `torch.cuda.amp.autocast(args...)` is deprecated. Please use `torch.amp.autocast('cuda', args...)` instead.\n",
      "  with amp.autocast(autocast):\n"
     ]
    },
    {
     "name": "stdout",
     "output_type": "stream",
     "text": [
      "[      xcenter     ycenter       width      height  confidence  class    name\n",
      "0   33.076088  311.057343   66.152176  139.205017    0.482992      1  drowsy\n",
      "1  360.048370  219.427185  280.747559  294.512085    0.353372      0   awake\n",
      "2  363.239838  228.869324  273.373596  312.967896    0.334704      1  drowsy]\n",
      "Objects detected!\n",
      "[      xcenter     ycenter       width      height  confidence  class    name\n",
      "0   35.052490  312.298370   70.104980  143.030579    0.497315      1  drowsy\n",
      "1  362.037659  219.760849  272.943115  285.910919    0.435734      0   awake]\n",
      "Objects detected!\n"
     ]
    },
    {
     "name": "stderr",
     "output_type": "stream",
     "text": [
      "C:\\Users\\Rakshitha/.cache\\torch\\hub\\ultralytics_yolov5_master\\models\\common.py:894: FutureWarning: `torch.cuda.amp.autocast(args...)` is deprecated. Please use `torch.amp.autocast('cuda', args...)` instead.\n",
      "  with amp.autocast(autocast):\n",
      "C:\\Users\\Rakshitha/.cache\\torch\\hub\\ultralytics_yolov5_master\\models\\common.py:894: FutureWarning: `torch.cuda.amp.autocast(args...)` is deprecated. Please use `torch.amp.autocast('cuda', args...)` instead.\n",
      "  with amp.autocast(autocast):\n"
     ]
    },
    {
     "name": "stdout",
     "output_type": "stream",
     "text": [
      "[      xcenter     ycenter       width      height  confidence  class    name\n",
      "0   36.509727  317.249664   73.019455  152.503860    0.706485      1  drowsy\n",
      "1  362.072052  221.541702  271.392029  291.992828    0.453177      0   awake]\n",
      "Objects detected!\n",
      "[      xcenter     ycenter       width      height  confidence  class    name\n",
      "0   35.327591  314.113739   70.655182  140.927673    0.684204      1  drowsy\n",
      "1  363.779175  233.438232  269.435791  317.866455    0.335487      0   awake]\n",
      "Objects detected!\n"
     ]
    },
    {
     "name": "stderr",
     "output_type": "stream",
     "text": [
      "C:\\Users\\Rakshitha/.cache\\torch\\hub\\ultralytics_yolov5_master\\models\\common.py:894: FutureWarning: `torch.cuda.amp.autocast(args...)` is deprecated. Please use `torch.amp.autocast('cuda', args...)` instead.\n",
      "  with amp.autocast(autocast):\n",
      "C:\\Users\\Rakshitha/.cache\\torch\\hub\\ultralytics_yolov5_master\\models\\common.py:894: FutureWarning: `torch.cuda.amp.autocast(args...)` is deprecated. Please use `torch.amp.autocast('cuda', args...)` instead.\n",
      "  with amp.autocast(autocast):\n"
     ]
    },
    {
     "name": "stdout",
     "output_type": "stream",
     "text": [
      "[      xcenter     ycenter       width      height  confidence  class    name\n",
      "0   36.871567  313.245056   73.743134  142.659058    0.678544      1  drowsy\n",
      "1  366.675842  230.914612  284.279358  315.829102    0.357011      1  drowsy]\n",
      "Objects detected!\n",
      "[      xcenter     ycenter       width      height  confidence  class    name\n",
      "0  368.651489  232.689209  304.864258  307.328003    0.493826      1  drowsy\n",
      "1   37.409424  311.999847   74.818848  140.716492    0.449846      1  drowsy]\n",
      "Objects detected!\n"
     ]
    },
    {
     "name": "stderr",
     "output_type": "stream",
     "text": [
      "C:\\Users\\Rakshitha/.cache\\torch\\hub\\ultralytics_yolov5_master\\models\\common.py:894: FutureWarning: `torch.cuda.amp.autocast(args...)` is deprecated. Please use `torch.amp.autocast('cuda', args...)` instead.\n",
      "  with amp.autocast(autocast):\n",
      "C:\\Users\\Rakshitha/.cache\\torch\\hub\\ultralytics_yolov5_master\\models\\common.py:894: FutureWarning: `torch.cuda.amp.autocast(args...)` is deprecated. Please use `torch.amp.autocast('cuda', args...)` instead.\n",
      "  with amp.autocast(autocast):\n"
     ]
    },
    {
     "name": "stdout",
     "output_type": "stream",
     "text": [
      "[      xcenter     ycenter       width      height  confidence  class    name\n",
      "0   34.804516  313.052521   69.609032  144.766907    0.528670      1  drowsy\n",
      "1  368.900208  233.503830  306.736572  305.890533    0.503673      1  drowsy]\n",
      "Objects detected!\n",
      "[      xcenter     ycenter       width      height  confidence  class    name\n",
      "0  368.417542  231.023041  296.998932  312.962097    0.548674      1  drowsy\n",
      "1   35.626266  313.568176   71.252533  143.232193    0.536296      1  drowsy]\n",
      "Objects detected!\n"
     ]
    },
    {
     "name": "stderr",
     "output_type": "stream",
     "text": [
      "C:\\Users\\Rakshitha/.cache\\torch\\hub\\ultralytics_yolov5_master\\models\\common.py:894: FutureWarning: `torch.cuda.amp.autocast(args...)` is deprecated. Please use `torch.amp.autocast('cuda', args...)` instead.\n",
      "  with amp.autocast(autocast):\n",
      "C:\\Users\\Rakshitha/.cache\\torch\\hub\\ultralytics_yolov5_master\\models\\common.py:894: FutureWarning: `torch.cuda.amp.autocast(args...)` is deprecated. Please use `torch.amp.autocast('cuda', args...)` instead.\n",
      "  with amp.autocast(autocast):\n"
     ]
    },
    {
     "name": "stdout",
     "output_type": "stream",
     "text": [
      "[      xcenter     ycenter       width      height  confidence  class    name\n",
      "0   35.581192  314.274048   71.162384  143.260254    0.574469      1  drowsy\n",
      "1  369.976624  237.010330  314.734009  300.373444    0.382362      1  drowsy]\n",
      "Objects detected!\n",
      "[     xcenter     ycenter      width      height  confidence  class    name\n",
      "0  35.235748  313.437775  70.471497  144.685913    0.385012      1  drowsy]\n",
      "Objects detected!\n"
     ]
    },
    {
     "name": "stderr",
     "output_type": "stream",
     "text": [
      "C:\\Users\\Rakshitha/.cache\\torch\\hub\\ultralytics_yolov5_master\\models\\common.py:894: FutureWarning: `torch.cuda.amp.autocast(args...)` is deprecated. Please use `torch.amp.autocast('cuda', args...)` instead.\n",
      "  with amp.autocast(autocast):\n",
      "C:\\Users\\Rakshitha/.cache\\torch\\hub\\ultralytics_yolov5_master\\models\\common.py:894: FutureWarning: `torch.cuda.amp.autocast(args...)` is deprecated. Please use `torch.amp.autocast('cuda', args...)` instead.\n",
      "  with amp.autocast(autocast):\n"
     ]
    },
    {
     "name": "stdout",
     "output_type": "stream",
     "text": [
      "[     xcenter     ycenter      width      height  confidence  class    name\n",
      "0  34.278969  311.519592  68.557938  140.514038    0.564173      1  drowsy]\n",
      "Objects detected!\n",
      "[     xcenter     ycenter      width      height  confidence  class    name\n",
      "0  42.686966  335.447205  85.373932  210.334961    0.423051      1  drowsy]\n",
      "Objects detected!\n"
     ]
    },
    {
     "name": "stderr",
     "output_type": "stream",
     "text": [
      "C:\\Users\\Rakshitha/.cache\\torch\\hub\\ultralytics_yolov5_master\\models\\common.py:894: FutureWarning: `torch.cuda.amp.autocast(args...)` is deprecated. Please use `torch.amp.autocast('cuda', args...)` instead.\n",
      "  with amp.autocast(autocast):\n",
      "C:\\Users\\Rakshitha/.cache\\torch\\hub\\ultralytics_yolov5_master\\models\\common.py:894: FutureWarning: `torch.cuda.amp.autocast(args...)` is deprecated. Please use `torch.amp.autocast('cuda', args...)` instead.\n",
      "  with amp.autocast(autocast):\n"
     ]
    },
    {
     "name": "stdout",
     "output_type": "stream",
     "text": [
      "[     xcenter     ycenter      width      height  confidence  class   name\n",
      "0  33.673782  308.307526  59.550919  126.278198    0.426232      0  awake]\n",
      "Objects detected!\n",
      "[      xcenter     ycenter       width      height  confidence  class    name\n",
      "0   37.961582  339.605530   75.923164  223.557434    0.596155      1  drowsy\n",
      "1  358.188721  240.401215  301.799683  280.551941    0.399177      1  drowsy]\n",
      "Objects detected!\n"
     ]
    },
    {
     "name": "stderr",
     "output_type": "stream",
     "text": [
      "C:\\Users\\Rakshitha/.cache\\torch\\hub\\ultralytics_yolov5_master\\models\\common.py:894: FutureWarning: `torch.cuda.amp.autocast(args...)` is deprecated. Please use `torch.amp.autocast('cuda', args...)` instead.\n",
      "  with amp.autocast(autocast):\n",
      "C:\\Users\\Rakshitha/.cache\\torch\\hub\\ultralytics_yolov5_master\\models\\common.py:894: FutureWarning: `torch.cuda.amp.autocast(args...)` is deprecated. Please use `torch.amp.autocast('cuda', args...)` instead.\n",
      "  with amp.autocast(autocast):\n"
     ]
    },
    {
     "name": "stdout",
     "output_type": "stream",
     "text": [
      "[      xcenter     ycenter       width      height  confidence  class    name\n",
      "0   31.374470  310.576477   62.748940  139.464233    0.390105      1  drowsy\n",
      "1  348.775543  234.660263  323.385559  293.672333    0.317627      1  drowsy]\n",
      "Objects detected!\n",
      "[    xcenter     ycenter     width     height  confidence  class    name\n",
      "0  34.58963  308.222015  69.17926  147.11908    0.319907      1  drowsy]\n",
      "Objects detected!\n"
     ]
    },
    {
     "name": "stderr",
     "output_type": "stream",
     "text": [
      "C:\\Users\\Rakshitha/.cache\\torch\\hub\\ultralytics_yolov5_master\\models\\common.py:894: FutureWarning: `torch.cuda.amp.autocast(args...)` is deprecated. Please use `torch.amp.autocast('cuda', args...)` instead.\n",
      "  with amp.autocast(autocast):\n",
      "C:\\Users\\Rakshitha/.cache\\torch\\hub\\ultralytics_yolov5_master\\models\\common.py:894: FutureWarning: `torch.cuda.amp.autocast(args...)` is deprecated. Please use `torch.amp.autocast('cuda', args...)` instead.\n",
      "  with amp.autocast(autocast):\n"
     ]
    },
    {
     "name": "stdout",
     "output_type": "stream",
     "text": [
      "[      xcenter     ycenter       width      height  confidence  class    name\n",
      "0  334.408203  216.963272  265.321289  265.756317     0.57242      0   awake\n",
      "1   38.674046  335.959595   76.785805  211.362778     0.25813      1  drowsy]\n",
      "Objects detected!\n",
      "[      xcenter     ycenter       width      height  confidence  class    name\n",
      "0  329.986664  217.140533  265.551453  267.268250    0.676133      0   awake\n",
      "1   33.500702  314.628326   67.001404  152.499451    0.374414      1  drowsy]\n",
      "Objects detected!\n"
     ]
    },
    {
     "name": "stderr",
     "output_type": "stream",
     "text": [
      "C:\\Users\\Rakshitha/.cache\\torch\\hub\\ultralytics_yolov5_master\\models\\common.py:894: FutureWarning: `torch.cuda.amp.autocast(args...)` is deprecated. Please use `torch.amp.autocast('cuda', args...)` instead.\n",
      "  with amp.autocast(autocast):\n",
      "C:\\Users\\Rakshitha/.cache\\torch\\hub\\ultralytics_yolov5_master\\models\\common.py:894: FutureWarning: `torch.cuda.amp.autocast(args...)` is deprecated. Please use `torch.amp.autocast('cuda', args...)` instead.\n",
      "  with amp.autocast(autocast):\n"
     ]
    },
    {
     "name": "stdout",
     "output_type": "stream",
     "text": [
      "[      xcenter     ycenter       width      height  confidence  class    name\n",
      "0  330.834656  217.436676  272.244324  269.466553    0.613687      0   awake\n",
      "1   30.411516  311.171997   60.823032  148.066772    0.371734      1  drowsy]\n",
      "Objects detected!\n",
      "[      xcenter     ycenter       width      height  confidence  class    name\n",
      "0  333.137573  233.173096  288.589233  280.045959    0.426835      1  drowsy\n",
      "1   37.022003  337.933472   73.481842  221.626770    0.251830      1  drowsy]\n",
      "Objects detected!\n"
     ]
    },
    {
     "name": "stderr",
     "output_type": "stream",
     "text": [
      "C:\\Users\\Rakshitha/.cache\\torch\\hub\\ultralytics_yolov5_master\\models\\common.py:894: FutureWarning: `torch.cuda.amp.autocast(args...)` is deprecated. Please use `torch.amp.autocast('cuda', args...)` instead.\n",
      "  with amp.autocast(autocast):\n",
      "C:\\Users\\Rakshitha/.cache\\torch\\hub\\ultralytics_yolov5_master\\models\\common.py:894: FutureWarning: `torch.cuda.amp.autocast(args...)` is deprecated. Please use `torch.amp.autocast('cuda', args...)` instead.\n",
      "  with amp.autocast(autocast):\n"
     ]
    },
    {
     "name": "stdout",
     "output_type": "stream",
     "text": [
      "[      xcenter     ycenter      width      height  confidence  class    name\n",
      "0  326.423584  233.390213  289.00177  245.077545    0.288848      1  drowsy]\n",
      "Objects detected!\n",
      "[      xcenter     ycenter       width      height  confidence  class    name\n",
      "0  308.622314  236.108978  240.391479  272.129700    0.754294      0   awake\n",
      "1   29.644749  311.927490   56.834663  145.368347    0.402416      1  drowsy]\n",
      "Objects detected!\n"
     ]
    },
    {
     "name": "stderr",
     "output_type": "stream",
     "text": [
      "C:\\Users\\Rakshitha/.cache\\torch\\hub\\ultralytics_yolov5_master\\models\\common.py:894: FutureWarning: `torch.cuda.amp.autocast(args...)` is deprecated. Please use `torch.amp.autocast('cuda', args...)` instead.\n",
      "  with amp.autocast(autocast):\n",
      "C:\\Users\\Rakshitha/.cache\\torch\\hub\\ultralytics_yolov5_master\\models\\common.py:894: FutureWarning: `torch.cuda.amp.autocast(args...)` is deprecated. Please use `torch.amp.autocast('cuda', args...)` instead.\n",
      "  with amp.autocast(autocast):\n"
     ]
    },
    {
     "name": "stdout",
     "output_type": "stream",
     "text": [
      "[      xcenter     ycenter       width      height  confidence  class    name\n",
      "0  291.624908  270.923492  314.664673  290.580688    0.514845      1  drowsy\n",
      "1   35.618347  314.057556   71.236694  158.519592    0.395131      1  drowsy]\n",
      "Objects detected!\n",
      "[      xcenter     ycenter       width      height  confidence  class    name\n",
      "0  281.698700  272.059692  323.621887  265.932983    0.423042      1  drowsy\n",
      "1   45.665558  333.143646   90.832397  216.541580    0.347595      1  drowsy]\n",
      "Objects detected!\n"
     ]
    },
    {
     "name": "stderr",
     "output_type": "stream",
     "text": [
      "C:\\Users\\Rakshitha/.cache\\torch\\hub\\ultralytics_yolov5_master\\models\\common.py:894: FutureWarning: `torch.cuda.amp.autocast(args...)` is deprecated. Please use `torch.amp.autocast('cuda', args...)` instead.\n",
      "  with amp.autocast(autocast):\n",
      "C:\\Users\\Rakshitha/.cache\\torch\\hub\\ultralytics_yolov5_master\\models\\common.py:894: FutureWarning: `torch.cuda.amp.autocast(args...)` is deprecated. Please use `torch.amp.autocast('cuda', args...)` instead.\n",
      "  with amp.autocast(autocast):\n"
     ]
    },
    {
     "name": "stdout",
     "output_type": "stream",
     "text": [
      "[      xcenter     ycenter       width      height  confidence  class    name\n",
      "0  271.914673  265.567902  312.879517  272.169495    0.518374      1  drowsy\n",
      "1   36.833702  307.538391   73.667404  132.599670    0.394528      1  drowsy]\n",
      "Objects detected!\n",
      "[      xcenter     ycenter       width      height  confidence  class    name\n",
      "0  249.152405  271.862457  332.370483  303.572693    0.354252      1  drowsy\n",
      "1   42.174477  336.971985   82.156265  207.041809    0.272497      1  drowsy]\n",
      "Objects detected!\n"
     ]
    },
    {
     "name": "stderr",
     "output_type": "stream",
     "text": [
      "C:\\Users\\Rakshitha/.cache\\torch\\hub\\ultralytics_yolov5_master\\models\\common.py:894: FutureWarning: `torch.cuda.amp.autocast(args...)` is deprecated. Please use `torch.amp.autocast('cuda', args...)` instead.\n",
      "  with amp.autocast(autocast):\n",
      "C:\\Users\\Rakshitha/.cache\\torch\\hub\\ultralytics_yolov5_master\\models\\common.py:894: FutureWarning: `torch.cuda.amp.autocast(args...)` is deprecated. Please use `torch.amp.autocast('cuda', args...)` instead.\n",
      "  with amp.autocast(autocast):\n"
     ]
    },
    {
     "name": "stdout",
     "output_type": "stream",
     "text": [
      "[     xcenter    ycenter       width      height  confidence  class    name\n",
      "0  170.85379  262.08255  275.599426  252.645996    0.597808      1  drowsy]\n",
      "Objects detected!\n",
      "[      xcenter     ycenter       width      height  confidence  class    name\n",
      "0  603.617737  399.435974   68.443848  161.128082    0.675789      1  drowsy\n",
      "1  127.549316  246.625519  255.098633  286.259583    0.513938      1  drowsy]\n",
      "Objects detected!\n"
     ]
    },
    {
     "name": "stderr",
     "output_type": "stream",
     "text": [
      "C:\\Users\\Rakshitha/.cache\\torch\\hub\\ultralytics_yolov5_master\\models\\common.py:894: FutureWarning: `torch.cuda.amp.autocast(args...)` is deprecated. Please use `torch.amp.autocast('cuda', args...)` instead.\n",
      "  with amp.autocast(autocast):\n",
      "C:\\Users\\Rakshitha/.cache\\torch\\hub\\ultralytics_yolov5_master\\models\\common.py:894: FutureWarning: `torch.cuda.amp.autocast(args...)` is deprecated. Please use `torch.amp.autocast('cuda', args...)` instead.\n",
      "  with amp.autocast(autocast):\n",
      "C:\\Users\\Rakshitha/.cache\\torch\\hub\\ultralytics_yolov5_master\\models\\common.py:894: FutureWarning: `torch.cuda.amp.autocast(args...)` is deprecated. Please use `torch.amp.autocast('cuda', args...)` instead.\n",
      "  with amp.autocast(autocast):\n"
     ]
    },
    {
     "name": "stdout",
     "output_type": "stream",
     "text": [
      "[      xcenter     ycenter       width      height  confidence  class    name\n",
      "0  107.238663  305.072235  214.477325  328.427307    0.396827      1  drowsy\n",
      "1  107.717377  305.245392  215.434753  313.496521    0.372193      0   awake]\n",
      "Objects detected!\n",
      "[      xcenter     ycenter       width      height  confidence  class    name\n",
      "0   80.686165  302.718536  161.372330  263.276917    0.663136      1  drowsy\n",
      "1  529.437134  329.367584  221.125732  269.485901    0.430555      1  drowsy]\n",
      "Objects detected!\n"
     ]
    },
    {
     "name": "stderr",
     "output_type": "stream",
     "text": [
      "C:\\Users\\Rakshitha/.cache\\torch\\hub\\ultralytics_yolov5_master\\models\\common.py:894: FutureWarning: `torch.cuda.amp.autocast(args...)` is deprecated. Please use `torch.amp.autocast('cuda', args...)` instead.\n",
      "  with amp.autocast(autocast):\n",
      "C:\\Users\\Rakshitha/.cache\\torch\\hub\\ultralytics_yolov5_master\\models\\common.py:894: FutureWarning: `torch.cuda.amp.autocast(args...)` is deprecated. Please use `torch.amp.autocast('cuda', args...)` instead.\n",
      "  with amp.autocast(autocast):\n"
     ]
    },
    {
     "name": "stdout",
     "output_type": "stream",
     "text": [
      "[      xcenter     ycenter       width      height  confidence  class    name\n",
      "0  485.597870  332.459808  204.680969  236.777588    0.790793      1  drowsy\n",
      "1  570.588623  414.317810  138.822693  120.851868    0.344639      1  drowsy]\n",
      "Objects detected!\n",
      "[      xcenter    ycenter       width      height  confidence  class    name\n",
      "0  447.236237  330.04657  247.437805  259.659363    0.526966      1  drowsy]\n",
      "Objects detected!\n"
     ]
    },
    {
     "name": "stderr",
     "output_type": "stream",
     "text": [
      "C:\\Users\\Rakshitha/.cache\\torch\\hub\\ultralytics_yolov5_master\\models\\common.py:894: FutureWarning: `torch.cuda.amp.autocast(args...)` is deprecated. Please use `torch.amp.autocast('cuda', args...)` instead.\n",
      "  with amp.autocast(autocast):\n",
      "C:\\Users\\Rakshitha/.cache\\torch\\hub\\ultralytics_yolov5_master\\models\\common.py:894: FutureWarning: `torch.cuda.amp.autocast(args...)` is deprecated. Please use `torch.amp.autocast('cuda', args...)` instead.\n",
      "  with amp.autocast(autocast):\n"
     ]
    },
    {
     "name": "stdout",
     "output_type": "stream",
     "text": [
      "[      xcenter     ycenter       width      height  confidence  class    name\n",
      "0  371.208313  323.106201  292.696381  297.055908    0.460377      1  drowsy]\n",
      "Objects detected!\n",
      "[      xcenter     ycenter       width      height  confidence  class    name\n",
      "0  335.886108  313.961304  318.348877  306.220703    0.472835      1  drowsy]\n",
      "Objects detected!\n"
     ]
    },
    {
     "name": "stderr",
     "output_type": "stream",
     "text": [
      "C:\\Users\\Rakshitha/.cache\\torch\\hub\\ultralytics_yolov5_master\\models\\common.py:894: FutureWarning: `torch.cuda.amp.autocast(args...)` is deprecated. Please use `torch.amp.autocast('cuda', args...)` instead.\n",
      "  with amp.autocast(autocast):\n",
      "C:\\Users\\Rakshitha/.cache\\torch\\hub\\ultralytics_yolov5_master\\models\\common.py:894: FutureWarning: `torch.cuda.amp.autocast(args...)` is deprecated. Please use `torch.amp.autocast('cuda', args...)` instead.\n",
      "  with amp.autocast(autocast):\n"
     ]
    },
    {
     "name": "stdout",
     "output_type": "stream",
     "text": [
      "[      xcenter     ycenter       width      height  confidence  class    name\n",
      "0  331.959869  302.532837  309.989929  319.728943    0.296415      1  drowsy]\n",
      "Objects detected!\n",
      "[      xcenter     ycenter       width      height  confidence  class    name\n",
      "0  320.404205  301.848175  353.328918  334.947998    0.387409      1  drowsy]\n",
      "Objects detected!\n"
     ]
    },
    {
     "name": "stderr",
     "output_type": "stream",
     "text": [
      "C:\\Users\\Rakshitha/.cache\\torch\\hub\\ultralytics_yolov5_master\\models\\common.py:894: FutureWarning: `torch.cuda.amp.autocast(args...)` is deprecated. Please use `torch.amp.autocast('cuda', args...)` instead.\n",
      "  with amp.autocast(autocast):\n",
      "C:\\Users\\Rakshitha/.cache\\torch\\hub\\ultralytics_yolov5_master\\models\\common.py:894: FutureWarning: `torch.cuda.amp.autocast(args...)` is deprecated. Please use `torch.amp.autocast('cuda', args...)` instead.\n",
      "  with amp.autocast(autocast):\n"
     ]
    },
    {
     "name": "stdout",
     "output_type": "stream",
     "text": [
      "[      xcenter     ycenter       width      height  confidence  class    name\n",
      "0  329.182678  303.339172  321.097290  300.817017    0.534192      1  drowsy\n",
      "1  431.315460  407.862640  179.313293  123.279053    0.413594      1  drowsy]\n",
      "Objects detected!\n",
      "[      xcenter     ycenter       width      height  confidence  class    name\n",
      "0  306.235657  305.036346  328.975098  336.187317    0.335843      1  drowsy]\n",
      "Objects detected!\n"
     ]
    },
    {
     "name": "stderr",
     "output_type": "stream",
     "text": [
      "C:\\Users\\Rakshitha/.cache\\torch\\hub\\ultralytics_yolov5_master\\models\\common.py:894: FutureWarning: `torch.cuda.amp.autocast(args...)` is deprecated. Please use `torch.amp.autocast('cuda', args...)` instead.\n",
      "  with amp.autocast(autocast):\n",
      "C:\\Users\\Rakshitha/.cache\\torch\\hub\\ultralytics_yolov5_master\\models\\common.py:894: FutureWarning: `torch.cuda.amp.autocast(args...)` is deprecated. Please use `torch.amp.autocast('cuda', args...)` instead.\n",
      "  with amp.autocast(autocast):\n"
     ]
    },
    {
     "name": "stdout",
     "output_type": "stream",
     "text": [
      "[Empty DataFrame\n",
      "Columns: [xcenter, ycenter, width, height, confidence, class, name]\n",
      "Index: []]\n",
      "No objects detected.\n",
      "[      xcenter    ycenter       width      height  confidence  class    name\n",
      "0  405.554077  324.43045  307.967773  311.139099    0.341576      1  drowsy]\n",
      "Objects detected!\n"
     ]
    },
    {
     "name": "stderr",
     "output_type": "stream",
     "text": [
      "C:\\Users\\Rakshitha/.cache\\torch\\hub\\ultralytics_yolov5_master\\models\\common.py:894: FutureWarning: `torch.cuda.amp.autocast(args...)` is deprecated. Please use `torch.amp.autocast('cuda', args...)` instead.\n",
      "  with amp.autocast(autocast):\n",
      "C:\\Users\\Rakshitha/.cache\\torch\\hub\\ultralytics_yolov5_master\\models\\common.py:894: FutureWarning: `torch.cuda.amp.autocast(args...)` is deprecated. Please use `torch.amp.autocast('cuda', args...)` instead.\n",
      "  with amp.autocast(autocast):\n"
     ]
    },
    {
     "name": "stdout",
     "output_type": "stream",
     "text": [
      "[      xcenter  ycenter       width      height  confidence  class    name\n",
      "0  378.683411  307.362  356.799683  345.276001    0.346756      1  drowsy]\n",
      "Objects detected!\n",
      "[      xcenter     ycenter       width      height  confidence  class    name\n",
      "0  379.016418  309.006287  362.808502  341.987457    0.274384      1  drowsy]\n",
      "Objects detected!\n"
     ]
    },
    {
     "name": "stderr",
     "output_type": "stream",
     "text": [
      "C:\\Users\\Rakshitha/.cache\\torch\\hub\\ultralytics_yolov5_master\\models\\common.py:894: FutureWarning: `torch.cuda.amp.autocast(args...)` is deprecated. Please use `torch.amp.autocast('cuda', args...)` instead.\n",
      "  with amp.autocast(autocast):\n",
      "C:\\Users\\Rakshitha/.cache\\torch\\hub\\ultralytics_yolov5_master\\models\\common.py:894: FutureWarning: `torch.cuda.amp.autocast(args...)` is deprecated. Please use `torch.amp.autocast('cuda', args...)` instead.\n",
      "  with amp.autocast(autocast):\n"
     ]
    },
    {
     "name": "stdout",
     "output_type": "stream",
     "text": [
      "[      xcenter     ycenter      width      height  confidence  class    name\n",
      "0  374.762268  323.733612  299.33252  312.532776     0.43151      1  drowsy]\n",
      "Objects detected!\n",
      "[      xcenter     ycenter       width     height  confidence  class    name\n",
      "0  351.832275  325.903625  297.168091  308.19278    0.389565      1  drowsy]\n",
      "Objects detected!\n"
     ]
    },
    {
     "name": "stderr",
     "output_type": "stream",
     "text": [
      "C:\\Users\\Rakshitha/.cache\\torch\\hub\\ultralytics_yolov5_master\\models\\common.py:894: FutureWarning: `torch.cuda.amp.autocast(args...)` is deprecated. Please use `torch.amp.autocast('cuda', args...)` instead.\n",
      "  with amp.autocast(autocast):\n",
      "C:\\Users\\Rakshitha/.cache\\torch\\hub\\ultralytics_yolov5_master\\models\\common.py:894: FutureWarning: `torch.cuda.amp.autocast(args...)` is deprecated. Please use `torch.amp.autocast('cuda', args...)` instead.\n",
      "  with amp.autocast(autocast):\n"
     ]
    },
    {
     "name": "stdout",
     "output_type": "stream",
     "text": [
      "[      xcenter     ycenter       width      height  confidence  class    name\n",
      "0  351.949524  309.908813  340.231354  318.707153    0.474604      1  drowsy]\n",
      "Objects detected!\n",
      "[      xcenter     ycenter       width      height  confidence  class    name\n",
      "0  466.330872  423.720947  195.441193  107.620972    0.615190      1  drowsy\n",
      "1  371.084839  317.749176  324.628052  320.955505    0.444789      1  drowsy]\n",
      "Objects detected!\n"
     ]
    },
    {
     "name": "stderr",
     "output_type": "stream",
     "text": [
      "C:\\Users\\Rakshitha/.cache\\torch\\hub\\ultralytics_yolov5_master\\models\\common.py:894: FutureWarning: `torch.cuda.amp.autocast(args...)` is deprecated. Please use `torch.amp.autocast('cuda', args...)` instead.\n",
      "  with amp.autocast(autocast):\n",
      "C:\\Users\\Rakshitha/.cache\\torch\\hub\\ultralytics_yolov5_master\\models\\common.py:894: FutureWarning: `torch.cuda.amp.autocast(args...)` is deprecated. Please use `torch.amp.autocast('cuda', args...)` instead.\n",
      "  with amp.autocast(autocast):\n"
     ]
    },
    {
     "name": "stdout",
     "output_type": "stream",
     "text": [
      "[      xcenter     ycenter       width      height  confidence  class    name\n",
      "0  368.277161  306.799225  327.867523  313.916687    0.422473      1  drowsy\n",
      "1  456.501526  415.919342  193.173309  118.394836    0.410551      1  drowsy]\n",
      "Objects detected!\n",
      "[      xcenter     ycenter       width      height  confidence  class    name\n",
      "0  350.892212  308.288452  330.650116  334.337158    0.331604      1  drowsy]\n",
      "Objects detected!\n",
      "[      xcenter     ycenter       width      height  confidence  class    name\n",
      "0  378.905548  303.488129  349.634705  353.023743    0.255987      1  drowsy]\n",
      "Objects detected!\n"
     ]
    },
    {
     "name": "stderr",
     "output_type": "stream",
     "text": [
      "C:\\Users\\Rakshitha/.cache\\torch\\hub\\ultralytics_yolov5_master\\models\\common.py:894: FutureWarning: `torch.cuda.amp.autocast(args...)` is deprecated. Please use `torch.amp.autocast('cuda', args...)` instead.\n",
      "  with amp.autocast(autocast):\n",
      "C:\\Users\\Rakshitha/.cache\\torch\\hub\\ultralytics_yolov5_master\\models\\common.py:894: FutureWarning: `torch.cuda.amp.autocast(args...)` is deprecated. Please use `torch.amp.autocast('cuda', args...)` instead.\n",
      "  with amp.autocast(autocast):\n"
     ]
    },
    {
     "name": "stdout",
     "output_type": "stream",
     "text": [
      "[Empty DataFrame\n",
      "Columns: [xcenter, ycenter, width, height, confidence, class, name]\n",
      "Index: []]\n",
      "No objects detected.\n",
      "[      xcenter     ycenter       width     height  confidence  class    name\n",
      "0  452.801941  405.089417  198.401978  131.62915     0.39904      1  drowsy]\n",
      "Objects detected!\n"
     ]
    },
    {
     "name": "stderr",
     "output_type": "stream",
     "text": [
      "C:\\Users\\Rakshitha/.cache\\torch\\hub\\ultralytics_yolov5_master\\models\\common.py:894: FutureWarning: `torch.cuda.amp.autocast(args...)` is deprecated. Please use `torch.amp.autocast('cuda', args...)` instead.\n",
      "  with amp.autocast(autocast):\n",
      "C:\\Users\\Rakshitha/.cache\\torch\\hub\\ultralytics_yolov5_master\\models\\common.py:894: FutureWarning: `torch.cuda.amp.autocast(args...)` is deprecated. Please use `torch.amp.autocast('cuda', args...)` instead.\n",
      "  with amp.autocast(autocast):\n"
     ]
    },
    {
     "name": "stdout",
     "output_type": "stream",
     "text": [
      "[      xcenter     ycenter       width      height  confidence  class    name\n",
      "0  448.006622  400.873291  211.059143  139.361267     0.35696      1  drowsy\n",
      "1  373.168793  278.107513  342.123108  340.934631     0.27180      1  drowsy]\n",
      "Objects detected!\n",
      "[      xcenter     ycenter       width      height  confidence  class    name\n",
      "0  447.930054  402.352295  203.648102  137.273438    0.381841      1  drowsy\n",
      "1   39.506294  146.486588   76.918015  244.069733    0.283481      1  drowsy]\n",
      "Objects detected!\n"
     ]
    },
    {
     "name": "stderr",
     "output_type": "stream",
     "text": [
      "C:\\Users\\Rakshitha/.cache\\torch\\hub\\ultralytics_yolov5_master\\models\\common.py:894: FutureWarning: `torch.cuda.amp.autocast(args...)` is deprecated. Please use `torch.amp.autocast('cuda', args...)` instead.\n",
      "  with amp.autocast(autocast):\n",
      "C:\\Users\\Rakshitha/.cache\\torch\\hub\\ultralytics_yolov5_master\\models\\common.py:894: FutureWarning: `torch.cuda.amp.autocast(args...)` is deprecated. Please use `torch.amp.autocast('cuda', args...)` instead.\n",
      "  with amp.autocast(autocast):\n"
     ]
    },
    {
     "name": "stdout",
     "output_type": "stream",
     "text": [
      "[      xcenter     ycenter       width      height  confidence  class    name\n",
      "0  455.097534  399.136444  208.086792  147.659058    0.530896      1  drowsy\n",
      "1  372.615387  279.293732  325.150330  331.246399    0.295356      1  drowsy]\n",
      "Objects detected!\n",
      "[      xcenter     ycenter       width     height  confidence  class    name\n",
      "0  447.383881  400.646362  205.494446  142.14563    0.428652      1  drowsy\n",
      "1  346.523071  299.691315  331.018799  319.91571    0.257377      1  drowsy]\n",
      "Objects detected!\n"
     ]
    },
    {
     "name": "stderr",
     "output_type": "stream",
     "text": [
      "C:\\Users\\Rakshitha/.cache\\torch\\hub\\ultralytics_yolov5_master\\models\\common.py:894: FutureWarning: `torch.cuda.amp.autocast(args...)` is deprecated. Please use `torch.amp.autocast('cuda', args...)` instead.\n",
      "  with amp.autocast(autocast):\n",
      "C:\\Users\\Rakshitha/.cache\\torch\\hub\\ultralytics_yolov5_master\\models\\common.py:894: FutureWarning: `torch.cuda.amp.autocast(args...)` is deprecated. Please use `torch.amp.autocast('cuda', args...)` instead.\n",
      "  with amp.autocast(autocast):\n"
     ]
    },
    {
     "name": "stdout",
     "output_type": "stream",
     "text": [
      "[      xcenter     ycenter       width      height  confidence  class    name\n",
      "0  449.848145  402.134857  201.972076  138.733459    0.351279      1  drowsy]\n",
      "Objects detected!\n",
      "[      xcenter     ycenter       width      height  confidence  class    name\n",
      "0  446.628784  402.650269  201.149078  138.971375    0.344047      1  drowsy\n",
      "1  344.813141  298.380157  332.969788  320.795715    0.289987      1  drowsy]\n",
      "Objects detected!\n"
     ]
    },
    {
     "name": "stderr",
     "output_type": "stream",
     "text": [
      "C:\\Users\\Rakshitha/.cache\\torch\\hub\\ultralytics_yolov5_master\\models\\common.py:894: FutureWarning: `torch.cuda.amp.autocast(args...)` is deprecated. Please use `torch.amp.autocast('cuda', args...)` instead.\n",
      "  with amp.autocast(autocast):\n",
      "C:\\Users\\Rakshitha/.cache\\torch\\hub\\ultralytics_yolov5_master\\models\\common.py:894: FutureWarning: `torch.cuda.amp.autocast(args...)` is deprecated. Please use `torch.amp.autocast('cuda', args...)` instead.\n",
      "  with amp.autocast(autocast):\n"
     ]
    },
    {
     "name": "stdout",
     "output_type": "stream",
     "text": [
      "[      xcenter     ycenter       width      height  confidence  class    name\n",
      "0  448.488708  399.840698  205.500366  144.210205    0.478291      1  drowsy\n",
      "1  353.197083  280.185760  345.914429  342.231873    0.281489      1  drowsy]\n",
      "Objects detected!\n",
      "[      xcenter     ycenter       width      height  confidence  class    name\n",
      "0  449.105042  400.293610  205.204834  145.416565    0.469907      1  drowsy\n",
      "1  344.536011  298.919403  329.297363  320.173157    0.253724      1  drowsy]\n",
      "Objects detected!\n"
     ]
    },
    {
     "name": "stderr",
     "output_type": "stream",
     "text": [
      "C:\\Users\\Rakshitha/.cache\\torch\\hub\\ultralytics_yolov5_master\\models\\common.py:894: FutureWarning: `torch.cuda.amp.autocast(args...)` is deprecated. Please use `torch.amp.autocast('cuda', args...)` instead.\n",
      "  with amp.autocast(autocast):\n",
      "C:\\Users\\Rakshitha/.cache\\torch\\hub\\ultralytics_yolov5_master\\models\\common.py:894: FutureWarning: `torch.cuda.amp.autocast(args...)` is deprecated. Please use `torch.amp.autocast('cuda', args...)` instead.\n",
      "  with amp.autocast(autocast):\n"
     ]
    },
    {
     "name": "stdout",
     "output_type": "stream",
     "text": [
      "[      xcenter     ycenter       width      height  confidence  class    name\n",
      "0  449.773254  400.486755  203.631226  135.976135    0.317897      1  drowsy]\n",
      "Objects detected!\n",
      "[      xcenter     ycenter       width      height  confidence  class    name\n",
      "0  451.972870  399.292114  200.659973  143.603455    0.367839      1  drowsy\n",
      "1  346.158264  298.597137  318.948547  306.355469    0.329111      1  drowsy]\n",
      "Objects detected!\n"
     ]
    },
    {
     "name": "stderr",
     "output_type": "stream",
     "text": [
      "C:\\Users\\Rakshitha/.cache\\torch\\hub\\ultralytics_yolov5_master\\models\\common.py:894: FutureWarning: `torch.cuda.amp.autocast(args...)` is deprecated. Please use `torch.amp.autocast('cuda', args...)` instead.\n",
      "  with amp.autocast(autocast):\n",
      "C:\\Users\\Rakshitha/.cache\\torch\\hub\\ultralytics_yolov5_master\\models\\common.py:894: FutureWarning: `torch.cuda.amp.autocast(args...)` is deprecated. Please use `torch.amp.autocast('cuda', args...)` instead.\n",
      "  with amp.autocast(autocast):\n"
     ]
    },
    {
     "name": "stdout",
     "output_type": "stream",
     "text": [
      "[      xcenter     ycenter       width      height  confidence  class    name\n",
      "0  451.406219  401.177063  211.995178  149.719910    0.594645      1  drowsy\n",
      "1  346.648285  299.138641  325.570618  306.597473    0.376042      1  drowsy]\n",
      "Objects detected!\n",
      "[      xcenter     ycenter       width      height  confidence  class    name\n",
      "0  347.820129  298.904053  323.728149  318.872070    0.396394      1  drowsy\n",
      "1  457.942749  402.863159  213.965454  149.803589    0.269275      1  drowsy]\n",
      "Objects detected!\n"
     ]
    },
    {
     "name": "stderr",
     "output_type": "stream",
     "text": [
      "C:\\Users\\Rakshitha/.cache\\torch\\hub\\ultralytics_yolov5_master\\models\\common.py:894: FutureWarning: `torch.cuda.amp.autocast(args...)` is deprecated. Please use `torch.amp.autocast('cuda', args...)` instead.\n",
      "  with amp.autocast(autocast):\n",
      "C:\\Users\\Rakshitha/.cache\\torch\\hub\\ultralytics_yolov5_master\\models\\common.py:894: FutureWarning: `torch.cuda.amp.autocast(args...)` is deprecated. Please use `torch.amp.autocast('cuda', args...)` instead.\n",
      "  with amp.autocast(autocast):\n"
     ]
    },
    {
     "name": "stdout",
     "output_type": "stream",
     "text": [
      "[      xcenter     ycenter       width      height  confidence  class    name\n",
      "0  345.275848  297.986847  320.912537  313.815674    0.422106      1  drowsy\n",
      "1  455.819275  402.949799  203.289307  145.007507    0.337114      1  drowsy]\n",
      "Objects detected!\n",
      "[      xcenter     ycenter       width      height  confidence  class    name\n",
      "0  344.711761  300.410065  319.424866  303.619202    0.517679      1  drowsy\n",
      "1  450.087585  401.967987  201.854401  145.543640    0.450853      1  drowsy]\n",
      "Objects detected!\n"
     ]
    },
    {
     "name": "stderr",
     "output_type": "stream",
     "text": [
      "C:\\Users\\Rakshitha/.cache\\torch\\hub\\ultralytics_yolov5_master\\models\\common.py:894: FutureWarning: `torch.cuda.amp.autocast(args...)` is deprecated. Please use `torch.amp.autocast('cuda', args...)` instead.\n",
      "  with amp.autocast(autocast):\n",
      "C:\\Users\\Rakshitha/.cache\\torch\\hub\\ultralytics_yolov5_master\\models\\common.py:894: FutureWarning: `torch.cuda.amp.autocast(args...)` is deprecated. Please use `torch.amp.autocast('cuda', args...)` instead.\n",
      "  with amp.autocast(autocast):\n"
     ]
    },
    {
     "name": "stdout",
     "output_type": "stream",
     "text": [
      "[      xcenter     ycenter       width      height  confidence  class    name\n",
      "0  449.302826  403.701294  199.893250  143.142334    0.562320      1  drowsy\n",
      "1  342.894440  299.470093  327.364319  306.851318    0.505934      1  drowsy]\n",
      "Objects detected!\n",
      "[      xcenter     ycenter       width      height  confidence  class    name\n",
      "0  451.639679  402.480804  211.113342  151.187073    0.635081      1  drowsy\n",
      "1  348.170654  299.895050  326.178345  302.008911    0.519378      1  drowsy]\n",
      "Objects detected!\n"
     ]
    },
    {
     "name": "stderr",
     "output_type": "stream",
     "text": [
      "C:\\Users\\Rakshitha/.cache\\torch\\hub\\ultralytics_yolov5_master\\models\\common.py:894: FutureWarning: `torch.cuda.amp.autocast(args...)` is deprecated. Please use `torch.amp.autocast('cuda', args...)` instead.\n",
      "  with amp.autocast(autocast):\n",
      "C:\\Users\\Rakshitha/.cache\\torch\\hub\\ultralytics_yolov5_master\\models\\common.py:894: FutureWarning: `torch.cuda.amp.autocast(args...)` is deprecated. Please use `torch.amp.autocast('cuda', args...)` instead.\n",
      "  with amp.autocast(autocast):\n"
     ]
    },
    {
     "name": "stdout",
     "output_type": "stream",
     "text": [
      "[      xcenter     ycenter       width      height  confidence  class    name\n",
      "0  458.688538  400.529205  210.248413  148.985657    0.431595      1  drowsy\n",
      "1  343.810486  300.445404  319.936646  314.497620    0.402515      1  drowsy]\n",
      "Objects detected!\n",
      "[      xcenter     ycenter       width      height  confidence  class    name\n",
      "0  452.363953  402.242523  209.597748  146.892761    0.554115      1  drowsy\n",
      "1  346.386963  297.713104  330.960571  306.501282    0.408957      1  drowsy]\n",
      "Objects detected!\n"
     ]
    },
    {
     "name": "stderr",
     "output_type": "stream",
     "text": [
      "C:\\Users\\Rakshitha/.cache\\torch\\hub\\ultralytics_yolov5_master\\models\\common.py:894: FutureWarning: `torch.cuda.amp.autocast(args...)` is deprecated. Please use `torch.amp.autocast('cuda', args...)` instead.\n",
      "  with amp.autocast(autocast):\n",
      "C:\\Users\\Rakshitha/.cache\\torch\\hub\\ultralytics_yolov5_master\\models\\common.py:894: FutureWarning: `torch.cuda.amp.autocast(args...)` is deprecated. Please use `torch.amp.autocast('cuda', args...)` instead.\n",
      "  with amp.autocast(autocast):\n"
     ]
    },
    {
     "name": "stdout",
     "output_type": "stream",
     "text": [
      "[      xcenter     ycenter       width      height  confidence  class    name\n",
      "0  455.161133  401.331055  206.177612  150.143799    0.551518      1  drowsy\n",
      "1  344.733765  298.921448  317.655396  315.660339    0.392707      1  drowsy]\n",
      "Objects detected!\n",
      "[      xcenter     ycenter       width      height  confidence  class    name\n",
      "0  452.918427  398.706146  219.170105  150.175476    0.427632      1  drowsy\n",
      "1  342.965210  296.777130  330.000366  320.207275    0.371944      1  drowsy]\n",
      "Objects detected!\n"
     ]
    },
    {
     "name": "stderr",
     "output_type": "stream",
     "text": [
      "C:\\Users\\Rakshitha/.cache\\torch\\hub\\ultralytics_yolov5_master\\models\\common.py:894: FutureWarning: `torch.cuda.amp.autocast(args...)` is deprecated. Please use `torch.amp.autocast('cuda', args...)` instead.\n",
      "  with amp.autocast(autocast):\n",
      "C:\\Users\\Rakshitha/.cache\\torch\\hub\\ultralytics_yolov5_master\\models\\common.py:894: FutureWarning: `torch.cuda.amp.autocast(args...)` is deprecated. Please use `torch.amp.autocast('cuda', args...)` instead.\n",
      "  with amp.autocast(autocast):\n"
     ]
    },
    {
     "name": "stdout",
     "output_type": "stream",
     "text": [
      "[      xcenter     ycenter       width      height  confidence  class    name\n",
      "0  454.298431  400.123260  215.742859  144.298645    0.448799      1  drowsy\n",
      "1  346.951904  283.151306  330.978790  361.573792    0.292560      1  drowsy]\n",
      "Objects detected!\n",
      "[      xcenter     ycenter       width      height  confidence  class    name\n",
      "0  457.410706  401.878052  217.391724  142.334839    0.481909      1  drowsy\n",
      "1  342.715851  297.101654  318.758118  315.093811    0.313634      1  drowsy]\n",
      "Objects detected!\n"
     ]
    },
    {
     "name": "stderr",
     "output_type": "stream",
     "text": [
      "C:\\Users\\Rakshitha/.cache\\torch\\hub\\ultralytics_yolov5_master\\models\\common.py:894: FutureWarning: `torch.cuda.amp.autocast(args...)` is deprecated. Please use `torch.amp.autocast('cuda', args...)` instead.\n",
      "  with amp.autocast(autocast):\n",
      "C:\\Users\\Rakshitha/.cache\\torch\\hub\\ultralytics_yolov5_master\\models\\common.py:894: FutureWarning: `torch.cuda.amp.autocast(args...)` is deprecated. Please use `torch.amp.autocast('cuda', args...)` instead.\n",
      "  with amp.autocast(autocast):\n"
     ]
    },
    {
     "name": "stdout",
     "output_type": "stream",
     "text": [
      "[      xcenter     ycenter       width      height  confidence  class    name\n",
      "0  457.290955  398.281464  211.307739  151.204651    0.474382      1  drowsy\n",
      "1  346.615173  277.228638  317.113953  322.346680    0.321284      1  drowsy]\n",
      "Objects detected!\n",
      "[      xcenter     ycenter       width      height  confidence  class    name\n",
      "0  454.711853  395.813782  215.614960  148.265381    0.472401      1  drowsy\n",
      "1  345.281311  275.586182  330.924316  331.240845    0.283840      1  drowsy]\n",
      "Objects detected!\n"
     ]
    },
    {
     "name": "stderr",
     "output_type": "stream",
     "text": [
      "C:\\Users\\Rakshitha/.cache\\torch\\hub\\ultralytics_yolov5_master\\models\\common.py:894: FutureWarning: `torch.cuda.amp.autocast(args...)` is deprecated. Please use `torch.amp.autocast('cuda', args...)` instead.\n",
      "  with amp.autocast(autocast):\n",
      "C:\\Users\\Rakshitha/.cache\\torch\\hub\\ultralytics_yolov5_master\\models\\common.py:894: FutureWarning: `torch.cuda.amp.autocast(args...)` is deprecated. Please use `torch.amp.autocast('cuda', args...)` instead.\n",
      "  with amp.autocast(autocast):\n",
      "C:\\Users\\Rakshitha/.cache\\torch\\hub\\ultralytics_yolov5_master\\models\\common.py:894: FutureWarning: `torch.cuda.amp.autocast(args...)` is deprecated. Please use `torch.amp.autocast('cuda', args...)` instead.\n",
      "  with amp.autocast(autocast):\n"
     ]
    },
    {
     "name": "stdout",
     "output_type": "stream",
     "text": [
      "[      xcenter     ycenter       width      height  confidence  class    name\n",
      "0  455.922485  395.898956  221.480194  147.472412    0.507252      1  drowsy\n",
      "1  346.055115  273.547241  312.462524  316.520996    0.406555      1  drowsy]\n",
      "Objects detected!\n",
      "[      xcenter     ycenter       width      height  confidence  class    name\n",
      "0  346.582764  273.745819  318.812622  330.681335    0.317028      1  drowsy\n",
      "1  446.224548  397.007385  212.303802  162.091919    0.299987      1  drowsy]\n",
      "Objects detected!\n"
     ]
    },
    {
     "name": "stderr",
     "output_type": "stream",
     "text": [
      "C:\\Users\\Rakshitha/.cache\\torch\\hub\\ultralytics_yolov5_master\\models\\common.py:894: FutureWarning: `torch.cuda.amp.autocast(args...)` is deprecated. Please use `torch.amp.autocast('cuda', args...)` instead.\n",
      "  with amp.autocast(autocast):\n",
      "C:\\Users\\Rakshitha/.cache\\torch\\hub\\ultralytics_yolov5_master\\models\\common.py:894: FutureWarning: `torch.cuda.amp.autocast(args...)` is deprecated. Please use `torch.amp.autocast('cuda', args...)` instead.\n",
      "  with amp.autocast(autocast):\n"
     ]
    },
    {
     "name": "stdout",
     "output_type": "stream",
     "text": [
      "[      xcenter     ycenter       width      height  confidence  class    name\n",
      "0  347.374420  275.655487  324.710266  321.692139    0.345968      1  drowsy\n",
      "1  454.678802  396.713318  216.327332  150.126709    0.324933      1  drowsy]\n",
      "Objects detected!\n",
      "[      xcenter     ycenter       width      height  confidence  class    name\n",
      "0  456.625854  394.938782  211.294891  144.578857    0.295931      1  drowsy\n",
      "1  344.916382  275.110077  341.372314  352.380920    0.266310      1  drowsy]\n",
      "Objects detected!\n"
     ]
    },
    {
     "name": "stderr",
     "output_type": "stream",
     "text": [
      "C:\\Users\\Rakshitha/.cache\\torch\\hub\\ultralytics_yolov5_master\\models\\common.py:894: FutureWarning: `torch.cuda.amp.autocast(args...)` is deprecated. Please use `torch.amp.autocast('cuda', args...)` instead.\n",
      "  with amp.autocast(autocast):\n",
      "C:\\Users\\Rakshitha/.cache\\torch\\hub\\ultralytics_yolov5_master\\models\\common.py:894: FutureWarning: `torch.cuda.amp.autocast(args...)` is deprecated. Please use `torch.amp.autocast('cuda', args...)` instead.\n",
      "  with amp.autocast(autocast):\n"
     ]
    },
    {
     "name": "stdout",
     "output_type": "stream",
     "text": [
      "[      xcenter     ycenter       width      height  confidence  class    name\n",
      "0  455.727661  396.596985  210.600464  148.382935    0.397197      1  drowsy\n",
      "1  342.572784  277.388977  335.020691  347.439270    0.254377      1  drowsy]\n",
      "Objects detected!\n",
      "[      xcenter     ycenter       width      height  confidence  class    name\n",
      "0  455.445129  397.629761  219.057953  148.684387    0.324484      1  drowsy\n",
      "1  346.084290  275.377716  321.973267  328.020691    0.268749      1  drowsy]\n",
      "Objects detected!\n"
     ]
    },
    {
     "name": "stderr",
     "output_type": "stream",
     "text": [
      "C:\\Users\\Rakshitha/.cache\\torch\\hub\\ultralytics_yolov5_master\\models\\common.py:894: FutureWarning: `torch.cuda.amp.autocast(args...)` is deprecated. Please use `torch.amp.autocast('cuda', args...)` instead.\n",
      "  with amp.autocast(autocast):\n",
      "C:\\Users\\Rakshitha/.cache\\torch\\hub\\ultralytics_yolov5_master\\models\\common.py:894: FutureWarning: `torch.cuda.amp.autocast(args...)` is deprecated. Please use `torch.amp.autocast('cuda', args...)` instead.\n",
      "  with amp.autocast(autocast):\n"
     ]
    },
    {
     "name": "stdout",
     "output_type": "stream",
     "text": [
      "[      xcenter     ycenter       width      height  confidence  class    name\n",
      "0  459.266724  396.445709  206.033203  148.898499    0.348914      1  drowsy\n",
      "1  343.517883  274.473694  308.019287  324.260132    0.271709      1  drowsy]\n",
      "Objects detected!\n",
      "[      xcenter     ycenter       width      height  confidence  class    name\n",
      "0  456.471863  397.041687  220.340485  150.122742    0.427067      1  drowsy]\n",
      "Objects detected!\n"
     ]
    },
    {
     "name": "stderr",
     "output_type": "stream",
     "text": [
      "C:\\Users\\Rakshitha/.cache\\torch\\hub\\ultralytics_yolov5_master\\models\\common.py:894: FutureWarning: `torch.cuda.amp.autocast(args...)` is deprecated. Please use `torch.amp.autocast('cuda', args...)` instead.\n",
      "  with amp.autocast(autocast):\n",
      "C:\\Users\\Rakshitha/.cache\\torch\\hub\\ultralytics_yolov5_master\\models\\common.py:894: FutureWarning: `torch.cuda.amp.autocast(args...)` is deprecated. Please use `torch.amp.autocast('cuda', args...)` instead.\n",
      "  with amp.autocast(autocast):\n"
     ]
    },
    {
     "name": "stdout",
     "output_type": "stream",
     "text": [
      "[      xcenter     ycenter       width      height  confidence  class    name\n",
      "0  458.946960  397.429382  223.145264  149.777649    0.459700      1  drowsy\n",
      "1  344.885223  274.493042  328.518250  322.618042    0.339114      1  drowsy]\n",
      "Objects detected!\n",
      "[Empty DataFrame\n",
      "Columns: [xcenter, ycenter, width, height, confidence, class, name]\n",
      "Index: []]\n",
      "No objects detected.\n"
     ]
    },
    {
     "name": "stderr",
     "output_type": "stream",
     "text": [
      "C:\\Users\\Rakshitha/.cache\\torch\\hub\\ultralytics_yolov5_master\\models\\common.py:894: FutureWarning: `torch.cuda.amp.autocast(args...)` is deprecated. Please use `torch.amp.autocast('cuda', args...)` instead.\n",
      "  with amp.autocast(autocast):\n",
      "C:\\Users\\Rakshitha/.cache\\torch\\hub\\ultralytics_yolov5_master\\models\\common.py:894: FutureWarning: `torch.cuda.amp.autocast(args...)` is deprecated. Please use `torch.amp.autocast('cuda', args...)` instead.\n",
      "  with amp.autocast(autocast):\n"
     ]
    },
    {
     "name": "stdout",
     "output_type": "stream",
     "text": [
      "[      xcenter     ycenter       width      height  confidence  class    name\n",
      "0  462.868256  400.606445  216.364319  148.280457    0.280383      1  drowsy]\n",
      "Objects detected!\n",
      "[Empty DataFrame\n",
      "Columns: [xcenter, ycenter, width, height, confidence, class, name]\n",
      "Index: []]\n",
      "No objects detected.\n"
     ]
    },
    {
     "name": "stderr",
     "output_type": "stream",
     "text": [
      "C:\\Users\\Rakshitha/.cache\\torch\\hub\\ultralytics_yolov5_master\\models\\common.py:894: FutureWarning: `torch.cuda.amp.autocast(args...)` is deprecated. Please use `torch.amp.autocast('cuda', args...)` instead.\n",
      "  with amp.autocast(autocast):\n"
     ]
    },
    {
     "name": "stdout",
     "output_type": "stream",
     "text": [
      "[      xcenter     ycenter       width      height  confidence  class    name\n",
      "0  349.086304  278.834991  330.719208  344.926453    0.407474      1  drowsy]\n",
      "Objects detected!\n",
      "[      xcenter     ycenter       width      height  confidence  class    name\n",
      "0  466.379364  400.400269  226.145813  152.318970    0.373877      1  drowsy\n",
      "1  351.399170  278.364258  343.118866  334.591125    0.346054      1  drowsy]\n",
      "Objects detected!\n"
     ]
    },
    {
     "name": "stderr",
     "output_type": "stream",
     "text": [
      "C:\\Users\\Rakshitha/.cache\\torch\\hub\\ultralytics_yolov5_master\\models\\common.py:894: FutureWarning: `torch.cuda.amp.autocast(args...)` is deprecated. Please use `torch.amp.autocast('cuda', args...)` instead.\n",
      "  with amp.autocast(autocast):\n",
      "C:\\Users\\Rakshitha/.cache\\torch\\hub\\ultralytics_yolov5_master\\models\\common.py:894: FutureWarning: `torch.cuda.amp.autocast(args...)` is deprecated. Please use `torch.amp.autocast('cuda', args...)` instead.\n",
      "  with amp.autocast(autocast):\n"
     ]
    },
    {
     "name": "stdout",
     "output_type": "stream",
     "text": [
      "[      xcenter     ycenter       width      height  confidence  class    name\n",
      "0  344.910797  299.362762  317.108215  304.766418    0.309883      1  drowsy\n",
      "1  465.291931  400.317047  224.458740  150.680725    0.308349      1  drowsy]\n",
      "Objects detected!\n",
      "[      xcenter     ycenter       width      height  confidence  class    name\n",
      "0  466.882294  400.760132  225.348450  158.439575    0.526137      1  drowsy\n",
      "1  351.620056  279.125885  329.243164  322.266602    0.379013      1  drowsy\n",
      "2  273.471069  400.604614  234.109436  151.836304    0.251887      1  drowsy]\n",
      "Objects detected!\n"
     ]
    },
    {
     "name": "stderr",
     "output_type": "stream",
     "text": [
      "C:\\Users\\Rakshitha/.cache\\torch\\hub\\ultralytics_yolov5_master\\models\\common.py:894: FutureWarning: `torch.cuda.amp.autocast(args...)` is deprecated. Please use `torch.amp.autocast('cuda', args...)` instead.\n",
      "  with amp.autocast(autocast):\n",
      "C:\\Users\\Rakshitha/.cache\\torch\\hub\\ultralytics_yolov5_master\\models\\common.py:894: FutureWarning: `torch.cuda.amp.autocast(args...)` is deprecated. Please use `torch.amp.autocast('cuda', args...)` instead.\n",
      "  with amp.autocast(autocast):\n"
     ]
    },
    {
     "name": "stdout",
     "output_type": "stream",
     "text": [
      "[Empty DataFrame\n",
      "Columns: [xcenter, ycenter, width, height, confidence, class, name]\n",
      "Index: []]\n",
      "No objects detected.\n",
      "[Empty DataFrame\n",
      "Columns: [xcenter, ycenter, width, height, confidence, class, name]\n",
      "Index: []]\n",
      "No objects detected.\n"
     ]
    },
    {
     "name": "stderr",
     "output_type": "stream",
     "text": [
      "C:\\Users\\Rakshitha/.cache\\torch\\hub\\ultralytics_yolov5_master\\models\\common.py:894: FutureWarning: `torch.cuda.amp.autocast(args...)` is deprecated. Please use `torch.amp.autocast('cuda', args...)` instead.\n",
      "  with amp.autocast(autocast):\n",
      "C:\\Users\\Rakshitha/.cache\\torch\\hub\\ultralytics_yolov5_master\\models\\common.py:894: FutureWarning: `torch.cuda.amp.autocast(args...)` is deprecated. Please use `torch.amp.autocast('cuda', args...)` instead.\n",
      "  with amp.autocast(autocast):\n"
     ]
    },
    {
     "name": "stdout",
     "output_type": "stream",
     "text": [
      "[      xcenter     ycenter       width      height  confidence  class    name\n",
      "0  350.351562  278.247711  309.652832  308.683899    0.274166      1  drowsy]\n",
      "Objects detected!\n",
      "[Empty DataFrame\n",
      "Columns: [xcenter, ycenter, width, height, confidence, class, name]\n",
      "Index: []]\n",
      "No objects detected.\n"
     ]
    },
    {
     "name": "stderr",
     "output_type": "stream",
     "text": [
      "C:\\Users\\Rakshitha/.cache\\torch\\hub\\ultralytics_yolov5_master\\models\\common.py:894: FutureWarning: `torch.cuda.amp.autocast(args...)` is deprecated. Please use `torch.amp.autocast('cuda', args...)` instead.\n",
      "  with amp.autocast(autocast):\n",
      "C:\\Users\\Rakshitha/.cache\\torch\\hub\\ultralytics_yolov5_master\\models\\common.py:894: FutureWarning: `torch.cuda.amp.autocast(args...)` is deprecated. Please use `torch.amp.autocast('cuda', args...)` instead.\n",
      "  with amp.autocast(autocast):\n"
     ]
    },
    {
     "name": "stdout",
     "output_type": "stream",
     "text": [
      "[      xcenter     ycenter       width      height  confidence  class    name\n",
      "0  473.757416  400.797852  223.952209  146.534912    0.325648      1  drowsy]\n",
      "Objects detected!\n",
      "[Empty DataFrame\n",
      "Columns: [xcenter, ycenter, width, height, confidence, class, name]\n",
      "Index: []]\n",
      "No objects detected.\n"
     ]
    },
    {
     "name": "stderr",
     "output_type": "stream",
     "text": [
      "C:\\Users\\Rakshitha/.cache\\torch\\hub\\ultralytics_yolov5_master\\models\\common.py:894: FutureWarning: `torch.cuda.amp.autocast(args...)` is deprecated. Please use `torch.amp.autocast('cuda', args...)` instead.\n",
      "  with amp.autocast(autocast):\n",
      "C:\\Users\\Rakshitha/.cache\\torch\\hub\\ultralytics_yolov5_master\\models\\common.py:894: FutureWarning: `torch.cuda.amp.autocast(args...)` is deprecated. Please use `torch.amp.autocast('cuda', args...)` instead.\n",
      "  with amp.autocast(autocast):\n"
     ]
    },
    {
     "name": "stdout",
     "output_type": "stream",
     "text": [
      "[      xcenter     ycenter       width      height  confidence  class    name\n",
      "0  351.512909  275.711456  323.031555  310.590149    0.387510      1  drowsy\n",
      "1  463.212036  397.800507  219.083038  151.488770    0.370586      1  drowsy\n",
      "2  275.112518  399.640228  225.641663  141.585510    0.314605      1  drowsy]\n",
      "Objects detected!\n",
      "[      xcenter     ycenter       width      height  confidence  class    name\n",
      "0  459.672852  401.261932  216.095093  142.670898    0.394357      1  drowsy\n",
      "1  338.448975  297.110657  325.694763  314.371338    0.373716      1  drowsy]\n",
      "Objects detected!\n"
     ]
    },
    {
     "name": "stderr",
     "output_type": "stream",
     "text": [
      "C:\\Users\\Rakshitha/.cache\\torch\\hub\\ultralytics_yolov5_master\\models\\common.py:894: FutureWarning: `torch.cuda.amp.autocast(args...)` is deprecated. Please use `torch.amp.autocast('cuda', args...)` instead.\n",
      "  with amp.autocast(autocast):\n",
      "C:\\Users\\Rakshitha/.cache\\torch\\hub\\ultralytics_yolov5_master\\models\\common.py:894: FutureWarning: `torch.cuda.amp.autocast(args...)` is deprecated. Please use `torch.amp.autocast('cuda', args...)` instead.\n",
      "  with amp.autocast(autocast):\n"
     ]
    },
    {
     "name": "stdout",
     "output_type": "stream",
     "text": [
      "[     xcenter     ycenter       width      height  confidence  class    name\n",
      "0  466.66272  399.326904  217.425507  159.469238    0.308757      1  drowsy]\n",
      "Objects detected!\n",
      "[Empty DataFrame\n",
      "Columns: [xcenter, ycenter, width, height, confidence, class, name]\n",
      "Index: []]\n",
      "No objects detected.\n"
     ]
    },
    {
     "name": "stderr",
     "output_type": "stream",
     "text": [
      "C:\\Users\\Rakshitha/.cache\\torch\\hub\\ultralytics_yolov5_master\\models\\common.py:894: FutureWarning: `torch.cuda.amp.autocast(args...)` is deprecated. Please use `torch.amp.autocast('cuda', args...)` instead.\n",
      "  with amp.autocast(autocast):\n",
      "C:\\Users\\Rakshitha/.cache\\torch\\hub\\ultralytics_yolov5_master\\models\\common.py:894: FutureWarning: `torch.cuda.amp.autocast(args...)` is deprecated. Please use `torch.amp.autocast('cuda', args...)` instead.\n",
      "  with amp.autocast(autocast):\n"
     ]
    },
    {
     "name": "stdout",
     "output_type": "stream",
     "text": [
      "[Empty DataFrame\n",
      "Columns: [xcenter, ycenter, width, height, confidence, class, name]\n",
      "Index: []]\n",
      "No objects detected.\n",
      "[      xcenter     ycenter       width      height  confidence  class    name\n",
      "0  349.037781  277.091309  336.679779  322.247314    0.254249      1  drowsy]\n",
      "Objects detected!\n"
     ]
    },
    {
     "name": "stderr",
     "output_type": "stream",
     "text": [
      "C:\\Users\\Rakshitha/.cache\\torch\\hub\\ultralytics_yolov5_master\\models\\common.py:894: FutureWarning: `torch.cuda.amp.autocast(args...)` is deprecated. Please use `torch.amp.autocast('cuda', args...)` instead.\n",
      "  with amp.autocast(autocast):\n",
      "C:\\Users\\Rakshitha/.cache\\torch\\hub\\ultralytics_yolov5_master\\models\\common.py:894: FutureWarning: `torch.cuda.amp.autocast(args...)` is deprecated. Please use `torch.amp.autocast('cuda', args...)` instead.\n",
      "  with amp.autocast(autocast):\n"
     ]
    },
    {
     "name": "stdout",
     "output_type": "stream",
     "text": [
      "[Empty DataFrame\n",
      "Columns: [xcenter, ycenter, width, height, confidence, class, name]\n",
      "Index: []]\n",
      "No objects detected.\n",
      "[Empty DataFrame\n",
      "Columns: [xcenter, ycenter, width, height, confidence, class, name]\n",
      "Index: []]\n",
      "No objects detected.\n"
     ]
    },
    {
     "name": "stderr",
     "output_type": "stream",
     "text": [
      "C:\\Users\\Rakshitha/.cache\\torch\\hub\\ultralytics_yolov5_master\\models\\common.py:894: FutureWarning: `torch.cuda.amp.autocast(args...)` is deprecated. Please use `torch.amp.autocast('cuda', args...)` instead.\n",
      "  with amp.autocast(autocast):\n",
      "C:\\Users\\Rakshitha/.cache\\torch\\hub\\ultralytics_yolov5_master\\models\\common.py:894: FutureWarning: `torch.cuda.amp.autocast(args...)` is deprecated. Please use `torch.amp.autocast('cuda', args...)` instead.\n",
      "  with amp.autocast(autocast):\n"
     ]
    },
    {
     "name": "stdout",
     "output_type": "stream",
     "text": [
      "[Empty DataFrame\n",
      "Columns: [xcenter, ycenter, width, height, confidence, class, name]\n",
      "Index: []]\n",
      "No objects detected.\n",
      "[Empty DataFrame\n",
      "Columns: [xcenter, ycenter, width, height, confidence, class, name]\n",
      "Index: []]\n",
      "No objects detected.\n"
     ]
    },
    {
     "name": "stderr",
     "output_type": "stream",
     "text": [
      "C:\\Users\\Rakshitha/.cache\\torch\\hub\\ultralytics_yolov5_master\\models\\common.py:894: FutureWarning: `torch.cuda.amp.autocast(args...)` is deprecated. Please use `torch.amp.autocast('cuda', args...)` instead.\n",
      "  with amp.autocast(autocast):\n",
      "C:\\Users\\Rakshitha/.cache\\torch\\hub\\ultralytics_yolov5_master\\models\\common.py:894: FutureWarning: `torch.cuda.amp.autocast(args...)` is deprecated. Please use `torch.amp.autocast('cuda', args...)` instead.\n",
      "  with amp.autocast(autocast):\n"
     ]
    },
    {
     "name": "stdout",
     "output_type": "stream",
     "text": [
      "[      xcenter     ycenter       width      height  confidence  class    name\n",
      "0  465.155579  396.689484  224.069244  154.134033    0.434457      1  drowsy]\n",
      "Objects detected!\n",
      "[Empty DataFrame\n",
      "Columns: [xcenter, ycenter, width, height, confidence, class, name]\n",
      "Index: []]\n",
      "No objects detected.\n"
     ]
    },
    {
     "name": "stderr",
     "output_type": "stream",
     "text": [
      "C:\\Users\\Rakshitha/.cache\\torch\\hub\\ultralytics_yolov5_master\\models\\common.py:894: FutureWarning: `torch.cuda.amp.autocast(args...)` is deprecated. Please use `torch.amp.autocast('cuda', args...)` instead.\n",
      "  with amp.autocast(autocast):\n",
      "C:\\Users\\Rakshitha/.cache\\torch\\hub\\ultralytics_yolov5_master\\models\\common.py:894: FutureWarning: `torch.cuda.amp.autocast(args...)` is deprecated. Please use `torch.amp.autocast('cuda', args...)` instead.\n",
      "  with amp.autocast(autocast):\n"
     ]
    },
    {
     "name": "stdout",
     "output_type": "stream",
     "text": [
      "[Empty DataFrame\n",
      "Columns: [xcenter, ycenter, width, height, confidence, class, name]\n",
      "Index: []]\n",
      "No objects detected.\n",
      "[Empty DataFrame\n",
      "Columns: [xcenter, ycenter, width, height, confidence, class, name]\n",
      "Index: []]\n",
      "No objects detected.\n"
     ]
    },
    {
     "name": "stderr",
     "output_type": "stream",
     "text": [
      "C:\\Users\\Rakshitha/.cache\\torch\\hub\\ultralytics_yolov5_master\\models\\common.py:894: FutureWarning: `torch.cuda.amp.autocast(args...)` is deprecated. Please use `torch.amp.autocast('cuda', args...)` instead.\n",
      "  with amp.autocast(autocast):\n",
      "C:\\Users\\Rakshitha/.cache\\torch\\hub\\ultralytics_yolov5_master\\models\\common.py:894: FutureWarning: `torch.cuda.amp.autocast(args...)` is deprecated. Please use `torch.amp.autocast('cuda', args...)` instead.\n",
      "  with amp.autocast(autocast):\n"
     ]
    },
    {
     "name": "stdout",
     "output_type": "stream",
     "text": [
      "[      xcenter     ycenter       width      height  confidence  class    name\n",
      "0  471.067688  397.438416  222.705719  163.336243    0.620850      1  drowsy\n",
      "1  371.440491  270.375244  330.191284  307.118652    0.294347      1  drowsy]\n",
      "Objects detected!\n",
      "[      xcenter     ycenter       width      height  confidence  class    name\n",
      "0  471.093475  397.506012  237.813538  156.757202    0.535119      1  drowsy\n",
      "1  373.534119  273.906433  338.999878  306.723389    0.316186      1  drowsy]\n",
      "Objects detected!\n"
     ]
    },
    {
     "name": "stderr",
     "output_type": "stream",
     "text": [
      "C:\\Users\\Rakshitha/.cache\\torch\\hub\\ultralytics_yolov5_master\\models\\common.py:894: FutureWarning: `torch.cuda.amp.autocast(args...)` is deprecated. Please use `torch.amp.autocast('cuda', args...)` instead.\n",
      "  with amp.autocast(autocast):\n",
      "C:\\Users\\Rakshitha/.cache\\torch\\hub\\ultralytics_yolov5_master\\models\\common.py:894: FutureWarning: `torch.cuda.amp.autocast(args...)` is deprecated. Please use `torch.amp.autocast('cuda', args...)` instead.\n",
      "  with amp.autocast(autocast):\n"
     ]
    },
    {
     "name": "stdout",
     "output_type": "stream",
     "text": [
      "[      xcenter    ycenter       width      height  confidence  class    name\n",
      "0  476.758667  397.79538  220.417572  155.921753    0.324779      1  drowsy]\n",
      "Objects detected!\n",
      "[Empty DataFrame\n",
      "Columns: [xcenter, ycenter, width, height, confidence, class, name]\n",
      "Index: []]\n",
      "No objects detected.\n"
     ]
    },
    {
     "name": "stderr",
     "output_type": "stream",
     "text": [
      "C:\\Users\\Rakshitha/.cache\\torch\\hub\\ultralytics_yolov5_master\\models\\common.py:894: FutureWarning: `torch.cuda.amp.autocast(args...)` is deprecated. Please use `torch.amp.autocast('cuda', args...)` instead.\n",
      "  with amp.autocast(autocast):\n",
      "C:\\Users\\Rakshitha/.cache\\torch\\hub\\ultralytics_yolov5_master\\models\\common.py:894: FutureWarning: `torch.cuda.amp.autocast(args...)` is deprecated. Please use `torch.amp.autocast('cuda', args...)` instead.\n",
      "  with amp.autocast(autocast):\n",
      "C:\\Users\\Rakshitha/.cache\\torch\\hub\\ultralytics_yolov5_master\\models\\common.py:894: FutureWarning: `torch.cuda.amp.autocast(args...)` is deprecated. Please use `torch.amp.autocast('cuda', args...)` instead.\n",
      "  with amp.autocast(autocast):\n"
     ]
    },
    {
     "name": "stdout",
     "output_type": "stream",
     "text": [
      "[Empty DataFrame\n",
      "Columns: [xcenter, ycenter, width, height, confidence, class, name]\n",
      "Index: []]\n",
      "No objects detected.\n",
      "[      xcenter     ycenter       width      height  confidence  class    name\n",
      "0  479.512573  399.697693  214.105499  149.040833    0.483894      1  drowsy]\n",
      "Objects detected!\n"
     ]
    },
    {
     "name": "stderr",
     "output_type": "stream",
     "text": [
      "C:\\Users\\Rakshitha/.cache\\torch\\hub\\ultralytics_yolov5_master\\models\\common.py:894: FutureWarning: `torch.cuda.amp.autocast(args...)` is deprecated. Please use `torch.amp.autocast('cuda', args...)` instead.\n",
      "  with amp.autocast(autocast):\n",
      "C:\\Users\\Rakshitha/.cache\\torch\\hub\\ultralytics_yolov5_master\\models\\common.py:894: FutureWarning: `torch.cuda.amp.autocast(args...)` is deprecated. Please use `torch.amp.autocast('cuda', args...)` instead.\n",
      "  with amp.autocast(autocast):\n"
     ]
    },
    {
     "name": "stdout",
     "output_type": "stream",
     "text": [
      "[      xcenter     ycenter       width      height  confidence  class    name\n",
      "0  478.729614  398.062897  212.357788  149.353577    0.452306      1  drowsy]\n",
      "Objects detected!\n",
      "[Empty DataFrame\n",
      "Columns: [xcenter, ycenter, width, height, confidence, class, name]\n",
      "Index: []]\n",
      "No objects detected.\n"
     ]
    },
    {
     "name": "stderr",
     "output_type": "stream",
     "text": [
      "C:\\Users\\Rakshitha/.cache\\torch\\hub\\ultralytics_yolov5_master\\models\\common.py:894: FutureWarning: `torch.cuda.amp.autocast(args...)` is deprecated. Please use `torch.amp.autocast('cuda', args...)` instead.\n",
      "  with amp.autocast(autocast):\n",
      "C:\\Users\\Rakshitha/.cache\\torch\\hub\\ultralytics_yolov5_master\\models\\common.py:894: FutureWarning: `torch.cuda.amp.autocast(args...)` is deprecated. Please use `torch.amp.autocast('cuda', args...)` instead.\n",
      "  with amp.autocast(autocast):\n"
     ]
    },
    {
     "name": "stdout",
     "output_type": "stream",
     "text": [
      "[Empty DataFrame\n",
      "Columns: [xcenter, ycenter, width, height, confidence, class, name]\n",
      "Index: []]\n",
      "No objects detected.\n",
      "[Empty DataFrame\n",
      "Columns: [xcenter, ycenter, width, height, confidence, class, name]\n",
      "Index: []]\n",
      "No objects detected.\n"
     ]
    },
    {
     "name": "stderr",
     "output_type": "stream",
     "text": [
      "C:\\Users\\Rakshitha/.cache\\torch\\hub\\ultralytics_yolov5_master\\models\\common.py:894: FutureWarning: `torch.cuda.amp.autocast(args...)` is deprecated. Please use `torch.amp.autocast('cuda', args...)` instead.\n",
      "  with amp.autocast(autocast):\n",
      "C:\\Users\\Rakshitha/.cache\\torch\\hub\\ultralytics_yolov5_master\\models\\common.py:894: FutureWarning: `torch.cuda.amp.autocast(args...)` is deprecated. Please use `torch.amp.autocast('cuda', args...)` instead.\n",
      "  with amp.autocast(autocast):\n"
     ]
    },
    {
     "name": "stdout",
     "output_type": "stream",
     "text": [
      "[Empty DataFrame\n",
      "Columns: [xcenter, ycenter, width, height, confidence, class, name]\n",
      "Index: []]\n",
      "No objects detected.\n",
      "[Empty DataFrame\n",
      "Columns: [xcenter, ycenter, width, height, confidence, class, name]\n",
      "Index: []]\n",
      "No objects detected.\n"
     ]
    },
    {
     "name": "stderr",
     "output_type": "stream",
     "text": [
      "C:\\Users\\Rakshitha/.cache\\torch\\hub\\ultralytics_yolov5_master\\models\\common.py:894: FutureWarning: `torch.cuda.amp.autocast(args...)` is deprecated. Please use `torch.amp.autocast('cuda', args...)` instead.\n",
      "  with amp.autocast(autocast):\n"
     ]
    },
    {
     "name": "stdout",
     "output_type": "stream",
     "text": [
      "[Empty DataFrame\n",
      "Columns: [xcenter, ycenter, width, height, confidence, class, name]\n",
      "Index: []]\n",
      "No objects detected.\n",
      "[Empty DataFrame\n",
      "Columns: [xcenter, ycenter, width, height, confidence, class, name]\n",
      "Index: []]\n",
      "No objects detected.\n"
     ]
    },
    {
     "name": "stderr",
     "output_type": "stream",
     "text": [
      "C:\\Users\\Rakshitha/.cache\\torch\\hub\\ultralytics_yolov5_master\\models\\common.py:894: FutureWarning: `torch.cuda.amp.autocast(args...)` is deprecated. Please use `torch.amp.autocast('cuda', args...)` instead.\n",
      "  with amp.autocast(autocast):\n",
      "C:\\Users\\Rakshitha/.cache\\torch\\hub\\ultralytics_yolov5_master\\models\\common.py:894: FutureWarning: `torch.cuda.amp.autocast(args...)` is deprecated. Please use `torch.amp.autocast('cuda', args...)` instead.\n",
      "  with amp.autocast(autocast):\n"
     ]
    },
    {
     "name": "stdout",
     "output_type": "stream",
     "text": [
      "[      xcenter     ycenter       width      height  confidence  class    name\n",
      "0  430.499298  299.859833  317.583679  291.923401    0.250159      1  drowsy]\n",
      "Objects detected!\n",
      "[      xcenter     ycenter       width      height  confidence  class    name\n",
      "0  409.961975  303.285583  314.635742  266.905396    0.333276      1  drowsy]\n",
      "Objects detected!\n"
     ]
    },
    {
     "name": "stderr",
     "output_type": "stream",
     "text": [
      "C:\\Users\\Rakshitha/.cache\\torch\\hub\\ultralytics_yolov5_master\\models\\common.py:894: FutureWarning: `torch.cuda.amp.autocast(args...)` is deprecated. Please use `torch.amp.autocast('cuda', args...)` instead.\n",
      "  with amp.autocast(autocast):\n",
      "C:\\Users\\Rakshitha/.cache\\torch\\hub\\ultralytics_yolov5_master\\models\\common.py:894: FutureWarning: `torch.cuda.amp.autocast(args...)` is deprecated. Please use `torch.amp.autocast('cuda', args...)` instead.\n",
      "  with amp.autocast(autocast):\n"
     ]
    },
    {
     "name": "stdout",
     "output_type": "stream",
     "text": [
      "[      xcenter     ycenter       width      height  confidence  class    name\n",
      "0  429.744751  298.841522  291.743927  234.368698    0.353219      1  drowsy]\n",
      "Objects detected!\n"
     ]
    },
    {
     "name": "stderr",
     "output_type": "stream",
     "text": [
      "C:\\Users\\Rakshitha/.cache\\torch\\hub\\ultralytics_yolov5_master\\models\\common.py:894: FutureWarning: `torch.cuda.amp.autocast(args...)` is deprecated. Please use `torch.amp.autocast('cuda', args...)` instead.\n",
      "  with amp.autocast(autocast):\n"
     ]
    },
    {
     "name": "stdout",
     "output_type": "stream",
     "text": [
      "[      xcenter     ycenter       width      height  confidence  class    name\n",
      "0  522.927307  325.365509  234.145386  269.942566    0.468716      1  drowsy]\n",
      "Objects detected!\n",
      "[      xcenter     ycenter       width      height  confidence  class    name\n",
      "0  568.137817  398.805481  140.461945  152.744507    0.578587      1  drowsy\n",
      "1  601.422791  270.182495   70.783325  220.974228    0.405963      1  drowsy]\n",
      "Objects detected!\n"
     ]
    },
    {
     "name": "stderr",
     "output_type": "stream",
     "text": [
      "C:\\Users\\Rakshitha/.cache\\torch\\hub\\ultralytics_yolov5_master\\models\\common.py:894: FutureWarning: `torch.cuda.amp.autocast(args...)` is deprecated. Please use `torch.amp.autocast('cuda', args...)` instead.\n",
      "  with amp.autocast(autocast):\n",
      "C:\\Users\\Rakshitha/.cache\\torch\\hub\\ultralytics_yolov5_master\\models\\common.py:894: FutureWarning: `torch.cuda.amp.autocast(args...)` is deprecated. Please use `torch.amp.autocast('cuda', args...)` instead.\n",
      "  with amp.autocast(autocast):\n",
      "C:\\Users\\Rakshitha/.cache\\torch\\hub\\ultralytics_yolov5_master\\models\\common.py:894: FutureWarning: `torch.cuda.amp.autocast(args...)` is deprecated. Please use `torch.amp.autocast('cuda', args...)` instead.\n",
      "  with amp.autocast(autocast):\n"
     ]
    },
    {
     "name": "stdout",
     "output_type": "stream",
     "text": [
      "[      xcenter     ycenter      width      height  confidence  class    name\n",
      "0  599.132629  414.666687  75.622559  126.447266    0.389364      1  drowsy\n",
      "1  602.505859  339.044495  67.910645  241.562881    0.277032      1  drowsy]\n",
      "Objects detected!\n",
      "[Empty DataFrame\n",
      "Columns: [xcenter, ycenter, width, height, confidence, class, name]\n",
      "Index: []]\n",
      "No objects detected.\n"
     ]
    },
    {
     "name": "stderr",
     "output_type": "stream",
     "text": [
      "C:\\Users\\Rakshitha/.cache\\torch\\hub\\ultralytics_yolov5_master\\models\\common.py:894: FutureWarning: `torch.cuda.amp.autocast(args...)` is deprecated. Please use `torch.amp.autocast('cuda', args...)` instead.\n",
      "  with amp.autocast(autocast):\n",
      "C:\\Users\\Rakshitha/.cache\\torch\\hub\\ultralytics_yolov5_master\\models\\common.py:894: FutureWarning: `torch.cuda.amp.autocast(args...)` is deprecated. Please use `torch.amp.autocast('cuda', args...)` instead.\n",
      "  with amp.autocast(autocast):\n"
     ]
    },
    {
     "name": "stdout",
     "output_type": "stream",
     "text": [
      "[Empty DataFrame\n",
      "Columns: [xcenter, ycenter, width, height, confidence, class, name]\n",
      "Index: []]\n",
      "No objects detected.\n",
      "[Empty DataFrame\n",
      "Columns: [xcenter, ycenter, width, height, confidence, class, name]\n",
      "Index: []]\n",
      "No objects detected.\n"
     ]
    },
    {
     "name": "stderr",
     "output_type": "stream",
     "text": [
      "C:\\Users\\Rakshitha/.cache\\torch\\hub\\ultralytics_yolov5_master\\models\\common.py:894: FutureWarning: `torch.cuda.amp.autocast(args...)` is deprecated. Please use `torch.amp.autocast('cuda', args...)` instead.\n",
      "  with amp.autocast(autocast):\n",
      "C:\\Users\\Rakshitha/.cache\\torch\\hub\\ultralytics_yolov5_master\\models\\common.py:894: FutureWarning: `torch.cuda.amp.autocast(args...)` is deprecated. Please use `torch.amp.autocast('cuda', args...)` instead.\n",
      "  with amp.autocast(autocast):\n"
     ]
    },
    {
     "name": "stdout",
     "output_type": "stream",
     "text": [
      "[Empty DataFrame\n",
      "Columns: [xcenter, ycenter, width, height, confidence, class, name]\n",
      "Index: []]\n",
      "No objects detected.\n",
      "[Empty DataFrame\n",
      "Columns: [xcenter, ycenter, width, height, confidence, class, name]\n",
      "Index: []]\n",
      "No objects detected.\n"
     ]
    },
    {
     "name": "stderr",
     "output_type": "stream",
     "text": [
      "C:\\Users\\Rakshitha/.cache\\torch\\hub\\ultralytics_yolov5_master\\models\\common.py:894: FutureWarning: `torch.cuda.amp.autocast(args...)` is deprecated. Please use `torch.amp.autocast('cuda', args...)` instead.\n",
      "  with amp.autocast(autocast):\n",
      "C:\\Users\\Rakshitha/.cache\\torch\\hub\\ultralytics_yolov5_master\\models\\common.py:894: FutureWarning: `torch.cuda.amp.autocast(args...)` is deprecated. Please use `torch.amp.autocast('cuda', args...)` instead.\n",
      "  with amp.autocast(autocast):\n"
     ]
    },
    {
     "name": "stdout",
     "output_type": "stream",
     "text": [
      "[      xcenter     ycenter       width     height  confidence  class   name\n",
      "0  573.270813  439.535522  132.732544  80.928955    0.614296      0  awake]\n",
      "Objects detected!\n",
      "[      xcenter     ycenter       width     height  confidence  class    name\n",
      "0  581.940186  444.754517  116.058105  70.490997    0.535079      0   awake\n",
      "1  580.501953  442.687439  118.996155  69.971863    0.409096      1  drowsy]\n",
      "Objects detected!\n"
     ]
    },
    {
     "name": "stderr",
     "output_type": "stream",
     "text": [
      "C:\\Users\\Rakshitha/.cache\\torch\\hub\\ultralytics_yolov5_master\\models\\common.py:894: FutureWarning: `torch.cuda.amp.autocast(args...)` is deprecated. Please use `torch.amp.autocast('cuda', args...)` instead.\n",
      "  with amp.autocast(autocast):\n"
     ]
    },
    {
     "name": "stdout",
     "output_type": "stream",
     "text": [
      "[      xcenter    ycenter       width     height  confidence  class   name\n",
      "0  584.960876  447.78064  106.915894  58.532715    0.579586      0  awake]\n",
      "Objects detected!\n",
      "[      xcenter     ycenter       width      height  confidence  class    name\n",
      "0  584.376282  446.301331  111.247437   67.397308    0.435922      1  drowsy\n",
      "1  175.928925  209.178131  351.857849  356.997742    0.274798      1  drowsy]\n",
      "Objects detected!\n"
     ]
    },
    {
     "name": "stderr",
     "output_type": "stream",
     "text": [
      "C:\\Users\\Rakshitha/.cache\\torch\\hub\\ultralytics_yolov5_master\\models\\common.py:894: FutureWarning: `torch.cuda.amp.autocast(args...)` is deprecated. Please use `torch.amp.autocast('cuda', args...)` instead.\n",
      "  with amp.autocast(autocast):\n",
      "C:\\Users\\Rakshitha/.cache\\torch\\hub\\ultralytics_yolov5_master\\models\\common.py:894: FutureWarning: `torch.cuda.amp.autocast(args...)` is deprecated. Please use `torch.amp.autocast('cuda', args...)` instead.\n",
      "  with amp.autocast(autocast):\n"
     ]
    },
    {
     "name": "stdout",
     "output_type": "stream",
     "text": [
      "[      xcenter     ycenter       width      height  confidence  class    name\n",
      "0  587.454346  453.137238  100.597656   52.138794    0.457793      0   awake\n",
      "1  587.354126  452.659882  105.291809   54.680237    0.350962      1  drowsy\n",
      "2  178.449524  206.808014  351.308105  339.627991    0.327406      1  drowsy]\n",
      "Objects detected!\n",
      "[      xcenter     ycenter       width      height  confidence  class    name\n",
      "0  216.781464  231.320709  345.809753  340.905334    0.531449      1  drowsy\n",
      "1   91.419220  394.527710  182.838440  148.947937    0.298502      1  drowsy]\n",
      "Objects detected!\n"
     ]
    },
    {
     "name": "stderr",
     "output_type": "stream",
     "text": [
      "C:\\Users\\Rakshitha/.cache\\torch\\hub\\ultralytics_yolov5_master\\models\\common.py:894: FutureWarning: `torch.cuda.amp.autocast(args...)` is deprecated. Please use `torch.amp.autocast('cuda', args...)` instead.\n",
      "  with amp.autocast(autocast):\n",
      "C:\\Users\\Rakshitha/.cache\\torch\\hub\\ultralytics_yolov5_master\\models\\common.py:894: FutureWarning: `torch.cuda.amp.autocast(args...)` is deprecated. Please use `torch.amp.autocast('cuda', args...)` instead.\n",
      "  with amp.autocast(autocast):\n"
     ]
    },
    {
     "name": "stdout",
     "output_type": "stream",
     "text": [
      "[      xcenter     ycenter       width      height  confidence  class    name\n",
      "0  245.228455  237.158325  322.876465  314.699219    0.398056      1  drowsy\n",
      "1   36.251816  390.756042   69.610291  149.500732    0.351391      1  drowsy]\n",
      "Objects detected!\n",
      "[      xcenter     ycenter       width      height  confidence  class    name\n",
      "0   50.160545  371.591766  100.321091  216.816467    0.548057      1  drowsy\n",
      "1  281.032776  240.390778  317.447815  325.822998    0.444432      1  drowsy\n",
      "2   34.414097  309.489960   68.039711  125.769714    0.416124      1  drowsy\n",
      "3  485.178650  420.749756  181.291382  102.674072    0.367597      0   awake\n",
      "4  483.286591  422.117920  173.350159  101.487854    0.264914      1  drowsy]\n",
      "Objects detected!\n"
     ]
    },
    {
     "name": "stderr",
     "output_type": "stream",
     "text": [
      "C:\\Users\\Rakshitha/.cache\\torch\\hub\\ultralytics_yolov5_master\\models\\common.py:894: FutureWarning: `torch.cuda.amp.autocast(args...)` is deprecated. Please use `torch.amp.autocast('cuda', args...)` instead.\n",
      "  with amp.autocast(autocast):\n",
      "C:\\Users\\Rakshitha/.cache\\torch\\hub\\ultralytics_yolov5_master\\models\\common.py:894: FutureWarning: `torch.cuda.amp.autocast(args...)` is deprecated. Please use `torch.amp.autocast('cuda', args...)` instead.\n",
      "  with amp.autocast(autocast):\n",
      "C:\\Users\\Rakshitha/.cache\\torch\\hub\\ultralytics_yolov5_master\\models\\common.py:894: FutureWarning: `torch.cuda.amp.autocast(args...)` is deprecated. Please use `torch.amp.autocast('cuda', args...)` instead.\n",
      "  with amp.autocast(autocast):\n"
     ]
    },
    {
     "name": "stdout",
     "output_type": "stream",
     "text": [
      "[      xcenter     ycenter       width      height  confidence  class    name\n",
      "0   45.717285  317.569611   88.414871  149.877563    0.783160      1  drowsy\n",
      "1  301.863403  241.610352  330.453552  339.433472    0.472929      1  drowsy\n",
      "2  500.541748  415.892395  179.697784  128.215240    0.277159      0   awake\n",
      "3  508.075256  414.447968  217.699219  113.420410    0.250708      1  drowsy]\n",
      "Objects detected!\n",
      "[      xcenter     ycenter       width      height  confidence  class    name\n",
      "0   48.086277  314.832092   93.211845  143.149796    0.827228      1  drowsy\n",
      "1  319.241333  233.504883  309.200378  360.992432    0.412510      1  drowsy]\n",
      "Objects detected!\n"
     ]
    },
    {
     "name": "stderr",
     "output_type": "stream",
     "text": [
      "C:\\Users\\Rakshitha/.cache\\torch\\hub\\ultralytics_yolov5_master\\models\\common.py:894: FutureWarning: `torch.cuda.amp.autocast(args...)` is deprecated. Please use `torch.amp.autocast('cuda', args...)` instead.\n",
      "  with amp.autocast(autocast):\n",
      "C:\\Users\\Rakshitha/.cache\\torch\\hub\\ultralytics_yolov5_master\\models\\common.py:894: FutureWarning: `torch.cuda.amp.autocast(args...)` is deprecated. Please use `torch.amp.autocast('cuda', args...)` instead.\n",
      "  with amp.autocast(autocast):\n"
     ]
    },
    {
     "name": "stdout",
     "output_type": "stream",
     "text": [
      "[      xcenter     ycenter       width      height  confidence  class    name\n",
      "0   47.126526  316.854797   92.999146  149.216919    0.824746      1  drowsy\n",
      "1  319.328491  233.826233  331.196228  336.005859    0.544312      1  drowsy]\n",
      "Objects detected!\n",
      "[      xcenter     ycenter       width      height  confidence  class    name\n",
      "0   47.187050  316.379303   93.491226  143.295837    0.797938      1  drowsy\n",
      "1  323.217133  233.721146  314.254822  357.322479    0.460735      1  drowsy]\n",
      "Objects detected!\n"
     ]
    },
    {
     "name": "stderr",
     "output_type": "stream",
     "text": [
      "C:\\Users\\Rakshitha/.cache\\torch\\hub\\ultralytics_yolov5_master\\models\\common.py:894: FutureWarning: `torch.cuda.amp.autocast(args...)` is deprecated. Please use `torch.amp.autocast('cuda', args...)` instead.\n",
      "  with amp.autocast(autocast):\n",
      "C:\\Users\\Rakshitha/.cache\\torch\\hub\\ultralytics_yolov5_master\\models\\common.py:894: FutureWarning: `torch.cuda.amp.autocast(args...)` is deprecated. Please use `torch.amp.autocast('cuda', args...)` instead.\n",
      "  with amp.autocast(autocast):\n"
     ]
    },
    {
     "name": "stdout",
     "output_type": "stream",
     "text": [
      "[      xcenter     ycenter       width      height  confidence  class    name\n",
      "0   47.880775  301.516937   89.417480  123.557617    0.593822      0   awake\n",
      "1  322.462067  219.619904  288.877869  318.383728    0.482700      0   awake\n",
      "2   44.620327  300.646088   89.240654  125.228806    0.331726      1  drowsy]\n",
      "Objects detected!\n",
      "[      xcenter     ycenter       width      height  confidence  class    name\n",
      "0   46.385490  305.905457   89.535538  152.271118    0.727147      1  drowsy\n",
      "1  323.227631  214.765488  287.801208  308.288666    0.455423      0   awake]\n",
      "Objects detected!\n"
     ]
    },
    {
     "name": "stderr",
     "output_type": "stream",
     "text": [
      "C:\\Users\\Rakshitha/.cache\\torch\\hub\\ultralytics_yolov5_master\\models\\common.py:894: FutureWarning: `torch.cuda.amp.autocast(args...)` is deprecated. Please use `torch.amp.autocast('cuda', args...)` instead.\n",
      "  with amp.autocast(autocast):\n",
      "C:\\Users\\Rakshitha/.cache\\torch\\hub\\ultralytics_yolov5_master\\models\\common.py:894: FutureWarning: `torch.cuda.amp.autocast(args...)` is deprecated. Please use `torch.amp.autocast('cuda', args...)` instead.\n",
      "  with amp.autocast(autocast):\n"
     ]
    },
    {
     "name": "stdout",
     "output_type": "stream",
     "text": [
      "[      xcenter     ycenter       width      height  confidence  class    name\n",
      "0   47.009270  313.800415   92.830948  145.736801    0.720035      1  drowsy\n",
      "1  325.527283  229.884125  249.092529  329.470154    0.550994      0   awake]\n",
      "Objects detected!\n",
      "[      xcenter     ycenter       width      height  confidence  class    name\n",
      "0   48.462242  327.788483   93.826340  171.333191    0.788050      1  drowsy\n",
      "1  332.402100  228.120361  272.374023  319.670776    0.545006      1  drowsy]\n",
      "Objects detected!\n"
     ]
    },
    {
     "name": "stderr",
     "output_type": "stream",
     "text": [
      "C:\\Users\\Rakshitha/.cache\\torch\\hub\\ultralytics_yolov5_master\\models\\common.py:894: FutureWarning: `torch.cuda.amp.autocast(args...)` is deprecated. Please use `torch.amp.autocast('cuda', args...)` instead.\n",
      "  with amp.autocast(autocast):\n",
      "C:\\Users\\Rakshitha/.cache\\torch\\hub\\ultralytics_yolov5_master\\models\\common.py:894: FutureWarning: `torch.cuda.amp.autocast(args...)` is deprecated. Please use `torch.amp.autocast('cuda', args...)` instead.\n",
      "  with amp.autocast(autocast):\n"
     ]
    },
    {
     "name": "stdout",
     "output_type": "stream",
     "text": [
      "[      xcenter     ycenter       width      height  confidence  class    name\n",
      "0   48.048290  320.336151   93.909248  144.384033    0.819402      1  drowsy\n",
      "1  330.265594  222.158417  278.750122  298.259216    0.529523      0   awake]\n",
      "Objects detected!\n",
      "[      xcenter     ycenter       width      height  confidence  class    name\n",
      "0   51.080673  334.899323   98.737183  163.929382    0.787533      1  drowsy\n",
      "1  344.504761  232.264206  282.533081  311.893463    0.472679      1  drowsy]\n",
      "Objects detected!\n"
     ]
    },
    {
     "name": "stderr",
     "output_type": "stream",
     "text": [
      "C:\\Users\\Rakshitha/.cache\\torch\\hub\\ultralytics_yolov5_master\\models\\common.py:894: FutureWarning: `torch.cuda.amp.autocast(args...)` is deprecated. Please use `torch.amp.autocast('cuda', args...)` instead.\n",
      "  with amp.autocast(autocast):\n",
      "C:\\Users\\Rakshitha/.cache\\torch\\hub\\ultralytics_yolov5_master\\models\\common.py:894: FutureWarning: `torch.cuda.amp.autocast(args...)` is deprecated. Please use `torch.amp.autocast('cuda', args...)` instead.\n",
      "  with amp.autocast(autocast):\n"
     ]
    },
    {
     "name": "stdout",
     "output_type": "stream",
     "text": [
      "[      xcenter     ycenter       width      height  confidence  class    name\n",
      "0   51.056805  332.093842   98.563316  152.899353    0.846715      1  drowsy\n",
      "1  345.791840  234.728134  268.754578  314.395416    0.510542      0   awake\n",
      "2  518.279541  408.268005  180.014404  143.464020    0.333832      0   awake]\n",
      "Objects detected!\n",
      "[      xcenter     ycenter       width      height  confidence  class    name\n",
      "0   51.444077  331.188538   99.364960  157.436462    0.849394      1  drowsy\n",
      "1  347.776367  230.615631  270.409424  329.967712    0.448224      0   awake]\n",
      "Objects detected!\n"
     ]
    },
    {
     "name": "stderr",
     "output_type": "stream",
     "text": [
      "C:\\Users\\Rakshitha/.cache\\torch\\hub\\ultralytics_yolov5_master\\models\\common.py:894: FutureWarning: `torch.cuda.amp.autocast(args...)` is deprecated. Please use `torch.amp.autocast('cuda', args...)` instead.\n",
      "  with amp.autocast(autocast):\n",
      "C:\\Users\\Rakshitha/.cache\\torch\\hub\\ultralytics_yolov5_master\\models\\common.py:894: FutureWarning: `torch.cuda.amp.autocast(args...)` is deprecated. Please use `torch.amp.autocast('cuda', args...)` instead.\n",
      "  with amp.autocast(autocast):\n"
     ]
    },
    {
     "name": "stdout",
     "output_type": "stream",
     "text": [
      "[      xcenter     ycenter       width      height  confidence  class    name\n",
      "0   52.755821  321.351654  102.076614  143.822693    0.856688      1  drowsy\n",
      "1  352.398163  215.616821  279.948425  316.407837    0.467839      0   awake]\n",
      "Objects detected!\n",
      "[      xcenter     ycenter       width      height  confidence  class    name\n",
      "0   59.384777  327.245819  111.495186  152.421021    0.864337      1  drowsy\n",
      "1  361.749237  221.018585  259.778687  285.973938    0.489777      1  drowsy]\n",
      "Objects detected!\n"
     ]
    },
    {
     "name": "stderr",
     "output_type": "stream",
     "text": [
      "C:\\Users\\Rakshitha/.cache\\torch\\hub\\ultralytics_yolov5_master\\models\\common.py:894: FutureWarning: `torch.cuda.amp.autocast(args...)` is deprecated. Please use `torch.amp.autocast('cuda', args...)` instead.\n",
      "  with amp.autocast(autocast):\n",
      "C:\\Users\\Rakshitha/.cache\\torch\\hub\\ultralytics_yolov5_master\\models\\common.py:894: FutureWarning: `torch.cuda.amp.autocast(args...)` is deprecated. Please use `torch.amp.autocast('cuda', args...)` instead.\n",
      "  with amp.autocast(autocast):\n"
     ]
    },
    {
     "name": "stdout",
     "output_type": "stream",
     "text": [
      "[      xcenter     ycenter       width      height  confidence  class    name\n",
      "0   58.994324  328.376862  107.595612  143.599792    0.743602      1  drowsy\n",
      "1  362.826447  234.567856  242.258591  275.823212    0.620516      0   awake\n",
      "2  539.489380  413.277130  166.195587  132.252502    0.284399      1  drowsy]\n",
      "Objects detected!\n",
      "[     xcenter     ycenter       width      height  confidence  class    name\n",
      "0  84.928284  340.724121  169.856567  224.591492    0.323489      1  drowsy]\n",
      "Objects detected!\n"
     ]
    },
    {
     "name": "stderr",
     "output_type": "stream",
     "text": [
      "C:\\Users\\Rakshitha/.cache\\torch\\hub\\ultralytics_yolov5_master\\models\\common.py:894: FutureWarning: `torch.cuda.amp.autocast(args...)` is deprecated. Please use `torch.amp.autocast('cuda', args...)` instead.\n",
      "  with amp.autocast(autocast):\n",
      "C:\\Users\\Rakshitha/.cache\\torch\\hub\\ultralytics_yolov5_master\\models\\common.py:894: FutureWarning: `torch.cuda.amp.autocast(args...)` is deprecated. Please use `torch.amp.autocast('cuda', args...)` instead.\n",
      "  with amp.autocast(autocast):\n"
     ]
    },
    {
     "name": "stdout",
     "output_type": "stream",
     "text": [
      "[      xcenter     ycenter       width     height  confidence  class    name\n",
      "0   61.289318  327.114166  107.853569  149.63385    0.789515      1  drowsy\n",
      "1  369.055634  236.300995  214.824890  263.24469    0.695248      0   awake]\n",
      "Objects detected!\n",
      "[      xcenter     ycenter       width      height  confidence  class    name\n",
      "0   59.940529  329.382843  109.774918  156.726868    0.861054      1  drowsy\n",
      "1  373.778137  239.945251  212.878174  268.191162    0.599038      0   awake]\n",
      "Objects detected!\n"
     ]
    },
    {
     "name": "stderr",
     "output_type": "stream",
     "text": [
      "C:\\Users\\Rakshitha/.cache\\torch\\hub\\ultralytics_yolov5_master\\models\\common.py:894: FutureWarning: `torch.cuda.amp.autocast(args...)` is deprecated. Please use `torch.amp.autocast('cuda', args...)` instead.\n",
      "  with amp.autocast(autocast):\n",
      "C:\\Users\\Rakshitha/.cache\\torch\\hub\\ultralytics_yolov5_master\\models\\common.py:894: FutureWarning: `torch.cuda.amp.autocast(args...)` is deprecated. Please use `torch.amp.autocast('cuda', args...)` instead.\n",
      "  with amp.autocast(autocast):\n"
     ]
    },
    {
     "name": "stdout",
     "output_type": "stream",
     "text": [
      "[      xcenter     ycenter       width      height  confidence  class    name\n",
      "0   57.989815  326.758392  107.243515  148.876785    0.872999      1  drowsy\n",
      "1  377.935852  246.147522  222.555969  278.994629    0.515824      0   awake]\n",
      "Objects detected!\n",
      "[      xcenter     ycenter       width      height  confidence  class    name\n",
      "0   58.233131  328.030640  110.786972  151.705627    0.874396      1  drowsy\n",
      "1  383.311646  246.975861  258.504883  300.068054    0.277425      1  drowsy]\n",
      "Objects detected!\n"
     ]
    },
    {
     "name": "stderr",
     "output_type": "stream",
     "text": [
      "C:\\Users\\Rakshitha/.cache\\torch\\hub\\ultralytics_yolov5_master\\models\\common.py:894: FutureWarning: `torch.cuda.amp.autocast(args...)` is deprecated. Please use `torch.amp.autocast('cuda', args...)` instead.\n",
      "  with amp.autocast(autocast):\n",
      "C:\\Users\\Rakshitha/.cache\\torch\\hub\\ultralytics_yolov5_master\\models\\common.py:894: FutureWarning: `torch.cuda.amp.autocast(args...)` is deprecated. Please use `torch.amp.autocast('cuda', args...)` instead.\n",
      "  with amp.autocast(autocast):\n"
     ]
    },
    {
     "name": "stdout",
     "output_type": "stream",
     "text": [
      "[    xcenter   ycenter       width      height  confidence  class    name\n",
      "0  58.41954  327.7901  108.121307  158.373062    0.867908      1  drowsy]\n",
      "Objects detected!\n",
      "[     xcenter     ycenter       width      height  confidence  class    name\n",
      "0  58.594772  326.970642  111.516602  156.664917    0.866284      1  drowsy]\n",
      "Objects detected!\n"
     ]
    },
    {
     "name": "stderr",
     "output_type": "stream",
     "text": [
      "C:\\Users\\Rakshitha/.cache\\torch\\hub\\ultralytics_yolov5_master\\models\\common.py:894: FutureWarning: `torch.cuda.amp.autocast(args...)` is deprecated. Please use `torch.amp.autocast('cuda', args...)` instead.\n",
      "  with amp.autocast(autocast):\n"
     ]
    },
    {
     "name": "stdout",
     "output_type": "stream",
     "text": [
      "[      xcenter     ycenter       width      height  confidence  class    name\n",
      "0   59.735909  326.717072  110.360184  158.195389    0.765848      1  drowsy\n",
      "1  398.606506  245.236679  267.610016  314.099701    0.338454      1  drowsy]\n",
      "Objects detected!\n",
      "[      xcenter     ycenter       width      height  confidence  class    name\n",
      "0   56.273605  325.600922  104.535660  150.719559    0.806124      1  drowsy\n",
      "1  393.765442  243.618073  271.354004  301.999084    0.451958      1  drowsy]\n",
      "Objects detected!\n"
     ]
    },
    {
     "name": "stderr",
     "output_type": "stream",
     "text": [
      "C:\\Users\\Rakshitha/.cache\\torch\\hub\\ultralytics_yolov5_master\\models\\common.py:894: FutureWarning: `torch.cuda.amp.autocast(args...)` is deprecated. Please use `torch.amp.autocast('cuda', args...)` instead.\n",
      "  with amp.autocast(autocast):\n",
      "C:\\Users\\Rakshitha/.cache\\torch\\hub\\ultralytics_yolov5_master\\models\\common.py:894: FutureWarning: `torch.cuda.amp.autocast(args...)` is deprecated. Please use `torch.amp.autocast('cuda', args...)` instead.\n",
      "  with amp.autocast(autocast):\n",
      "C:\\Users\\Rakshitha/.cache\\torch\\hub\\ultralytics_yolov5_master\\models\\common.py:894: FutureWarning: `torch.cuda.amp.autocast(args...)` is deprecated. Please use `torch.amp.autocast('cuda', args...)` instead.\n",
      "  with amp.autocast(autocast):\n"
     ]
    },
    {
     "name": "stdout",
     "output_type": "stream",
     "text": [
      "[      xcenter     ycenter       width      height  confidence  class    name\n",
      "0   57.001610  326.033112  104.735062  150.288162    0.870328      1  drowsy\n",
      "1  388.449829  239.293060  276.347290  322.711548    0.353031      1  drowsy]\n",
      "Objects detected!\n",
      "[      xcenter     ycenter       width      height  confidence  class    name\n",
      "0   58.494499  327.308105  107.602859  154.124893    0.857022      1  drowsy\n",
      "1  390.042236  235.072021  297.185303  333.115479    0.532325      1  drowsy]\n",
      "Objects detected!\n"
     ]
    },
    {
     "name": "stderr",
     "output_type": "stream",
     "text": [
      "C:\\Users\\Rakshitha/.cache\\torch\\hub\\ultralytics_yolov5_master\\models\\common.py:894: FutureWarning: `torch.cuda.amp.autocast(args...)` is deprecated. Please use `torch.amp.autocast('cuda', args...)` instead.\n",
      "  with amp.autocast(autocast):\n",
      "C:\\Users\\Rakshitha/.cache\\torch\\hub\\ultralytics_yolov5_master\\models\\common.py:894: FutureWarning: `torch.cuda.amp.autocast(args...)` is deprecated. Please use `torch.amp.autocast('cuda', args...)` instead.\n",
      "  with amp.autocast(autocast):\n"
     ]
    },
    {
     "name": "stdout",
     "output_type": "stream",
     "text": [
      "[      xcenter     ycenter       width      height  confidence  class    name\n",
      "0   56.971062  326.935059  105.870590  152.070740    0.885826      1  drowsy\n",
      "1  390.763306  238.481842  273.224823  317.567932    0.464761      1  drowsy]\n",
      "Objects detected!\n",
      "[     xcenter     ycenter       width      height  confidence  class    name\n",
      "0  57.791481  323.769226  108.819397  145.146667    0.851501      1  drowsy]\n",
      "Objects detected!\n"
     ]
    },
    {
     "name": "stderr",
     "output_type": "stream",
     "text": [
      "C:\\Users\\Rakshitha/.cache\\torch\\hub\\ultralytics_yolov5_master\\models\\common.py:894: FutureWarning: `torch.cuda.amp.autocast(args...)` is deprecated. Please use `torch.amp.autocast('cuda', args...)` instead.\n",
      "  with amp.autocast(autocast):\n",
      "C:\\Users\\Rakshitha/.cache\\torch\\hub\\ultralytics_yolov5_master\\models\\common.py:894: FutureWarning: `torch.cuda.amp.autocast(args...)` is deprecated. Please use `torch.amp.autocast('cuda', args...)` instead.\n",
      "  with amp.autocast(autocast):\n"
     ]
    },
    {
     "name": "stdout",
     "output_type": "stream",
     "text": [
      "[      xcenter     ycenter       width      height  confidence  class    name\n",
      "0   57.446186  323.371857  106.062416  144.889954    0.863812      1  drowsy\n",
      "1  394.888885  240.729645  281.822449  325.274231    0.464918      1  drowsy]\n",
      "Objects detected!\n",
      "[      xcenter     ycenter       width      height  confidence  class    name\n",
      "0   58.359409  324.380219  108.160469  145.013611    0.850688      1  drowsy\n",
      "1  395.986328  240.012878  285.357666  315.144653    0.302555      1  drowsy]\n",
      "Objects detected!\n"
     ]
    },
    {
     "name": "stderr",
     "output_type": "stream",
     "text": [
      "C:\\Users\\Rakshitha/.cache\\torch\\hub\\ultralytics_yolov5_master\\models\\common.py:894: FutureWarning: `torch.cuda.amp.autocast(args...)` is deprecated. Please use `torch.amp.autocast('cuda', args...)` instead.\n",
      "  with amp.autocast(autocast):\n",
      "C:\\Users\\Rakshitha/.cache\\torch\\hub\\ultralytics_yolov5_master\\models\\common.py:894: FutureWarning: `torch.cuda.amp.autocast(args...)` is deprecated. Please use `torch.amp.autocast('cuda', args...)` instead.\n",
      "  with amp.autocast(autocast):\n"
     ]
    },
    {
     "name": "stdout",
     "output_type": "stream",
     "text": [
      "[      xcenter     ycenter       width      height  confidence  class    name\n",
      "0   57.682053  325.067200  109.080246  145.508240    0.883519      1  drowsy\n",
      "1  395.635620  238.838669  266.478790  306.361298    0.427612      0   awake]\n",
      "Objects detected!\n",
      "[      xcenter     ycenter       width      height  confidence  class    name\n",
      "0   58.562424  326.843689  106.467041  147.438965    0.877523      1  drowsy\n",
      "1  395.568604  236.924393  269.143280  303.097992    0.353491      1  drowsy]\n",
      "Objects detected!\n"
     ]
    },
    {
     "name": "stderr",
     "output_type": "stream",
     "text": [
      "C:\\Users\\Rakshitha/.cache\\torch\\hub\\ultralytics_yolov5_master\\models\\common.py:894: FutureWarning: `torch.cuda.amp.autocast(args...)` is deprecated. Please use `torch.amp.autocast('cuda', args...)` instead.\n",
      "  with amp.autocast(autocast):\n",
      "C:\\Users\\Rakshitha/.cache\\torch\\hub\\ultralytics_yolov5_master\\models\\common.py:894: FutureWarning: `torch.cuda.amp.autocast(args...)` is deprecated. Please use `torch.amp.autocast('cuda', args...)` instead.\n",
      "  with amp.autocast(autocast):\n"
     ]
    },
    {
     "name": "stdout",
     "output_type": "stream",
     "text": [
      "[      xcenter     ycenter       width      height  confidence  class    name\n",
      "0   59.105705  327.603302  107.624954  151.347534    0.872453      1  drowsy\n",
      "1  396.988098  239.844360  286.914398  305.082031    0.439207      1  drowsy]\n",
      "Objects detected!\n",
      "[      xcenter     ycenter       width      height  confidence  class    name\n",
      "0   58.792282  326.379425  109.133026  149.349243    0.869370      1  drowsy\n",
      "1  397.556580  238.767365  280.799896  304.025574    0.487551      1  drowsy]\n",
      "Objects detected!\n"
     ]
    },
    {
     "name": "stderr",
     "output_type": "stream",
     "text": [
      "C:\\Users\\Rakshitha/.cache\\torch\\hub\\ultralytics_yolov5_master\\models\\common.py:894: FutureWarning: `torch.cuda.amp.autocast(args...)` is deprecated. Please use `torch.amp.autocast('cuda', args...)` instead.\n",
      "  with amp.autocast(autocast):\n",
      "C:\\Users\\Rakshitha/.cache\\torch\\hub\\ultralytics_yolov5_master\\models\\common.py:894: FutureWarning: `torch.cuda.amp.autocast(args...)` is deprecated. Please use `torch.amp.autocast('cuda', args...)` instead.\n",
      "  with amp.autocast(autocast):\n"
     ]
    },
    {
     "name": "stdout",
     "output_type": "stream",
     "text": [
      "[      xcenter     ycenter       width      height  confidence  class    name\n",
      "0   58.661011  328.426483  108.232605  153.778015    0.870944      1  drowsy\n",
      "1  396.255798  238.930786  284.940796  316.197937    0.345970      1  drowsy]\n",
      "Objects detected!\n",
      "[      xcenter     ycenter       width     height  confidence  class    name\n",
      "0   57.124611  325.750732  106.563553  149.51915    0.877845      1  drowsy\n",
      "1  397.672729  240.494308  293.745392  307.77829    0.386599      1  drowsy]\n",
      "Objects detected!\n"
     ]
    },
    {
     "name": "stderr",
     "output_type": "stream",
     "text": [
      "C:\\Users\\Rakshitha/.cache\\torch\\hub\\ultralytics_yolov5_master\\models\\common.py:894: FutureWarning: `torch.cuda.amp.autocast(args...)` is deprecated. Please use `torch.amp.autocast('cuda', args...)` instead.\n",
      "  with amp.autocast(autocast):\n",
      "C:\\Users\\Rakshitha/.cache\\torch\\hub\\ultralytics_yolov5_master\\models\\common.py:894: FutureWarning: `torch.cuda.amp.autocast(args...)` is deprecated. Please use `torch.amp.autocast('cuda', args...)` instead.\n",
      "  with amp.autocast(autocast):\n"
     ]
    },
    {
     "name": "stdout",
     "output_type": "stream",
     "text": [
      "[      xcenter     ycenter       width      height  confidence  class    name\n",
      "0   57.586113  323.867981  104.283264  148.208740    0.788937      1  drowsy\n",
      "1  389.821716  233.743927  296.807251  332.088562    0.353061      1  drowsy]\n",
      "Objects detected!\n",
      "[      xcenter     ycenter       width      height  confidence  class    name\n",
      "0   58.395287  327.140472  106.062943  153.406677    0.862210      1  drowsy\n",
      "1  390.692596  240.506653  281.349304  311.357178    0.361275      1  drowsy\n",
      "2  563.696716  418.909058  145.844116  122.123230    0.298307      0   awake]\n",
      "Objects detected!\n"
     ]
    },
    {
     "name": "stderr",
     "output_type": "stream",
     "text": [
      "C:\\Users\\Rakshitha/.cache\\torch\\hub\\ultralytics_yolov5_master\\models\\common.py:894: FutureWarning: `torch.cuda.amp.autocast(args...)` is deprecated. Please use `torch.amp.autocast('cuda', args...)` instead.\n",
      "  with amp.autocast(autocast):\n",
      "C:\\Users\\Rakshitha/.cache\\torch\\hub\\ultralytics_yolov5_master\\models\\common.py:894: FutureWarning: `torch.cuda.amp.autocast(args...)` is deprecated. Please use `torch.amp.autocast('cuda', args...)` instead.\n",
      "  with amp.autocast(autocast):\n"
     ]
    },
    {
     "name": "stdout",
     "output_type": "stream",
     "text": [
      "[      xcenter     ycenter       width      height  confidence  class    name\n",
      "0   58.379734  326.899841  108.490303  151.519958    0.872998      1  drowsy\n",
      "1  388.631104  240.899139  261.030762  303.567871    0.470435      0   awake]\n",
      "Objects detected!\n",
      "[      xcenter     ycenter       width      height  confidence  class    name\n",
      "0   58.709724  326.119537  106.153580  152.171814    0.854088      1  drowsy\n",
      "1  398.267212  235.652374  280.999634  301.453064    0.516613      1  drowsy]\n",
      "Objects detected!\n"
     ]
    },
    {
     "name": "stderr",
     "output_type": "stream",
     "text": [
      "C:\\Users\\Rakshitha/.cache\\torch\\hub\\ultralytics_yolov5_master\\models\\common.py:894: FutureWarning: `torch.cuda.amp.autocast(args...)` is deprecated. Please use `torch.amp.autocast('cuda', args...)` instead.\n",
      "  with amp.autocast(autocast):\n"
     ]
    },
    {
     "name": "stdout",
     "output_type": "stream",
     "text": [
      "[      xcenter     ycenter       width      height  confidence  class    name\n",
      "0   58.345947  327.374298  106.834930  155.865295    0.845906      1  drowsy\n",
      "1  419.601227  234.232422  274.730896  322.723511    0.435043      1  drowsy]\n",
      "Objects detected!\n"
     ]
    }
   ],
   "source": [
    "import cv2\n",
    "import torch  # PyTorch for model loading\n",
    "\n",
    "# Load the YOLOv5 model (using a custom-trained model or a pre-trained model from the repository)\n",
    "model = torch.hub.load('ultralytics/yolov5', 'custom', path='C:/Users/Rakshitha/yolov5/runs/train/exp2/weights/last.pt')  # Path to custom weights\n",
    "\n",
    "# Set the model to evaluation mode (important for inference)\n",
    "model.eval()\n",
    "\n",
    "cap = cv2.VideoCapture(0)  # Start webcam capture\n",
    "\n",
    "while cap.isOpened():\n",
    "    ret, frame = cap.read()  # Read a frame from the webcam\n",
    "    if not ret:\n",
    "        print(\"Failed to grab frame\")\n",
    "        break\n",
    "\n",
    "    # Convert the frame from BGR (OpenCV format) to RGB (required by YOLO)\n",
    "    frame_rgb = cv2.cvtColor(frame, cv2.COLOR_BGR2RGB)\n",
    "\n",
    "    # Perform inference with YOLO\n",
    "    results = model(frame_rgb)  # Model inference\n",
    "\n",
    "    # Print the results to debug\n",
    "    print(results.pandas().xywh)  # Print the detected object information\n",
    "    \n",
    "    # Check if any detections were made.\n",
    "    if len(results.xywh[0]) > 0:\n",
    "        print(\"Objects detected!\")\n",
    "    else:\n",
    "        print(\"No objects detected.\")\n",
    "\n",
    "    # Render results: Draw bounding boxes and labels on the frame\n",
    "    results.render()  # This will modify the frame with boxes\n",
    "\n",
    "    # Convert back to BGR for OpenCV to display\n",
    "    # Display the frame with the detections\n",
    "    frame_bgr = cv2.cvtColor(results.ims[0], cv2.COLOR_RGB2BGR)  # Use `ims` instead of `imgs`\n",
    "\n",
    "    cv2.imshow('YOLO', frame_bgr)\n",
    "\n",
    "    # Exit the loop if the 'q' key is pressed\n",
    "    if cv2.waitKey(1) & 0xFF == ord('q'):\n",
    "        break\n",
    "\n",
    "cap.release()  # Release the webcam\n",
    "cv2.destroyAllWindows()  # Close OpenCV windows\n"
   ]
  },
  {
   "cell_type": "code",
   "execution_count": null,
   "id": "01fdecf4-dfad-40b4-8927-eb1bbf0a597a",
   "metadata": {},
   "outputs": [],
   "source": [
    "pip install opencv-python dlib numpy torch\n"
   ]
  },
  {
   "cell_type": "code",
   "execution_count": null,
   "id": "d6c76163-cfea-4bfc-bb11-7cfab1e9ce40",
   "metadata": {},
   "outputs": [],
   "source": []
  }
 ],
 "metadata": {
  "kernelspec": {
   "display_name": "Python 3 (ipykernel)",
   "language": "python",
   "name": "python3"
  },
  "language_info": {
   "codemirror_mode": {
    "name": "ipython",
    "version": 3
   },
   "file_extension": ".py",
   "mimetype": "text/x-python",
   "name": "python",
   "nbconvert_exporter": "python",
   "pygments_lexer": "ipython3",
   "version": "3.12.7"
  }
 },
 "nbformat": 4,
 "nbformat_minor": 5
}
